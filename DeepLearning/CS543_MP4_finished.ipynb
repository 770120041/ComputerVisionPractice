{
  "nbformat": 4,
  "nbformat_minor": 0,
  "metadata": {
    "colab": {
      "name": "CS543_MP4.ipynb",
      "version": "0.3.2",
      "provenance": [],
      "collapsed_sections": []
    },
    "kernelspec": {
      "name": "python3",
      "display_name": "Python 3"
    },
    "accelerator": "GPU"
  },
  "cells": [
    {
      "metadata": {
        "colab_type": "text",
        "id": "wmCbxoDrADcF"
      },
      "cell_type": "markdown",
      "source": [
        "# Google Colab setup with Google Drive folder\n",
        "\n",
        "This notebook provides the code you need to set up Google Colab to run and import files from within a Google Drive folder.\n",
        "\n",
        "This will allow you to upload assignment code to your Google Drive and then run the code on Google Colab machines (with free GPUs if needed). \n",
        "\n",
        "You will need to create a folder in your Google Drive to hold your assignments and you will need to open Colaboratory within this folder before running the set up code (check the link above to see how)."
      ]
    },
    {
      "metadata": {
        "colab_type": "text",
        "id": "zWhrmhqVCyGH"
      },
      "cell_type": "markdown",
      "source": [
        "# Mount Google Drive\n",
        "\n",
        "This will allow the Colab machine to access Google Drive folders by mounting the drive on the machine. You will be asked to copy and paste an authentication code."
      ]
    },
    {
      "metadata": {
        "colab_type": "code",
        "id": "Wv2oKmF9AJtI",
        "outputId": "b4e7ce0e-2039-42bd-ea6b-a48945cf7f0e",
        "colab": {
          "base_uri": "https://localhost:8080/",
          "height": 124
        }
      },
      "cell_type": "code",
      "source": [
        "from google.colab import drive\n",
        "drive.mount('/content/gdrive/')"
      ],
      "execution_count": 11,
      "outputs": [
        {
          "output_type": "stream",
          "text": [
            "Go to this URL in a browser: https://accounts.google.com/o/oauth2/auth?client_id=947318989803-6bn6qk8qdgf4n4g3pfee6491hc0brc4i.apps.googleusercontent.com&redirect_uri=urn%3Aietf%3Awg%3Aoauth%3A2.0%3Aoob&scope=email%20https%3A%2F%2Fwww.googleapis.com%2Fauth%2Fdocs.test%20https%3A%2F%2Fwww.googleapis.com%2Fauth%2Fdrive%20https%3A%2F%2Fwww.googleapis.com%2Fauth%2Fdrive.photos.readonly%20https%3A%2F%2Fwww.googleapis.com%2Fauth%2Fpeopleapi.readonly&response_type=code\n",
            "\n",
            "Enter your authorization code:\n",
            "··········\n",
            "Mounted at /content/gdrive/\n"
          ],
          "name": "stdout"
        }
      ]
    },
    {
      "metadata": {
        "id": "kKGxaMcmP_Et",
        "colab_type": "code",
        "outputId": "c8ade3c9-366c-42fa-bc4c-8b09b1a019a2",
        "colab": {
          "base_uri": "https://localhost:8080/",
          "height": 34
        }
      },
      "cell_type": "code",
      "source": [
        "ls"
      ],
      "execution_count": 12,
      "outputs": [
        {
          "output_type": "stream",
          "text": [
            "\u001b[0m\u001b[01;34mgdrive\u001b[0m/  \u001b[01;34msample_data\u001b[0m/\n"
          ],
          "name": "stdout"
        }
      ]
    },
    {
      "metadata": {
        "colab_type": "text",
        "id": "4Qs04PPwDOFy"
      },
      "cell_type": "markdown",
      "source": [
        "# Change directory to allow imports\n",
        "\n",
        "\n",
        "As noted above, you should create a Google Drive folder to hold all your assignment files. You will need to add this code to the top of any python notebook you run to be able to import python files from your drive assignment folder (you should change the file path below to be your own assignment folder)."
      ]
    },
    {
      "metadata": {
        "colab_type": "code",
        "id": "UA2-UyfpEc9O",
        "colab": {}
      },
      "cell_type": "code",
      "source": [
        "import os\n",
        "os.chdir(\"/content/gdrive/My Drive/CS_543_MP4\")"
      ],
      "execution_count": 0,
      "outputs": []
    },
    {
      "metadata": {
        "id": "gyRCWAIyRHWc",
        "colab_type": "code",
        "outputId": "104655e6-e19f-4fca-a6e1-fbeb71fadc16",
        "colab": {
          "base_uri": "https://localhost:8080/",
          "height": 34
        }
      },
      "cell_type": "code",
      "source": [
        "ls # Check if this is your MP4 folder"
      ],
      "execution_count": 14,
      "outputs": [
        {
          "output_type": "stream",
          "text": [
            "\u001b[0m\u001b[01;34mdata\u001b[0m/  plot.png  submission_netid.csv\n"
          ],
          "name": "stdout"
        }
      ]
    },
    {
      "metadata": {
        "id": "SJOCaUMilRz_",
        "colab_type": "text"
      },
      "cell_type": "markdown",
      "source": [
        "# Copy data to local dir"
      ]
    },
    {
      "metadata": {
        "id": "90MxG_eRla0W",
        "colab_type": "code",
        "colab": {}
      },
      "cell_type": "code",
      "source": [
        "!mkdir /data\n",
        "!cp data/cifar100.tar.gz /data/\n",
        "!tar -xf /data/cifar100.tar.gz -C /data/\n",
        "!cp data/test.tar.gz /data\n",
        "!tar -xf /data/test.tar.gz -C /data\n",
        "!cp data/train.tar.gz /data\n",
        "!tar -xf /data/train.tar.gz -C /data/"
      ],
      "execution_count": 0,
      "outputs": []
    },
    {
      "metadata": {
        "id": "XvFEFItpl98p",
        "colab_type": "code",
        "outputId": "f7c34125-dcda-4b87-a9ff-5f83b5c1d101",
        "colab": {
          "base_uri": "https://localhost:8080/",
          "height": 34
        }
      },
      "cell_type": "code",
      "source": [
        "ls /data"
      ],
      "execution_count": 21,
      "outputs": [
        {
          "output_type": "stream",
          "text": [
            "\u001b[0m\u001b[01;34mcifar100\u001b[0m/  cifar100.tar.gz  \u001b[01;34mtest\u001b[0m/  test.tar.gz  \u001b[01;34mtrain\u001b[0m/  train.tar.gz\n"
          ],
          "name": "stdout"
        }
      ]
    },
    {
      "metadata": {
        "colab_type": "text",
        "id": "DDU5aVgR9QBx"
      },
      "cell_type": "markdown",
      "source": [
        "# Set up GPU and PyTorch\n",
        "\n",
        "First, ensure that your notebook on Colaboratory is set up to use GPU. After opening the notebook on Colaboratory, go to Edit>Notebook settings, select Python 3 under \"Runtime type,\" select GPU under \"Hardware accelerator,\" and save.\n",
        "\n",
        "Next, install PyTorch:"
      ]
    },
    {
      "metadata": {
        "colab_type": "code",
        "id": "kjbQtzKT9Uc2",
        "outputId": "3db8b8f2-7374-4363-cd46-2cde259c5974",
        "colab": {
          "base_uri": "https://localhost:8080/",
          "height": 121
        }
      },
      "cell_type": "code",
      "source": [
        "!pip3 install torch torchvision"
      ],
      "execution_count": 4,
      "outputs": [
        {
          "output_type": "stream",
          "text": [
            "Requirement already satisfied: torch in /usr/local/lib/python3.6/dist-packages (1.0.1.post2)\n",
            "Requirement already satisfied: torchvision in /usr/local/lib/python3.6/dist-packages (0.2.2.post3)\n",
            "Requirement already satisfied: pillow>=4.1.1 in /usr/local/lib/python3.6/dist-packages (from torchvision) (4.3.0)\n",
            "Requirement already satisfied: numpy in /usr/local/lib/python3.6/dist-packages (from torchvision) (1.16.3)\n",
            "Requirement already satisfied: six in /usr/local/lib/python3.6/dist-packages (from torchvision) (1.12.0)\n",
            "Requirement already satisfied: olefile in /usr/local/lib/python3.6/dist-packages (from pillow>=4.1.1->torchvision) (0.46)\n"
          ],
          "name": "stdout"
        }
      ]
    },
    {
      "metadata": {
        "colab_type": "text",
        "id": "u_BekZYY9Vzx"
      },
      "cell_type": "markdown",
      "source": [
        "Make sure that pytorch is installed and works with GPU:"
      ]
    },
    {
      "metadata": {
        "colab_type": "code",
        "id": "8TXSJWQa9efx",
        "outputId": "4316993b-534f-467c-d2b8-167e19dba1ca",
        "colab": {
          "base_uri": "https://localhost:8080/",
          "height": 34
        }
      },
      "cell_type": "code",
      "source": [
        "import torch\n",
        "a = torch.Tensor([1]).cuda()\n",
        "print(a)\n"
      ],
      "execution_count": 3,
      "outputs": [
        {
          "output_type": "stream",
          "text": [
            "tensor([1.], device='cuda:0')\n"
          ],
          "name": "stdout"
        }
      ]
    },
    {
      "metadata": {
        "id": "OEeRNsCjRXZK",
        "colab_type": "code",
        "outputId": "68342094-acc7-4c2d-f85b-1ca2fa1f38e5",
        "colab": {
          "base_uri": "https://localhost:8080/",
          "height": 34
        }
      },
      "cell_type": "code",
      "source": [
        "torch.cuda.is_available()"
      ],
      "execution_count": 5,
      "outputs": [
        {
          "output_type": "execute_result",
          "data": {
            "text/plain": [
              "True"
            ]
          },
          "metadata": {
            "tags": []
          },
          "execution_count": 5
        }
      ]
    },
    {
      "metadata": {
        "id": "qChgLJERsvZP",
        "colab_type": "text"
      },
      "cell_type": "markdown",
      "source": [
        "# Part 1"
      ]
    },
    {
      "metadata": {
        "id": "KtmakXzFLO9M",
        "colab_type": "code",
        "colab": {
          "base_uri": "https://localhost:8080/",
          "height": 34
        },
        "outputId": "9380fd50-0842-4d53-8cb4-8b60481e643b"
      },
      "cell_type": "code",
      "source": [
        "!pip3 install torchsummary"
      ],
      "execution_count": 39,
      "outputs": [
        {
          "output_type": "stream",
          "text": [
            "Requirement already satisfied: torchsummary in /usr/local/lib/python3.6/dist-packages (1.5.1)\n"
          ],
          "name": "stdout"
        }
      ]
    },
    {
      "metadata": {
        "id": "7dZ2mri1LQr9",
        "colab_type": "code",
        "colab": {}
      },
      "cell_type": "code",
      "source": [
        "from torchsummary import summary"
      ],
      "execution_count": 0,
      "outputs": []
    },
    {
      "metadata": {
        "id": "IlyCnvf6WzjR",
        "colab_type": "code",
        "outputId": "e2b8bca6-10b2-4c75-b147-64ebc54a2fa1",
        "colab": {
          "base_uri": "https://localhost:8080/",
          "height": 34
        }
      },
      "cell_type": "code",
      "source": [
        "\"\"\"Headers\"\"\"\n",
        "\n",
        "from __future__ import print_function\n",
        "from PIL import Image\n",
        "import os\n",
        "import os.path\n",
        "import numpy as np\n",
        "import sys\n",
        "if sys.version_info[0] == 2:\n",
        "    import cPickle as pickle\n",
        "else:\n",
        "    import pickle\n",
        "\n",
        "import torch.utils.data as data\n",
        "from torchvision.datasets.utils import download_url, check_integrity\n",
        "\n",
        "import csv\n",
        "%matplotlib inline\n",
        "import matplotlib\n",
        "import matplotlib.pyplot as plt\n",
        "import numpy as np\n",
        "import os.path\n",
        "import sys\n",
        "import torch\n",
        "import torch.utils.data\n",
        "import torchvision\n",
        "import torchvision.transforms as transforms\n",
        "\n",
        "from torch.autograd import Variable\n",
        "import torch.nn as nn\n",
        "import torch.nn.functional as F\n",
        "\n",
        "np.random.seed(111)\n",
        "torch.cuda.manual_seed_all(111)\n",
        "torch.manual_seed(111)"
      ],
      "execution_count": 6,
      "outputs": [
        {
          "output_type": "execute_result",
          "data": {
            "text/plain": [
              "<torch._C.Generator at 0x7f5e81a888d0>"
            ]
          },
          "metadata": {
            "tags": []
          },
          "execution_count": 6
        }
      ]
    },
    {
      "metadata": {
        "id": "137GhZMrcTuj",
        "colab_type": "text"
      },
      "cell_type": "markdown",
      "source": [
        "\n",
        "\n",
        "## **Just execute the cell below. This is the dataloader. DO NOT CHANGE ANYTHING IN HERE!**\n"
      ]
    },
    {
      "metadata": {
        "id": "URUH4fzzWqKr",
        "colab_type": "code",
        "colab": {}
      },
      "cell_type": "code",
      "source": [
        "\"\"\"\"\"\"\n",
        "\n",
        "class CIFAR10_CS543(data.Dataset):\n",
        "    \"\"\"`CIFAR10 <https://www.cs.toronto.edu/~kriz/cifar.html>`_ Dataset.\n",
        "\n",
        "    Args:\n",
        "        root (string): Root directory of dataset where directory\n",
        "            ``cifar-10-batches-py`` exists or will be saved to if download is set to True.\n",
        "        train (bool, optional): If True, creates dataset from training set, otherwise\n",
        "            creates from test set.\n",
        "        transform (callable, optional): A function/transform that  takes in an PIL image\n",
        "            and returns a transformed version. E.g, ``transforms.RandomCrop``\n",
        "        target_transform (callable, optional): A function/transform that takes in the\n",
        "            target and transforms it.\n",
        "        download (bool, optional): If true, downloads the dataset from the internet and\n",
        "            puts it in root directory. If dataset is already downloaded, it is not\n",
        "            downloaded again.\n",
        "\n",
        "    \"\"\"\n",
        "    base_folder = 'cifar100'\n",
        "    url = \"https://www.cs.toronto.edu/~kriz/cifar-10-python.tar.gz\"\n",
        "    filename = \"cifar100.tar.gz\"\n",
        "    tgz_md5 = 'c58f30108f718f92721af3b95e74349a'\n",
        "    train_list = [\n",
        "        ['data_batch_1', 'c99cafc152244af753f735de768cd75f'],\n",
        "        ['data_batch_2', 'd4bba439e000b95fd0a9bffe97cbabec'],\n",
        "        ['data_batch_3', '54ebc095f3ab1f0389bbae665268c751'],\n",
        "        ['data_batch_4', '634d18415352ddfa80567beed471001a'],\n",
        "        ['data_batch_5', '482c414d41f54cd18b22e5b47cb7c3cb'],\n",
        "    ]\n",
        "\n",
        "    test_list = [\n",
        "        ['test_batch', '40351d587109b95175f43aff81a1287e'],\n",
        "    ]\n",
        "\n",
        "    def __init__(self, root, fold=\"train\",\n",
        "                 transform=None, target_transform=None,\n",
        "                 download=False):\n",
        "        \n",
        "        fold = fold.lower()\n",
        "\n",
        "        self.train = False\n",
        "        self.test = False\n",
        "        self.val = False\n",
        "\n",
        "        if fold == \"train\":\n",
        "            self.train = True\n",
        "        elif fold == \"test\":\n",
        "            self.test = True\n",
        "        elif fold == \"val\":\n",
        "            self.val = True\n",
        "        else:\n",
        "            raise RuntimeError(\"Not train-val-test\")\n",
        "\n",
        "\n",
        "        self.root = os.path.expanduser(root)\n",
        "        self.transform = transform\n",
        "        self.target_transform = target_transform\n",
        "\n",
        "        fpath = os.path.join(root, self.filename)\n",
        "        if not self._check_integrity():\n",
        "            raise RuntimeError('Dataset not found or corrupted.' +\n",
        "                               ' Download it and extract the file again.')\n",
        "\n",
        "        # now load the picked numpy arrays\n",
        "        if self.train or self.val:\n",
        "            self.train_data = []\n",
        "            self.train_labels = []\n",
        "            for fentry in self.train_list:\n",
        "                f = fentry[0]\n",
        "                file = os.path.join(self.root, self.base_folder, f)\n",
        "                fo = open(file, 'rb')\n",
        "                if sys.version_info[0] == 2:\n",
        "                    entry = pickle.load(fo)\n",
        "                else:\n",
        "                    entry = pickle.load(fo, encoding='latin1')\n",
        "                self.train_data.append(entry['data'])\n",
        "                if 'labels' in entry:\n",
        "                    self.train_labels += entry['labels']\n",
        "                else:\n",
        "                    self.train_labels += entry['fine_labels']\n",
        "                fo.close()\n",
        "\n",
        "            self.train_data = np.concatenate(self.train_data)\n",
        "            self.train_data = self.train_data.reshape((50000, 3, 32, 32))\n",
        "            self.train_data = self.train_data.transpose((0, 2, 3, 1))  # convert to HWC\n",
        "            \n",
        "            p = np.arange(0,50000,10)\n",
        "            mask_train = np.ones((50000,), dtype=bool)\n",
        "            mask_train[p] = False\n",
        "            mask_val = np.zeros((50000,), dtype=bool)\n",
        "            mask_val[p] = True\n",
        "\n",
        "            copy_all_data = np.array(self.train_data)\n",
        "            self.val_data = np.array(copy_all_data[mask_val])\n",
        "            self.train_data = np.array(copy_all_data[mask_train])\n",
        "            \n",
        "            copy_all_labels = np.array(self.train_labels)\n",
        "            self.val_labels = np.array(copy_all_labels[mask_val])\n",
        "            self.train_labels = np.array(copy_all_labels[mask_train])\n",
        "\n",
        "        elif self.test:\n",
        "            f = self.test_list[0][0]\n",
        "            file = os.path.join(self.root, self.base_folder, f)\n",
        "            fo = open(file, 'rb')\n",
        "            if sys.version_info[0] == 2:\n",
        "                entry = pickle.load(fo)\n",
        "            else:\n",
        "                entry = pickle.load(fo, encoding='latin1')\n",
        "            self.test_data = entry['data']\n",
        "\n",
        "            if 'labels' in entry:\n",
        "                self.test_labels = entry['labels']\n",
        "            else:\n",
        "                self.test_labels = entry['fine_labels']\n",
        "            fo.close()\n",
        "            self.test_data = self.test_data.reshape((10000, 3, 32, 32))\n",
        "            self.test_data = self.test_data.transpose((0, 2, 3, 1))  # convert to HWC\n",
        "\n",
        "    def __getitem__(self, index):\n",
        "        \"\"\"\n",
        "        Args:\n",
        "            index (int): Index\n",
        "\n",
        "        Returns:\n",
        "            tuple: (image, target) where target is index of the target class.\n",
        "        \"\"\"\n",
        "        if self.train:\n",
        "            img, target = self.train_data[index], self.train_labels[index]\n",
        "        elif self.test:\n",
        "            img, target = self.test_data[index], self.test_labels[index]\n",
        "        elif self.val:\n",
        "            img, target = self.val_data[index], self.val_labels[index]\n",
        "\n",
        "        # doing this so that it is consistent with all other datasets\n",
        "        # to return a PIL Image\n",
        "        img = Image.fromarray(img)\n",
        "\n",
        "        if self.transform is not None:\n",
        "            img = self.transform(img)\n",
        "\n",
        "        if self.target_transform is not None:\n",
        "            target = self.target_transform(target)\n",
        "\n",
        "        return img, target\n",
        "\n",
        "    def __len__(self):\n",
        "        if self.train:\n",
        "            return len(self.train_data)\n",
        "        elif self.test:\n",
        "            return len(self.test_data)\n",
        "        elif self.val:\n",
        "            return len(self.val_data)\n",
        "\n",
        "    def _check_integrity(self):\n",
        "        root = self.root\n",
        "        for fentry in (self.train_list + self.test_list):\n",
        "            filename, md5 = fentry[0], fentry[1]\n",
        "            fpath = os.path.join(root, self.base_folder, filename)\n",
        "            if not check_integrity(fpath, md5):\n",
        "                return False\n",
        "        return True\n",
        "\n",
        "    def __repr__(self):\n",
        "        fmt_str = 'Dataset ' + self.__class__.__name__ + '\\n'\n",
        "        fmt_str += '    Number of datapoints: {}\\n'.format(self.__len__())\n",
        "        tmp = 'train' if self.train is True else 'test'\n",
        "        fmt_str += '    Split: {}\\n'.format(tmp)\n",
        "        fmt_str += '    Root Location: {}\\n'.format(self.root)\n",
        "        tmp = '    Transforms (if any): '\n",
        "        fmt_str += '{0}{1}\\n'.format(tmp, self.transform.__repr__().replace('\\n', '\\n' + ' ' * len(tmp)))\n",
        "        tmp = '    Target Transforms (if any): '\n",
        "        fmt_str += '{0}{1}'.format(tmp, self.target_transform.__repr__().replace('\\n', '\\n' + ' ' * len(tmp)))\n",
        "        return fmt_str\n",
        "\n",
        "\n",
        "class CIFAR100_CS543(CIFAR10_CS543):\n",
        "    \"\"\"`CIFAR100 <https://www.cs.toronto.edu/~kriz/cifar.html>`_ Dataset.\n",
        "\n",
        "    This is a subclass of the `CIFAR10` Dataset.\n",
        "    \"\"\"\n",
        "    base_folder = 'cifar100'\n",
        "    filename = \"cifar100.tar.gz\"\n",
        "    tgz_md5 = 'e68a4c763591787a0b39fe2209371f32'\n",
        "    train_list = [\n",
        "        ['train_cs543', '49eee854445c1e2ebe796cd93c20bb0f'],\n",
        "    ]\n",
        "\n",
        "    test_list = [\n",
        "        ['test_cs543', 'd3fe9f6a9251bd443f428f896d27384f'],\n",
        "    ]"
      ],
      "execution_count": 0,
      "outputs": []
    },
    {
      "metadata": {
        "id": "JpFMv7HtcII4",
        "colab_type": "text"
      },
      "cell_type": "markdown",
      "source": [
        "This file has been adapted from the easy-to-use tutorial released by PyTorch:\n",
        "http://pytorch.org/tutorials/beginner/blitz/cifar10_tutorial.html\n",
        "\n",
        "Training an image classifier\n",
        "----------------------------\n",
        "\n",
        "We will do the following steps in order:\n",
        "\n",
        "1. Load the CIFAR100_CS543 training, validation and test datasets using\n",
        "   torchvision. Use torchvision.transforms to apply transforms on the\n",
        "   dataset.\n",
        "2. Define a Convolution Neural Network - BaseNet\n",
        "3. Define a loss function and optimizer\n",
        "4. Train the network on training data and check performance on val set.\n",
        "   Plot train loss and validation accuracies.\n",
        "5. Try the network on test data and create .csv file for submission to kaggle"
      ]
    },
    {
      "metadata": {
        "id": "Ld6juH34dWWq",
        "colab_type": "code",
        "colab": {}
      },
      "cell_type": "code",
      "source": [
        "# <<TODO#5>> Based on the val set performance, decide how many\n",
        "# epochs are apt for your model.\n",
        "# ---------\n",
        "EPOCHS = 15\n",
        "# ---------\n",
        "\n",
        "IS_GPU = True\n",
        "TEST_BS = 256\n",
        "TOTAL_CLASSES = 100\n",
        "TRAIN_BS = 32\n",
        "PATH_TO_CIFAR100_CS543 = \"/data/\""
      ],
      "execution_count": 0,
      "outputs": []
    },
    {
      "metadata": {
        "id": "0ENlTTMi-qFD",
        "colab_type": "code",
        "outputId": "e17aa76d-6c40-4094-ddd6-13d7de67c671",
        "colab": {
          "base_uri": "https://localhost:8080/",
          "height": 34
        }
      },
      "cell_type": "code",
      "source": [
        "ls /data/cifar100/"
      ],
      "execution_count": 42,
      "outputs": [
        {
          "output_type": "stream",
          "text": [
            "test_cs543  train_cs543\n"
          ],
          "name": "stdout"
        }
      ]
    },
    {
      "metadata": {
        "id": "d57CSAj1dfix",
        "colab_type": "code",
        "colab": {}
      },
      "cell_type": "code",
      "source": [
        "def calculate_val_accuracy(valloader, is_gpu):\n",
        "    \"\"\" Util function to calculate val set accuracy,\n",
        "    both overall and per class accuracy\n",
        "    Args:\n",
        "        valloader (torch.utils.data.DataLoader): val set \n",
        "        is_gpu (bool): whether to run on GPU\n",
        "    Returns:\n",
        "        tuple: (overall accuracy, class level accuracy)\n",
        "    \"\"\"    \n",
        "    correct = 0.\n",
        "    total = 0.\n",
        "    predictions = []\n",
        "\n",
        "    class_correct = list(0. for i in range(TOTAL_CLASSES))\n",
        "    class_total = list(0. for i in range(TOTAL_CLASSES))\n",
        "\n",
        "    for data in valloader:\n",
        "        images, labels = data\n",
        "        if is_gpu:\n",
        "            images = images.cuda()\n",
        "            labels = labels.cuda()\n",
        "        outputs = net(Variable(images))\n",
        "        _, predicted = torch.max(outputs.data, 1)\n",
        "        predictions.extend(list(predicted.cpu().numpy()))\n",
        "        total += labels.size(0)\n",
        "        correct += (predicted == labels).sum()\n",
        "\n",
        "        c = (predicted == labels).squeeze()\n",
        "        for i in range(len(labels)):\n",
        "            label = labels[i]\n",
        "            class_correct[label] += c[i]\n",
        "            class_total[label] += 1\n",
        "\n",
        "    class_accuracy = 100 * np.divide(class_correct, class_total)\n",
        "    return 100*correct/total, class_accuracy"
      ],
      "execution_count": 0,
      "outputs": []
    },
    {
      "metadata": {
        "id": "aq2qOUaJeAWJ",
        "colab_type": "text"
      },
      "cell_type": "markdown",
      "source": [
        "1.** Loading CIFAR100_CS543**\n",
        "\n",
        "We modify the dataset to create CIFAR100_CS543 dataset which consist of 45000 training images (450 of each class), 5000 validation images (50 of each class) and 10000 test images (100 of each class). The train and val datasets have labels while all the labels in the test set are set to 0.\n"
      ]
    },
    {
      "metadata": {
        "id": "C2UcDZmtdfq3",
        "colab_type": "code",
        "outputId": "ed3b6244-3d06-4934-cc1f-71aae6649fb4",
        "colab": {
          "base_uri": "https://localhost:8080/",
          "height": 261
        }
      },
      "cell_type": "code",
      "source": [
        "# The output of torchvision datasets are PILImage images of range [0, 1].\n",
        "# Using transforms.ToTensor(), transform them to Tensors of normalized range\n",
        "# [-1, 1].\n",
        "\n",
        "\n",
        "# <<TODO#1>> Use transforms.Normalize() with the right parameters to \n",
        "# make the data well conditioned (zero mean, std dev=1) for improved training.\n",
        "# <<TODO#2>> Try using transforms.RandomCrop() and/or transforms.RandomHorizontalFlip()\n",
        "# to augment training data.\n",
        "# After your edits, make sure that test_transform should have the same data\n",
        "# normalization parameters as train_transform\n",
        "# You shouldn't have any data augmentation in test_transform (val or test data is never augmented).\n",
        "# ---------------------\n",
        "\n",
        "train_transform = transforms.Compose(\n",
        "    [\n",
        "    transforms.RandomCrop(32, padding=4),\n",
        "    transforms.RandomHorizontalFlip(),\n",
        "    transforms.ToTensor(),\n",
        "        # normalized value is cal through calculating mean and std of dataset\n",
        "    transforms.Normalize((0.4914, 0.4822, 0.4465), (0.2023, 0.1994, 0.2010))\n",
        "    ]\n",
        ")\n",
        "test_transform = transforms.Compose([\n",
        "    transforms.ToTensor(),\n",
        "    transforms.Normalize((0.4914, 0.4822, 0.4465), (0.2023, 0.1994, 0.2010))\n",
        "    ])\n",
        "# ---------------------\n",
        "\n",
        "trainset = CIFAR100_CS543(root=PATH_TO_CIFAR100_CS543, fold=\"train\",\n",
        "                                        download=True, transform=train_transform)\n",
        "print(trainset)\n",
        "trainloader = torch.utils.data.DataLoader(trainset, batch_size=TRAIN_BS,\n",
        "                                          shuffle=True, num_workers=2)\n",
        "print(\"Train set size: \"+str(len(trainset)))\n",
        "\n",
        "# mean = 0.\n",
        "# std = 0.\n",
        "# for images,_ in trainloader:\n",
        "#   batch_samples = images.size(0) # batch size (the last batch can have smaller size!)\n",
        "#   images = images.view(batch_samples, images.size(1), -1)\n",
        "#   mean += images.mean(2).sum(0)\n",
        "#   std += images.std(2).sum(0)\n",
        "\n",
        "# mean /= len(trainloader)\n",
        "# std /= len(trainloader)\n",
        "# print(\"mean\",mean)\n",
        "# print(\"std\",std)\n",
        "\n",
        "valset = CIFAR100_CS543(root=PATH_TO_CIFAR100_CS543, fold=\"val\",\n",
        "                                       download=True, transform=test_transform)\n",
        "valloader = torch.utils.data.DataLoader(valset, batch_size=TEST_BS,\n",
        "                                         shuffle=False, num_workers=2)\n",
        "print(\"Val set size: \"+str(len(valset)))\n",
        "\n",
        "testset = CIFAR100_CS543(root=PATH_TO_CIFAR100_CS543, fold=\"test\",\n",
        "                                       download=True, transform=test_transform)\n",
        "testloader = torch.utils.data.DataLoader(testset, batch_size=TEST_BS,\n",
        "                                         shuffle=False, num_workers=2)\n",
        "print(\"Test set size: \"+str(len(testset)))\n",
        "\n",
        "# The 100 classes for CIFAR100\n",
        "classes = ['apple', 'aquarium_fish', 'baby', 'bear', 'beaver', 'bed', 'bee', 'beetle', 'bicycle', 'bottle', 'bowl', 'boy', 'bridge', 'bus', 'butterfly', 'camel', 'can', 'castle', 'caterpillar', 'cattle', 'chair', 'chimpanzee', 'clock', 'cloud', 'cockroach', 'couch', 'crab', 'crocodile', 'cup', 'dinosaur', 'dolphin', 'elephant', 'flatfish', 'forest', 'fox', 'girl', 'hamster', 'house', 'kangaroo', 'keyboard', 'lamp', 'lawn_mower', 'leopard', 'lion', 'lizard', 'lobster', 'man', 'maple_tree', 'motorcycle', 'mountain', 'mouse', 'mushroom', 'oak_tree', 'orange', 'orchid', 'otter', 'palm_tree', 'pear', 'pickup_truck', 'pine_tree', 'plain', 'plate', 'poppy', 'porcupine', 'possum', 'rabbit', 'raccoon', 'ray', 'road', 'rocket', 'rose', 'sea', 'seal', 'shark', 'shrew', 'skunk', 'skyscraper', 'snail', 'snake', 'spider', 'squirrel', 'streetcar', 'sunflower', 'sweet_pepper', 'table', 'tank', 'telephone', 'television', 'tiger', 'tractor', 'train', 'trout', 'tulip', 'turtle', 'wardrobe', 'whale', 'willow_tree', 'wolf', 'woman', 'worm']\n",
        "\n"
      ],
      "execution_count": 48,
      "outputs": [
        {
          "output_type": "stream",
          "text": [
            "Dataset CIFAR100_CS543\n",
            "    Number of datapoints: 45000\n",
            "    Split: train\n",
            "    Root Location: /data/\n",
            "    Transforms (if any): Compose(\n",
            "                             RandomCrop(size=(32, 32), padding=4)\n",
            "                             RandomHorizontalFlip(p=0.5)\n",
            "                             ToTensor()\n",
            "                             Normalize(mean=(0.4914, 0.4822, 0.4465), std=(0.2023, 0.1994, 0.201))\n",
            "                         )\n",
            "    Target Transforms (if any): None\n",
            "Train set size: 45000\n",
            "Val set size: 5000\n",
            "Test set size: 10000\n"
          ],
          "name": "stdout"
        }
      ]
    },
    {
      "metadata": {
        "id": "5b_fBznndp4W",
        "colab_type": "code",
        "outputId": "8c1efa08-f5bb-4d07-84d8-3983a63fb8db",
        "colab": {
          "base_uri": "https://localhost:8080/",
          "height": 1050
        }
      },
      "cell_type": "code",
      "source": [
        "########################################################################\n",
        "# 2. Define a Convolution Neural Network\n",
        "# ^^^^^^^^^^^^^^^^^^^^^^^^^^^^^^^^^^^^^^\n",
        "# We provide a basic network that you should understand, run and\n",
        "# eventually improve\n",
        "# <<TODO>> Add more conv layers\n",
        "# <<TODO>> Add more fully connected (fc) layers\n",
        "# <<TODO>> Add regularization layers like Batchnorm.\n",
        "#          nn.BatchNorm2d after conv layers:\n",
        "#          http://pytorch.org/docs/master/nn.html#batchnorm2d\n",
        "#          nn.BatchNorm1d after fc layers:\n",
        "#          http://pytorch.org/docs/master/nn.html#batchnorm1d\n",
        "# This is a good resource for developing a CNN for classification:\n",
        "# http://cs231n.github.io/convolutional-networks/#layers\n",
        "\n",
        "import torch.nn as nn\n",
        "import torch.nn.functional as F\n",
        "\n",
        "class BaseNet(nn.Module):\n",
        "    def __init__(self):\n",
        "        super(BaseNet, self).__init__()\n",
        "       \n",
        "       # add 10 layers\n",
        "        \n",
        "        self.layer1 = nn.Sequential(\n",
        "            nn.Conv2d(3, 64, 3, padding=1),\n",
        "            nn.BatchNorm2d(64),\n",
        "            nn.ReLU(inplace=True),    \n",
        "        )\n",
        "        self.layer2 = nn.Sequential(\n",
        "            nn.Conv2d(64, 64, 3, padding=1),\n",
        "            nn.BatchNorm2d(64),\n",
        "            nn.ReLU(inplace=True),\n",
        "#             nn.MaxPool2d(2, stride=2),\n",
        "\n",
        "        )\n",
        "         \n",
        "        self.layer3 = nn.Sequential(\n",
        "            nn.Conv2d(64, 128, 3, padding=1),\n",
        "            nn.BatchNorm2d(128),\n",
        "            nn.ReLU(inplace=True),\n",
        "        )\n",
        "        self.layer4 = nn.Sequential(\n",
        "            nn.Conv2d(128, 128, 3, padding=1),\n",
        "            nn.BatchNorm2d(128),\n",
        "            nn.ReLU(inplace=True),\n",
        "            nn.MaxPool2d(2, stride=2),\n",
        "\n",
        "\n",
        "        )\n",
        "         \n",
        "        self.layer5 = nn.Sequential(\n",
        "            nn.Conv2d(128, 256, 3, padding=1),\n",
        "            nn.BatchNorm2d(256),\n",
        "            nn.ReLU(inplace=True),\n",
        "            nn.Conv2d(256, 256, 3, padding=1),\n",
        "            nn.BatchNorm2d(256),\n",
        "            nn.ReLU(inplace=True),   \n",
        "        )\n",
        "        self.layer6 = nn.Sequential(\n",
        "            nn.Conv2d(256, 256, 3, padding=1),\n",
        "            nn.BatchNorm2d(256),\n",
        "            nn.ReLU(inplace=True),\n",
        "#             nn.MaxPool2d(2, stride=2),\n",
        "\n",
        "\n",
        "        )\n",
        "        self.layer7 = nn.Sequential(\n",
        "            nn.Conv2d(256, 512, 3, padding=1),\n",
        "            nn.BatchNorm2d(512),\n",
        "            nn.ReLU(inplace=True),\n",
        "            nn.Conv2d(512, 512, 3, padding=1),\n",
        "            nn.BatchNorm2d(512),\n",
        "            nn.ReLU(inplace=True), \n",
        "        )\n",
        "        self.layer8 = nn.Sequential(\n",
        "            nn.Conv2d(512, 512, 3, padding=1),\n",
        "            nn.BatchNorm2d(512),\n",
        "            nn.ReLU(inplace=True),\n",
        "            nn.MaxPool2d(2, stride=2),\n",
        "\n",
        "        )\n",
        "        self.layer9 = nn.Sequential(\n",
        "            nn.Conv2d(512, 512, 3, padding=1),\n",
        "            nn.BatchNorm2d(512),\n",
        "            nn.ReLU(inplace=True),\n",
        "            nn.Conv2d(512, 512, 3, padding=1),\n",
        "            nn.BatchNorm2d(512),\n",
        "            nn.ReLU(inplace=True),\n",
        "        )\n",
        "        self.layer10 = nn.Sequential(\n",
        "            nn.Conv2d(512, 512, 3, padding=1),\n",
        "            nn.BatchNorm2d(512),\n",
        "            nn.ReLU(inplace=True),\n",
        "            nn.MaxPool2d(2, stride=2),\n",
        "        )\n",
        "        \n",
        "        \n",
        "        self.layer11 = nn.Sequential(\n",
        "            nn.Linear(512, 100)\n",
        "        )\n",
        "    def forward(self, x):\n",
        "        x = self.layer1(x)\n",
        "        x = self.layer2(x)\n",
        "        x = self.layer3(x)\n",
        "        x = self.layer4(x)\n",
        "        x = self.layer5(x)\n",
        "        x = self.layer6(x)\n",
        "        x = self.layer7(x)\n",
        "        x = self.layer8(x)\n",
        "        x = self.layer9(x)\n",
        "        x = self.layer10(x)\n",
        "#         print(\"after layer10:\",x.size())\n",
        "        x = x.view(-1, 512)\n",
        "#         print(\"after x.view:\",x.size())\n",
        "\n",
        "        x = self.layer11(x)\n",
        "        \n",
        "        return x\n",
        "\n",
        "# Create an instance of the nn.module class defined above:\n",
        "print('Building Net')\n",
        "net = BaseNet()\n",
        "start_epoch = 0\n",
        "# For training on GPU, we need to transfer net and data onto the GPU\n",
        "# http://pytorch.org/tutorials/beginner/blitz/cifar10_tutorial.html#training-on-gpu\n",
        "if IS_GPU:\n",
        "    net = net.cuda()\n",
        "    \n"
      ],
      "execution_count": 55,
      "outputs": [
        {
          "output_type": "stream",
          "text": [
            "Building Net\n",
            "----------------------------------------------------------------\n",
            "        Layer (type)               Output Shape         Param #\n",
            "================================================================\n",
            "            Conv2d-1           [-1, 64, 32, 32]           1,792\n",
            "       BatchNorm2d-2           [-1, 64, 32, 32]             128\n",
            "              ReLU-3           [-1, 64, 32, 32]               0\n",
            "            Conv2d-4           [-1, 64, 32, 32]          36,928\n",
            "       BatchNorm2d-5           [-1, 64, 32, 32]             128\n",
            "              ReLU-6           [-1, 64, 32, 32]               0\n",
            "            Conv2d-7          [-1, 128, 32, 32]          73,856\n",
            "       BatchNorm2d-8          [-1, 128, 32, 32]             256\n",
            "              ReLU-9          [-1, 128, 32, 32]               0\n",
            "           Conv2d-10          [-1, 128, 32, 32]         147,584\n",
            "      BatchNorm2d-11          [-1, 128, 32, 32]             256\n",
            "             ReLU-12          [-1, 128, 32, 32]               0\n",
            "        MaxPool2d-13          [-1, 128, 16, 16]               0\n",
            "           Conv2d-14          [-1, 256, 16, 16]         295,168\n",
            "      BatchNorm2d-15          [-1, 256, 16, 16]             512\n",
            "             ReLU-16          [-1, 256, 16, 16]               0\n",
            "           Conv2d-17          [-1, 256, 16, 16]         590,080\n",
            "      BatchNorm2d-18          [-1, 256, 16, 16]             512\n",
            "             ReLU-19          [-1, 256, 16, 16]               0\n",
            "           Conv2d-20          [-1, 256, 16, 16]         590,080\n",
            "      BatchNorm2d-21          [-1, 256, 16, 16]             512\n",
            "             ReLU-22          [-1, 256, 16, 16]               0\n",
            "           Conv2d-23          [-1, 512, 16, 16]       1,180,160\n",
            "      BatchNorm2d-24          [-1, 512, 16, 16]           1,024\n",
            "             ReLU-25          [-1, 512, 16, 16]               0\n",
            "           Conv2d-26          [-1, 512, 16, 16]       2,359,808\n",
            "      BatchNorm2d-27          [-1, 512, 16, 16]           1,024\n",
            "             ReLU-28          [-1, 512, 16, 16]               0\n",
            "           Conv2d-29          [-1, 512, 16, 16]       2,359,808\n",
            "      BatchNorm2d-30          [-1, 512, 16, 16]           1,024\n",
            "             ReLU-31          [-1, 512, 16, 16]               0\n",
            "        MaxPool2d-32            [-1, 512, 8, 8]               0\n",
            "           Conv2d-33            [-1, 512, 8, 8]       2,359,808\n",
            "      BatchNorm2d-34            [-1, 512, 8, 8]           1,024\n",
            "             ReLU-35            [-1, 512, 8, 8]               0\n",
            "           Conv2d-36            [-1, 512, 8, 8]       2,359,808\n",
            "      BatchNorm2d-37            [-1, 512, 8, 8]           1,024\n",
            "             ReLU-38            [-1, 512, 8, 8]               0\n",
            "           Conv2d-39            [-1, 512, 8, 8]       2,359,808\n",
            "      BatchNorm2d-40            [-1, 512, 8, 8]           1,024\n",
            "             ReLU-41            [-1, 512, 8, 8]               0\n",
            "        MaxPool2d-42            [-1, 512, 4, 4]               0\n",
            "           Linear-43                  [-1, 100]          51,300\n",
            "================================================================\n",
            "Total params: 14,774,436\n",
            "Trainable params: 14,774,436\n",
            "Non-trainable params: 0\n",
            "----------------------------------------------------------------\n",
            "Input size (MB): 0.01\n",
            "Forward/backward pass size (MB): 25.31\n",
            "Params size (MB): 56.36\n",
            "Estimated Total Size (MB): 81.68\n",
            "----------------------------------------------------------------\n"
          ],
          "name": "stdout"
        }
      ]
    },
    {
      "metadata": {
        "id": "zAZjIcLOdp-W",
        "colab_type": "code",
        "colab": {}
      },
      "cell_type": "code",
      "source": [
        "########################################################################\n",
        "# 3. Define a Loss function and optimizer\n",
        "# ^^^^^^^^^^^^^^^^^^^^^^^^^^^^^^^^^^^^^^^\n",
        "# Here we use Cross-Entropy loss and SGD with momentum.\n",
        "# The CrossEntropyLoss criterion already includes softmax within its\n",
        "# implementation. That's why we don't use a softmax in our model\n",
        "# definition.\n",
        "\n",
        "import torch.optim as optim\n",
        "criterion = nn.CrossEntropyLoss()\n",
        "\n",
        "# Tune the learning rate.\n",
        "# See whether the momentum is useful or not\n",
        "# optimizer = optim.SGD(net.parameters(), lr=0.005, momentum=0.9)\n",
        "optimizer = optim.SGD(net.parameters(), lr=0.01, momentum=0.9, weight_decay=5e-4)\n",
        "plt.ioff()\n",
        "fig = plt.figure()\n",
        "train_loss_over_epochs = []\n",
        "val_accuracy_over_epochs = []\n"
      ],
      "execution_count": 0,
      "outputs": []
    },
    {
      "metadata": {
        "id": "Ku7eF366dyUP",
        "colab_type": "code",
        "outputId": "242540a5-7075-4f8a-f521-4740004fa393",
        "colab": {
          "base_uri": "https://localhost:8080/",
          "height": 573
        }
      },
      "cell_type": "code",
      "source": [
        "########################################################################\n",
        "# 4. Train the network\n",
        "# ^^^^^^^^^^^^^^^^^^^^\n",
        "#\n",
        "# We simply have to loop over our data iterator, and feed the inputs to the\n",
        "# network and optimize. We evaluate the validation accuracy at each\n",
        "# epoch and plot these values over the number of epochs\n",
        "# Nothing to change here\n",
        "# -----------------------------\n",
        "for epoch in range(EPOCHS):  # loop over the dataset multiple times\n",
        "\n",
        "    running_loss = 0.0\n",
        "    for i, data in enumerate(trainloader, 0):\n",
        "        # get the inputs\n",
        "        inputs, labels = data\n",
        "\n",
        "        if IS_GPU:\n",
        "            inputs = inputs.cuda()\n",
        "            labels = labels.cuda()\n",
        "\n",
        "        # wrap them in Variable\n",
        "        inputs, labels = Variable(inputs), Variable(labels)\n",
        "\n",
        "        # zero the parameter gradients\n",
        "        optimizer.zero_grad()\n",
        "\n",
        "        # forward + backward + optimize\n",
        "        outputs = net(inputs)\n",
        "        loss = criterion(outputs, labels)\n",
        "        loss.backward()\n",
        "        optimizer.step()\n",
        "\n",
        "        # print statistics\n",
        "        running_loss += loss.item()\n",
        "    \n",
        "    # Normalizing the loss by the total number of train batches\n",
        "    running_loss/=len(trainloader)\n",
        "    print('[%d] loss: %.3f' %\n",
        "          (epoch + 1, running_loss))\n",
        "\n",
        "    # Scale of 0.0 to 100.0\n",
        "    # Calculate validation set accuracy of the existing model\n",
        "    val_accuracy, val_classwise_accuracy = \\\n",
        "        calculate_val_accuracy(valloader, IS_GPU)\n",
        "    print('Accuracy of the network on the val images: %d %%' % (val_accuracy))\n",
        "\n",
        "    # # Optionally print classwise accuracies\n",
        "    # for c_i in range(TOTAL_CLASSES):\n",
        "    #     print('Accuracy of %5s : %2d %%' % (\n",
        "    #         classes[c_i], 100 * val_classwise_accuracy[c_i]))\n",
        "\n",
        "    train_loss_over_epochs.append(running_loss)\n",
        "    val_accuracy_over_epochs.append(val_accuracy)\n",
        "# -----------------------------\n",
        "\n",
        "\n",
        "# Plot train loss over epochs and val set accuracy over epochs\n",
        "# Nothing to change here\n",
        "# -------------\n",
        "plt.subplot(2, 1, 1)\n",
        "plt.ylabel('Train loss')\n",
        "plt.plot(np.arange(EPOCHS), train_loss_over_epochs, 'k-')\n",
        "plt.title('train loss and val accuracy')\n",
        "plt.xticks(np.arange(EPOCHS, dtype=int))\n",
        "plt.grid(True)\n",
        "\n",
        "plt.subplot(2, 1, 2)\n",
        "plt.plot(np.arange(EPOCHS), val_accuracy_over_epochs, 'b-')\n",
        "plt.ylabel('Val accuracy')\n",
        "plt.xlabel('Epochs')\n",
        "plt.xticks(np.arange(EPOCHS, dtype=int))\n",
        "plt.grid(True)\n",
        "plt.savefig(\"plot.png\")\n",
        "plt.close(fig)\n",
        "print('Finished Training')\n",
        "# -------------"
      ],
      "execution_count": 0,
      "outputs": [
        {
          "output_type": "stream",
          "text": [
            "[1] loss: 4.250\n",
            "Accuracy of the network on the val images: 6 %\n",
            "[2] loss: 3.789\n",
            "Accuracy of the network on the val images: 13 %\n",
            "[3] loss: 3.345\n",
            "Accuracy of the network on the val images: 19 %\n",
            "[4] loss: 2.962\n",
            "Accuracy of the network on the val images: 27 %\n",
            "[5] loss: 2.698\n",
            "Accuracy of the network on the val images: 31 %\n",
            "[6] loss: 2.504\n",
            "Accuracy of the network on the val images: 36 %\n",
            "[7] loss: 2.348\n",
            "Accuracy of the network on the val images: 39 %\n",
            "[8] loss: 2.226\n",
            "Accuracy of the network on the val images: 40 %\n",
            "[9] loss: 2.113\n",
            "Accuracy of the network on the val images: 43 %\n",
            "[10] loss: 2.025\n",
            "Accuracy of the network on the val images: 44 %\n",
            "[11] loss: 1.934\n",
            "Accuracy of the network on the val images: 47 %\n",
            "[12] loss: 1.857\n",
            "Accuracy of the network on the val images: 48 %\n",
            "[13] loss: 1.782\n",
            "Accuracy of the network on the val images: 49 %\n",
            "[14] loss: 1.715\n",
            "Accuracy of the network on the val images: 49 %\n",
            "[15] loss: 1.655\n",
            "Accuracy of the network on the val images: 50 %\n",
            "Finished Training\n"
          ],
          "name": "stdout"
        }
      ]
    },
    {
      "metadata": {
        "id": "v1GE8t3mRdy9",
        "colab_type": "code",
        "colab": {}
      },
      "cell_type": "code",
      "source": [
        "########################################################################\n",
        "# 5. Try the network on test data, and create .csv file\n",
        "# ^^^^^^^^^^^^^^^^^^^^^^^^^^^^^^^^^^^^^^^^^^^^^^^^^^^^^\n",
        "########################################################################\n",
        "\n",
        "# Check out why .eval() is important!\n",
        "# https://discuss.pytorch.org/t/model-train-and-model-eval-vs-model-and-model-eval/5744/2\n",
        "net.eval()\n",
        "\n",
        "total = 0\n",
        "predictions = []\n",
        "for data in testloader:\n",
        "    images, labels = data\n",
        "\n",
        "    # For training on GPU, we need to transfer net and data onto the GPU\n",
        "    # http://pytorch.org/tutorials/beginner/blitz/cifar10_tutorial.html#training-on-gpu\n",
        "    if IS_GPU:\n",
        "        images = images.cuda()\n",
        "        labels = labels.cuda()\n",
        "    \n",
        "    outputs = net(Variable(images))\n",
        "    _, predicted = torch.max(outputs.data, 1)\n",
        "    predictions.extend(list(predicted.cpu().numpy()))\n",
        "    total += labels.size(0)\n",
        "\n",
        "with open('submission_netid.csv', 'w') as csvfile:\n",
        "    wr = csv.writer(csvfile, quoting=csv.QUOTE_ALL)\n",
        "    wr.writerow([\"Id\", \"Prediction1\"])\n",
        "    for l_i, label in enumerate(predictions):\n",
        "        wr.writerow([str(l_i), str(label)])\n"
      ],
      "execution_count": 0,
      "outputs": []
    },
    {
      "metadata": {
        "id": "og2F2MLhs7L6",
        "colab_type": "text"
      },
      "cell_type": "markdown",
      "source": [
        "# Part 2"
      ]
    },
    {
      "metadata": {
        "id": "prD0eXGpdoCR",
        "colab_type": "code",
        "colab": {}
      },
      "cell_type": "code",
      "source": [
        "\"\"\"Headers\"\"\"\n",
        "import os\n",
        "import os.path as osp\n",
        "import time\n",
        "\n",
        "%matplotlib inline\n",
        "import matplotlib.pyplot as plt\n",
        "\n",
        "import torch\n",
        "import torch.nn as nn\n",
        "import torchvision.models as models\n",
        "import torch.optim as optim\n",
        "\n",
        "from torchvision import datasets"
      ],
      "execution_count": 0,
      "outputs": []
    },
    {
      "metadata": {
        "id": "P6CJz7OM0J9Z",
        "colab_type": "text"
      },
      "cell_type": "markdown",
      "source": [
        "# Pre-Trained Model\n",
        "\n",
        "TODO1. Load pretrained resnet model. Experiment with different models. \n",
        "\n",
        "TODO2: Replace last fc layer\n",
        "\n",
        "TODO3. Forward pass"
      ]
    },
    {
      "metadata": {
        "id": "HUdo6AkH0maX",
        "colab_type": "code",
        "colab": {}
      },
      "cell_type": "code",
      "source": [
        "\n",
        "class PreTrainedResNet(nn.Module):\n",
        "  def __init__(self, num_classes, feature_extracting):\n",
        "    super(PreTrainedResNet, self).__init__()\n",
        "    #TODO1: Load pre-trained ResNet Model\n",
        "    self.resnet18 =  models.resnet18(pretrained=True)\n",
        "  \n",
        "   \n",
        "    \n",
        "    #Set gradients to false\n",
        "    if feature_extracting:\n",
        "      for param in self.resnet18.parameters():\n",
        "          param.requires_grad = False\n",
        "    \n",
        "    #Replace last fc layer\n",
        "    num_feats = self.resnet18.fc.in_features\n",
        "#     print(self.resnet18.fc)\n",
        "#     print(num_feats,\",\",num_classes)\n",
        "    #TODO2: Replace fc layer in resnet to a linear layer of size (num_feats, num_classes)\n",
        "    self.resnet18.fc = nn.Linear(num_feats, num_classes) \n",
        "#     print(self.resnet18)\n",
        "  #forward is not  part of init\n",
        "  def forward(self, x):\n",
        "      x = self.resnet18.conv1(x)\n",
        "      x = self.resnet18.bn1(x)\n",
        "      x = self.resnet18.relu(x)\n",
        "      x = self.resnet18.maxpool(x)\n",
        "      x = self.resnet18.layer1(x)\n",
        "      x = self.resnet18.layer2(x)\n",
        "      x = self.resnet18.layer3(x)\n",
        "      x = self.resnet18.layer4(x)\n",
        "      x = self.resnet18.avgpool(x)\n",
        "      x = x.view(x.size(0), -1)\n",
        "      x = self.resnet18.fc(x)\n",
        "      return x\n",
        "\n",
        "    \n",
        "  \n",
        "   \n",
        "# a = PreTrainedResNet(10,10)\n",
        "# print(a.resnet18)"
      ],
      "execution_count": 0,
      "outputs": []
    },
    {
      "metadata": {
        "id": "Y_DRbNt8Jask",
        "colab_type": "text"
      },
      "cell_type": "markdown",
      "source": [
        "# Train"
      ]
    },
    {
      "metadata": {
        "id": "ujUNEVsEvWwv",
        "colab_type": "code",
        "colab": {}
      },
      "cell_type": "code",
      "source": [
        "def train(model, optimizer, criterion, epoch, num_epochs):\n",
        "  model.train()\n",
        "  epoch_loss = 0.0\n",
        "  epoch_acc = 0.0\n",
        "  \n",
        "  for batch_idx, (images, labels) in enumerate(dataloaders['train']):\n",
        "    #zero the parameter gradients\n",
        "    optimizer.zero_grad()\n",
        "    \n",
        "    #move to GPU\n",
        "    images, labels = images.cuda(), labels.cuda()\n",
        "    \n",
        "    #forward\n",
        "    outputs = model.forward(images)\n",
        "    \n",
        "    loss = criterion(outputs, labels)\n",
        "    \n",
        "    _, preds = torch.max(outputs.data, 1)\n",
        "    \n",
        "    loss.backward()\n",
        "    optimizer.step()\n",
        "    \n",
        "    epoch_loss += loss.item()\n",
        "    epoch_acc += torch.sum(preds == labels).item()\n",
        "    \n",
        "  epoch_loss /= dataset_sizes['train']\n",
        "  epoch_acc /= dataset_sizes['train']\n",
        "  \n",
        "  print('TRAINING Epoch %d/%d Loss %.4f Accuracy %.4f' % (epoch, num_epochs, epoch_loss, epoch_acc))"
      ],
      "execution_count": 0,
      "outputs": []
    },
    {
      "metadata": {
        "id": "mAbNgE4r7vm-",
        "colab_type": "text"
      },
      "cell_type": "markdown",
      "source": [
        "# Main\n",
        "\n",
        "1. Vary hyperparams\n",
        "2. Data augmentation"
      ]
    },
    {
      "metadata": {
        "id": "oZkI3scVWjOQ",
        "colab_type": "code",
        "outputId": "5f19f9f9-bc27-45af-81fb-a0dfefa7c19c",
        "colab": {
          "base_uri": "https://localhost:8080/",
          "height": 331
        }
      },
      "cell_type": "code",
      "source": [
        "#TODO: Vary Hyperparams\n",
        "\n",
        "# change from 10 to 30\n",
        "NUM_EPOCHS = 20\n",
        "# change learning rate to 0.001 from 0.0001\n",
        "LEARNING_RATE =0.0015\n",
        "# not touched\n",
        "BATCH_SIZE = 8\n",
        "RESNET_LAST_ONLY = False #Fine tunes only the last layer. Set to False to fine tune entire network\n",
        "\n",
        "root_path = '/data/' #If your data is in a different folder, set the path accodordingly\n",
        "# normalize = transforms.Normalize(mean=[0.485, 0.456, 0.406],\n",
        "#                                  std=[0.229, 0.224, 0.225])\n",
        "\n",
        "data_transforms = {\n",
        "    'train': transforms.Compose([\n",
        "          transforms.CenterCrop(224),\n",
        "#           transforms.RandomResizedCrop(224),\n",
        "          transforms.RandomHorizontalFlip(),\n",
        "          transforms.ToTensor(),\n",
        "          transforms.Normalize(mean=[0.485, 0.456, 0.406],\n",
        "                                 std=[0.229, 0.224, 0.225]),\n",
        "        \n",
        "        \n",
        "        \n",
        "#         transforms.Resize(256),\n",
        "#         transforms.CenterCrop(224),\n",
        "        \n",
        "#         #TODO: Transforms.RandomResizedCrop() instead of CenterCrop(), RandomRoate() and Horizontal Flip()\n",
        "#         transforms.RandomResizedCrop(224,scale=(0.7, 1.0)),\n",
        "# #         transforms.RandomHorizontalFlip(),\n",
        "        \n",
        "#         transforms.ToTensor(),\n",
        "#         #TODO: Transforms.Normalize()\n",
        "# #         transforms.Normalize([0.4772, 0.4881, 0.4200], [0.1860, 0.1843, 0.1967])\n",
        "#         normalize\n",
        "        \n",
        "    ]),\n",
        "    'test': transforms.Compose([\n",
        "        \n",
        "          transforms.Resize(256),\n",
        "          transforms.CenterCrop(224),\n",
        "          transforms.ToTensor(),\n",
        "          transforms.Normalize(mean=[0.485, 0.456, 0.406],\n",
        "                                 std=[0.229, 0.224, 0.225]),\n",
        "        \n",
        "#         transforms.Resize(256),\n",
        "#         transforms.CenterCrop(224),\n",
        "#         transforms.ToTensor(),\n",
        "#         #TODO: Transforms.Normalize()\n",
        "# #        transforms.Normalize([0.4772, 0.4881, 0.4200], [0.1860, 0.1843, 0.1967])\n",
        "#         normalize\n",
        "    ]),\n",
        "}\n",
        "\n",
        "# loading datasets with PyTorch ImageFolder\n",
        "image_datasets = {x: datasets.ImageFolder(os.path.join(root_path, x),\n",
        "                                          data_transforms[x])\n",
        "                  for x in ['train', 'test']}\n",
        "\n",
        "# defining data loaders to load data using image_datasets and transforms, here we also specify batch size for the mini batch\n",
        "dataloaders = {x: torch.utils.data.DataLoader(image_datasets[x], batch_size=BATCH_SIZE,\n",
        "                                             shuffle=True, num_workers=4)\n",
        "              for x in ['train', 'test']}\n",
        "\n",
        "# mean = 0.\n",
        "# std = 0.\n",
        "# for images,_ in dataloaders['test']:\n",
        "#   batch_samples = images.size(0) # batch size (the last batch can have smaller size!)\n",
        "#   images = images.view(batch_samples, images.size(1), -1)\n",
        "#   mean += images.mean(2).sum(0)\n",
        "#   std += images.std(2).sum(0)\n",
        "# for images,_ in dataloaders['train']:\n",
        "#   batch_samples = images.size(0) # batch size (the last batch can have smaller size!)\n",
        "#   images = images.view(batch_samples, images.size(1), -1)\n",
        "#   mean += images.mean(2).sum(0)\n",
        "#   std += images.std(2).sum(0)\n",
        "\n",
        "# mean /= len(dataloaders['test'].dataset+dataloaders['train'].dataset)\n",
        "# std /= len(dataloaders['test'].dataset+dataloaders['train'].dataset)\n",
        "# print(\"mean\",mean)\n",
        "# print(\"std\",std)\n",
        "\n",
        "dataset_sizes = {x: len(image_datasets[x]) for x in ['train', 'test']}\n",
        "class_names = image_datasets['train'].classes\n",
        "print(len(class_names))\n",
        "#Initialize the model\n",
        "model = PreTrainedResNet(len(class_names), RESNET_LAST_ONLY)\n",
        "model = model.cuda()\n",
        "\n",
        "#Setting the optimizer and loss criterion\n",
        "optimizer = optim.SGD(model.parameters(), lr=LEARNING_RATE, momentum=0.9)\n",
        "criterion = nn.CrossEntropyLoss()\n",
        "\n",
        "#Begin Train\n",
        "for epoch in range(NUM_EPOCHS):\n",
        "  train(model, optimizer, criterion, epoch+1, NUM_EPOCHS)\n",
        "  \n",
        "print(\"Finished Training\")\n",
        "print(\"-\"*10)"
      ],
      "execution_count": 35,
      "outputs": [
        {
          "output_type": "stream",
          "text": [
            "200\n",
            "TRAINING Epoch 1/15 Loss 0.6016 Accuracy 0.0600\n",
            "TRAINING Epoch 2/15 Loss 0.3931 Accuracy 0.3127\n",
            "TRAINING Epoch 3/15 Loss 0.2737 Accuracy 0.5270\n",
            "TRAINING Epoch 4/15 Loss 0.1843 Accuracy 0.7163\n",
            "TRAINING Epoch 5/15 Loss 0.1311 Accuracy 0.8193\n",
            "TRAINING Epoch 6/15 Loss 0.0879 Accuracy 0.9007\n",
            "TRAINING Epoch 7/15 Loss 0.0598 Accuracy 0.9487\n",
            "TRAINING Epoch 8/15 Loss 0.0424 Accuracy 0.9703\n",
            "TRAINING Epoch 9/15 Loss 0.0308 Accuracy 0.9807\n",
            "TRAINING Epoch 10/15 Loss 0.0226 Accuracy 0.9897\n",
            "TRAINING Epoch 11/15 Loss 0.0164 Accuracy 0.9943\n",
            "TRAINING Epoch 12/15 Loss 0.0130 Accuracy 0.9950\n",
            "TRAINING Epoch 13/15 Loss 0.0112 Accuracy 0.9950\n",
            "TRAINING Epoch 14/15 Loss 0.0106 Accuracy 0.9963\n",
            "TRAINING Epoch 15/15 Loss 0.0079 Accuracy 0.9967\n",
            "Finished Training\n",
            "----------\n"
          ],
          "name": "stdout"
        }
      ]
    },
    {
      "metadata": {
        "id": "r2NbP0lIQ7VQ",
        "colab_type": "code",
        "colab": {}
      },
      "cell_type": "code",
      "source": [
        ""
      ],
      "execution_count": 0,
      "outputs": []
    },
    {
      "metadata": {
        "id": "DEbsnh3a7ljw",
        "colab_type": "text"
      },
      "cell_type": "markdown",
      "source": [
        "# Test"
      ]
    },
    {
      "metadata": {
        "id": "4wyYKmQ91woU",
        "colab_type": "code",
        "colab": {}
      },
      "cell_type": "code",
      "source": [
        "def test(model, criterion, repeats=2):\n",
        "  model.eval()\n",
        "  \n",
        "  test_loss = 0.0\n",
        "  test_acc = 0.0\n",
        "  \n",
        "  for itr in range(repeats):\n",
        "    for batch_idx, (images, labels) in enumerate(dataloaders['train']):\n",
        "      #move to GPU\n",
        "      images, labels = images.cuda(), labels.cuda()\n",
        "\n",
        "      #forward\n",
        "      outputs = model.forward(images)\n",
        "\n",
        "      loss = criterion(outputs, labels)\n",
        "\n",
        "      _, preds = torch.max(outputs.data, 1)\n",
        "\n",
        "      test_loss += loss.item()\n",
        "      test_acc += torch.sum(preds == labels).item()\n",
        "    \n",
        "  test_loss /= (dataset_sizes['test']*repeats)\n",
        "  test_acc /= (dataset_sizes['test']*repeats)\n",
        "\n",
        "  print('Test Loss: %.4f Test Accuracy %.4f' % (test_loss, test_acc))\n",
        "  "
      ],
      "execution_count": 0,
      "outputs": []
    },
    {
      "metadata": {
        "id": "znXWR6oWyl-B",
        "colab_type": "code",
        "colab": {
          "base_uri": "https://localhost:8080/",
          "height": 34
        },
        "outputId": "3d0e2f90-84e8-45c9-c4e5-7375e4af96cf"
      },
      "cell_type": "code",
      "source": [
        "test(model, criterion)"
      ],
      "execution_count": 34,
      "outputs": [
        {
          "output_type": "stream",
          "text": [
            "Test Loss: 0.0009 Test Accuracy 0.9871\n"
          ],
          "name": "stdout"
        }
      ]
    },
    {
      "metadata": {
        "id": "kNX2g3AYUbM2",
        "colab_type": "text"
      },
      "cell_type": "markdown",
      "source": [
        "# Visualizing the model predictions\n",
        "\n",
        "TODO: Find success and failure results. "
      ]
    },
    {
      "metadata": {
        "id": "Zd_lkTdoUaOX",
        "colab_type": "code",
        "colab": {}
      },
      "cell_type": "code",
      "source": [
        "def imshow(inp, title=None):\n",
        "    \"\"\"Imshow for Tensor.\"\"\"\n",
        "    inp = inp.numpy().transpose((1, 2, 0))\n",
        "    inp = np.clip(inp, 0, 1)\n",
        "    plt.imshow(inp)\n",
        "    if title is not None:\n",
        "        plt.title(title)\n",
        "    plt.pause(1)  # pause a bit so that plots are updated\n",
        "    \n",
        "def visualize_model(model, num_images=8):\n",
        "    images_so_far = 0\n",
        "    fig = plt.figure()\n",
        "\n",
        "    for batch_idx, (images, labels) in enumerate(dataloaders['test']):\n",
        "        #move to GPU\n",
        "        images, labels = images.cuda(), labels.cuda()\n",
        "        \n",
        "        outputs = model(images)\n",
        "        \n",
        "        _, preds = torch.max(outputs.data, 1)\n",
        "       \n",
        "\n",
        "        for j in range(images.size()[0]):\n",
        "            images_so_far += 1\n",
        "            ax = plt.subplot(num_images//2, 2, images_so_far)\n",
        "            ax.axis('off')\n",
        "            ax.set_title('class: {} predicted: {}'.format(class_names[labels.data[j]], class_names[preds[j]]))\n",
        "\n",
        "            imshow(images.cpu().data[j])\n",
        "\n",
        "            if images_so_far == num_images:\n",
        "                return"
      ],
      "execution_count": 0,
      "outputs": []
    },
    {
      "metadata": {
        "id": "sxjSnLKOJsTW",
        "colab_type": "code",
        "colab": {
          "base_uri": "https://localhost:8080/",
          "height": 767
        },
        "outputId": "f00e161e-e163-4673-afd0-09722b28b50a"
      },
      "cell_type": "code",
      "source": [
        "visualize_model(model)"
      ],
      "execution_count": 32,
      "outputs": [
        {
          "output_type": "display_data",
          "data": {
            "image/png": "[encoded data removed]",
            "text/plain": [
              "<Figure size 432x288 with 1 Axes>"
            ]
          },
          "metadata": {
            "tags": []
          }
        },
        {
          "output_type": "display_data",
          "data": {
            "image/png": "[encoded data removed]",
            "text/plain": [
              "<Figure size 432x288 with 1 Axes>"
            ]
          },
          "metadata": {
            "tags": []
          }
        },
        {
          "output_type": "display_data",
          "data": {
            "image/png": "[encoded data removed]",
            "text/plain": [
              "<Figure size 432x288 with 1 Axes>"
            ]
          },
          "metadata": {
            "tags": []
          }
        },
        {
          "output_type": "display_data",
          "data": {
            "image/png": "[encoded data removed]",
            "text/plain": [
              "<Figure size 432x288 with 1 Axes>"
            ]
          },
          "metadata": {
            "tags": []
          }
        },
        {
          "output_type": "display_data",
          "data": {
            "image/png": "[encoded data removed]",
            "text/plain": [
              "<Figure size 432x288 with 1 Axes>"
            ]
          },
          "metadata": {
            "tags": []
          }
        },
        {
          "output_type": "display_data",
          "data": {
            "image/png": "[encoded data removed]",
            "text/plain": [
              "<Figure size 432x288 with 1 Axes>"
            ]
          },
          "metadata": {
            "tags": []
          }
        },
        {
          "output_type": "display_data",
          "data": {
            "image/png": "[encoded data removed]",
            "text/plain": [
              "<Figure size 432x288 with 1 Axes>"
            ]
          },
          "metadata": {
            "tags": []
          }
        },
        {
          "output_type": "display_data",
          "data": {
            "image/png": "[encoded data removed]",
            "text/plain": [
              "<Figure size 432x288 with 1 Axes>"
            ]
          },
          "metadata": {
            "tags": []
          }
        }
      ]
    }
  ]
}