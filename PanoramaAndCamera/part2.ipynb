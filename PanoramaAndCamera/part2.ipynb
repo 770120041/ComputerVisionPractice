{
 "cells": [
  {
   "cell_type": "code",
   "execution_count": 1,
   "metadata": {
    "collapsed": true
   },
   "outputs": [],
   "source": [
    "#Fundamental matrix estimation. "
   ]
  },
  {
   "cell_type": "code",
   "execution_count": 6,
   "metadata": {},
   "outputs": [],
   "source": [
    "from PIL import Image\n",
    "import numpy as np\n",
    "import matplotlib.pyplot as plt"
   ]
  },
  {
   "cell_type": "code",
   "execution_count": 7,
   "metadata": {},
   "outputs": [],
   "source": [
    "def normalize(img):\n",
    "    ''' Function to normalize an input array to 0-1 '''\n",
    "    img_min = img.min()\n",
    "    img_max = img.max()\n",
    "    return (img - img_min) / (img_max - img_min)"
   ]
  },
  {
   "cell_type": "code",
   "execution_count": 16,
   "metadata": {},
   "outputs": [],
   "source": [
    "def my_normalize(POINT):\n",
    "    \"\"\"\n",
    "    :param matches: all matches N*3\n",
    "    :return: normalized matches\n",
    "    \"\"\"\n",
    "    num_of_points = POINT.shape[0]\n",
    "    x_avg_sum = np.sum(POINT[:,0])/num_of_points\n",
    "    y_avg_sum = np.sum(POINT[:,1])/num_of_points\n",
    "    tmp_sum = num_of_points/np.sum(((POINT[:,0]-x_avg_sum)**2 + (POINT[:,1]-y_avg_sum)**2)**(1/2))\n",
    "    Coor_Transform =np.dot(np.array([[tmp_sum,0,0], [0,tmp_sum,0], [0,0,1]]), \n",
    "            np.array([[1,0,-x_avg_sum],[0,1,-y_avg_sum],[0,0,1]]))\n",
    "    POINT = coor_to_homo(POINT)\n",
    "    POINT = np.reshape(POINT, (3,num_of_points))\n",
    "    POINT = np.dot(Coor_Transform, POINT)\n",
    "    POINT = POINT.T\n",
    "    return Coor_Transform,POINT\n",
    " "
   ]
  },
  {
   "cell_type": "code",
   "execution_count": 17,
   "metadata": {},
   "outputs": [],
   "source": [
    "def coor_to_homo(coord):\n",
    "    \"\"\"\n",
    "    :param coord: non_homo coor\n",
    "    :return: homo coordination\n",
    "    \"\"\"\n",
    "\n",
    "    height = len(coord)\n",
    "    tmp_coord = np.transpose(coord)\n",
    "    new_col = np.ones((height,1))\n",
    "    homo = np.append(tmp_coord,new_col)\n",
    "    homo = np.transpose(homo)\n",
    "    # print(homo)\n",
    "    return homo\n",
    "\n",
    "def coor_to_homo2(coord):\n",
    "    \"\"\"\n",
    "    :param coord: non_homo coor\n",
    "    :return: homo coordination\n",
    "    \"\"\"\n",
    "\n",
    "    height = len(coord)\n",
    "    new_col = np.ones((height,1))\n",
    "    homo = np.hstack((coord,new_col))\n",
    "    return homo\n",
    "\n",
    "def to_homo(coord):\n",
    "    num = len(coord)\n",
    "    new_col = np.ones((height,1))\n",
    "    homo = np.hstack(coord,new_col)\n",
    "    return homo"
   ]
  },
  {
   "cell_type": "code",
   "execution_count": 1,
   "metadata": {},
   "outputs": [],
   "source": [
    "\n",
    "def fit_fundamental(matches,method=\"normalized\"):\n",
    "    \"\"\"\n",
    "    :param P_A: N*3 Points\n",
    "    :param P_B: N*3 Points\n",
    "    :return: Fundamental Matrix: 3*3\n",
    "    \"\"\"\n",
    "    num_of_points = len(matches)\n",
    "    P_A, P_B = matches[:,0:2],matches[:,2:4]\n",
    "    F = np.zeros((3,3))\n",
    "    \n",
    "   \n",
    "    #  u = match1[:, 0]\n",
    "    # v = match1[:, 1]\n",
    "    # u_p = match2[:, 0]\n",
    "    # v_p = match2[:, 1]\n",
    "    # \n",
    "    if method == \"normalized\":\n",
    "        Coor_transform_A,P_A = my_normalize(P_A)\n",
    "    else:\n",
    "        P_A = coor_to_homo2(P_A)\n",
    "    print(\"P_A shape after:\",P_A.shape)\n",
    "   \n",
    "\n",
    "    if method == \"normalized\":\n",
    "        Coor_transform_B,P_B = my_normalize(P_B)       \n",
    "    else:\n",
    "        P_B = coor_to_homo2(P_B)\n",
    "    print(\"P_B shape after:\",P_B.shape)\n",
    "    \n",
    "    A = []\n",
    "    for i in range(num_of_points):\n",
    "        u_a,v_a,u_b,v_b = P_A[i,0],P_A[i,1],P_B[i,0],P_B[i,1]\n",
    "        \n",
    "    # # element wise multiply\n",
    "    # A = np.multiply(u_p, u)\n",
    "    # line_list = [\n",
    "    #             np.multiply(u_p,v),\n",
    "    #             u_p,\n",
    "    #             np.multiply(v_p,u),\n",
    "    #             np.multiply(v_p,v),\n",
    "    #             v_p,\n",
    "    #             u,\n",
    "    #             v,\n",
    "    #             np.ones(num_of_matches)]\n",
    "    # Normalized sum\n",
    "        A.append([u_a*u_b, v_a*u_b, u_b, u_a*v_b, v_a*v_b, v_b, u_a, v_a])\n",
    "\n",
    "    A = np.array(A)\n",
    "    F = np.dot(np.linalg.inv(np.dot(A.T, A)), np.dot(A.T, -np.ones((num_of_points,1))))\n",
    "    F = np.append(F,[1])\n",
    "    \n",
    "    # if normalized, do coor transform,else just reshape\n",
    "    if method == \"normalized\":\n",
    "        print(\"F before coord tran:\",F.shape)\n",
    "        F = np.reshape(F,(3,3)).T\n",
    "        F = np.dot(Coor_transform_A.T, F)\n",
    "        F = np.dot(F, Coor_transform_B)\n",
    "        F = np.transpose(F)\n",
    "    else:\n",
    "        print(\"F before coord tran:\",F.shape)\n",
    "        F = np.reshape(F,(3,3))\n",
    "\n",
    "        \n",
    "    U,S,V = np.linalg.svd(F)\n",
    "    # rank2 constriant here\n",
    "    S = np.array([[S[0],0,0],[0,S[1],0],[0,0,0]])\n",
    "    F = np.dot(U, S)\n",
    "    F = np.dot(F, V)\n",
    "    \n",
    "    #cal residul\n",
    "    residul = []\n",
    "    for i in range(num_of_points):\n",
    "        tmp_m = np.array([matches[i][0],matches[i][1],1])\n",
    "        tmp_m = np.transpose(tmp_m)\n",
    "        # (3*3) * (3*1) = 3*1\n",
    "        X = np.matmul(F, tmp_m)\n",
    "        # print(\"X shape:\",X.shape)\n",
    "        residul += [np.abs(np.matmul(\n",
    "            np.array([matches[i][2],matches[i][3],1]),X\n",
    "                                     ))]\n",
    "    \n",
    "    print(\"mean residual:\",np.mean(residul))\n",
    "\n",
    "    return F"
   ]
  },
  {
   "cell_type": "code",
   "execution_count": 19,
   "metadata": {},
   "outputs": [],
   "source": [
    ""
   ]
  },
  {
   "cell_type": "code",
   "execution_count": 19,
   "metadata": {},
   "outputs": [],
   "source": [
    "\n",
    "\n"
   ]
  },
  {
   "cell_type": "code",
   "execution_count": 19,
   "metadata": {},
   "outputs": [],
   "source": [
    "lb1path = \"data\\\\part2\\\\library1.jpg\"\n",
    "lb2path = \"data\\\\part2\\\\library2.jpg\"\n",
    "lb_matches = \"data\\\\part2\\\\library_matches.txt\"\n",
    "\n",
    "lab1_path = \"data\\\\part2\\\\lab1.jpg\"\n",
    "lab2_path = \"data\\\\part2\\\\lab2.jpg\"\n",
    "lab_matches = \"data\\\\part2\\\\lab_matches.txt\"\n"
   ]
  },
  {
   "cell_type": "code",
   "execution_count": 21,
   "metadata": {},
   "outputs": [],
   "source": [
    "\n",
    "##\n",
    "## load images and match files for the first example\n",
    "##\n",
    "\n",
    "\n",
    "# I1 = Image.open(lb1path)\n",
    "# I2 = Image.open(lb2path)\n",
    "# matches = np.loadtxt(lb_matches)\n",
    "\n",
    "# \n",
    "I1 = Image.open(lab1_path)\n",
    "I2 = Image.open(lab2_path)\n",
    "matches = np.loadtxt(lab_matches)\n",
    "\n",
    "# this is a N x 4 file where the first two numbers of each row\n",
    "# are coordinates of corners in the first image and the last two\n",
    "# are coordinates of corresponding corners in the second image: \n",
    "# matches(i,1:2) is a point in the first image\n",
    "# matches(i,3:4) is a corresponding point in the second image\n",
    "\n",
    "N = len(matches)\n",
    "\n",
    "##\n",
    "## display two images side-by-side with matches\n",
    "## this code is to help you visualize the matches, you don't need\n",
    "## to use it to produce the results for the assignment\n",
    "##\n",
    "\n",
    "I3 = np.zeros((I1.size[1],I1.size[0]*2,3) )\n",
    "I3[:,:I1.size[0],:] = I1\n",
    "I3[:,I1.size[0]:,:] = I2\n",
    "fig, ax = plt.subplots()\n",
    "ax.set_aspect('equal')\n",
    "ax.imshow(np.array(normalize(I3)).astype(float))\n",
    "ax.plot(matches[:,0],matches[:,1],  '+g')\n",
    "ax.plot( matches[:,2]+I1.size[0],matches[:,3], '+g')\n",
    "ax.plot([matches[:,0], matches[:,2]+I1.size[0]],[matches[:,1], \n",
    "                                                 matches[:,3]], 'r')\n",
    "plt.show()\n"
   ]
  },
  {
   "cell_type": "code",
   "execution_count": 22,
   "metadata": {},
   "outputs": [
    {
     "name": "stdout",
     "output_type": "stream",
     "text": [
      "P_A shape after: (20, 3)\nP_B shape after: (20, 3)\nF before coord tran: (9,)\nmean residual: 0.6486841351227834\nF: [[ 7.20248917e-06 -9.67102416e-05  2.53206006e-02]\n [-6.04123213e-05  1.84673970e-05 -1.91377377e-01]\n [ 3.38104691e-04  2.59523165e-01 -5.80819930e+00]]\nM shape: (3, 20)\n"
     ]
    }
   ],
   "source": [
    "\n",
    "##\n",
    "## display second image with epipolar lines reprojected \n",
    "## from the first image\n",
    "##\n",
    "\n",
    "# first, fit fundamental matrix to the matches\n",
    "# F = fit_fundamental_before(matches)\n",
    "F = fit_fundamental(matches,method = \"normalized\") # this is a function that you should write\n",
    "print(\"F:\",F)\n",
    "M = np.c_[matches[:,0:2], np.ones((N,1))].transpose()\n",
    "print(\"M shape:\",M.shape)\n",
    "L1 = np.matmul(F, M).transpose() # transform points from \n",
    "# the first image to get epipolar lines in the second image\n",
    "\n",
    "# find points on epipolar lines L closest to matches(:,3:4)\n",
    "l = np.sqrt(L1[:,0]**2 + L1[:,1]**2)\n",
    "L = np.divide(L1,np.kron(np.ones((3,1)),l).transpose())# rescale the line\n",
    "pt_line_dist = np.multiply(L, np.c_[matches[:,2:4], np.ones((N,1))]).sum(axis = 1)\n",
    "closest_pt = matches[:,2:4] - np.multiply(L[:,0:2],np.kron(np.ones((2,1)), pt_line_dist).transpose())\n",
    "\n",
    "# find endpoints of segment on epipolar line (for display purposes)\n",
    "pt1 = closest_pt - np.c_[L[:,1], -L[:,0]]*10# offset from the closest point is 10 pixels\n",
    "pt2 = closest_pt + np.c_[L[:,1], -L[:,0]]*10\n",
    "\n",
    "# display points and segments of corresponding epipolar lines\n",
    "fig, ax = plt.subplots()\n",
    "ax.set_aspect('equal')\n",
    "ax.imshow(normalize(np.array(I2).astype(float)))\n",
    "ax.plot(matches[:,2],matches[:,3],  '+r')\n",
    "ax.plot([matches[:,2], closest_pt[:,0]],[matches[:,3], closest_pt[:,1]], 'r')\n",
    "ax.plot([pt1[:,0], pt2[:,0]],[pt1[:,1], pt2[:,1]], 'g')\n",
    "plt.show()\n",
    "\n"
   ]
  },
  {
   "cell_type": "code",
   "execution_count": 23,
   "metadata": {},
   "outputs": [],
   "source": [
    "#Camera calibration"
   ]
  },
  {
   "cell_type": "code",
   "execution_count": 220,
   "metadata": {},
   "outputs": [],
   "source": [
    "def evaluate_points(M, points_2d, points_3d):\n",
    "    \"\"\"\n",
    "    Visualize the actual 2D points and the projected 2D points calculated from\n",
    "    the projection matrix\n",
    "    You do not need to modify anything in this function, although you can if you\n",
    "    want to\n",
    "    :param M: projection matrix 3 x 4\n",
    "    :param points_2d: 2D points N x 2\n",
    "    :param points_3d: 3D points N x 3\n",
    "    :return:\n",
    "    \"\"\"\n",
    "    N = len(points_3d)\n",
    "    points_3d = np.hstack((points_3d, np.ones((N, 1))))\n",
    "    points_3d_proj = np.dot(M, points_3d.T).T\n",
    "    u = points_3d_proj[:, 0] / points_3d_proj[:, 2]\n",
    "    v = points_3d_proj[:, 1] / points_3d_proj[:, 2]\n",
    "    residual = np.sum(np.hypot(u-points_2d[:, 0], v-points_2d[:, 1]))\n",
    "    points_3d_proj = np.hstack((u[:, np.newaxis], v[:, np.newaxis]))\n",
    "    return points_3d_proj, residual"
   ]
  },
  {
   "cell_type": "code",
   "execution_count": 221,
   "metadata": {},
   "outputs": [],
   "source": [
    "def calculate_projection_matrix( Point_2D, Points_3D ):\n",
    "    num_of_points = Points_3D.shape[0]\n",
    "    print(num_of_points)\n",
    "    A = np.array([])\n",
    "    B = np.array([])\n",
    "    M = np.zeros((11,1))\n",
    "    for i in range(num_of_points):\n",
    "        x = Points_3D[i][0]\n",
    "        y = Points_3D[i][1]\n",
    "        z = Points_3D[i][2]\n",
    "        u = Point_2D[i][0]\n",
    "        v = Point_2D[i][1]\n",
    "        line_a = np.array([x,y,z,1,0,0,0,0,-u*x,-u*y,-u*z])\n",
    "        A = np.vstack((A,line_a)) if len(A)>0 else line_a\n",
    "        line_b = np.array([0, 0, 0, 0, x, y, z, 1 ,-v*x, -v*y, -v*z])\n",
    "        A = np.vstack((A,line_b))\n",
    "        B = np.append(B,u)\n",
    "        B = np.append(B,v)\n",
    "    M = np.array(np.linalg.lstsq(A,B)[0])\n",
    "    M = np.append(M,1)\n",
    "    M = np.reshape(M,(3,-1))\n",
    "    \n",
    "    return M\n",
    "    \n",
    "def compute_camera_center(M):\n",
    "    left = -(((M[:, 0:3])))\n",
    "    Center = np.linalg.lstsq(left, M[:, 3])[0]\n",
    "    return Center\n"
   ]
  },
  {
   "cell_type": "code",
   "execution_count": 85,
   "metadata": {},
   "outputs": [
    {
     "name": "stdout",
     "output_type": "stream",
     "text": [
      "20\nM: [[-2.04662532e+00  1.18743052e+00  3.88938200e-01  2.43732985e+02]\n [-4.56886722e-01 -3.02017128e-01  2.14721848e+00  1.65932475e+02]\n [-2.24678720e-03 -1.09380146e-03  5.58547111e-04  1.00000000e+00]]\nCenter: [303.09666406 307.18423708  30.4222733 ]\nresidual： 15.621732317328656\n"
     ]
    },
    {
     "name": "stderr",
     "output_type": "stream",
     "text": [
      "C:\\Users\\bluerain\\PycharmProjects\\cvmp2\\new_venv\\lib\\site-packages\\ipykernel_launcher.py:19: FutureWarning: `rcond` parameter will change to the default of machine precision times ``max(M, N)`` where M and N are the input matrix dimensions.\nTo use the future default and silence this warning we advise to pass `rcond=None`, to keep using the old, explicitly pass `rcond=-1`.\nC:\\Users\\bluerain\\PycharmProjects\\cvmp2\\new_venv\\lib\\site-packages\\ipykernel_launcher.py:27: FutureWarning: `rcond` parameter will change to the default of machine precision times ``max(M, N)`` where M and N are the input matrix dimensions.\nTo use the future default and silence this warning we advise to pass `rcond=None`, to keep using the old, explicitly pass `rcond=-1`.\n"
     ]
    }
   ],
   "source": [
    "lab_matchtxt = \"data\\\\part2\\\\lab_matches.txt\"\n",
    "lab_3d_path = \"data\\\\part2\\\\lab_3d.txt\"\n",
    "\n",
    "point2D = np.loadtxt(lab_matchtxt)\n",
    "point3D = np.loadtxt(lab_3d_path)\n",
    "point2D_1 = np.array([[match[0],match[1]] for match in point2D])\n",
    "point2D_2 = np.array([[match[2],match[3]] for match in point2D])\n",
    "# print(point2D_1)\n",
    "# print(point3D)\n",
    "projection_M = calculate_projection_matrix(point2D_2, point3D)\n",
    "print(\"M:\",projection_M)\n",
    "Center = compute_camera_center(projection_M)\n",
    "print(\"Center:\",Center)\n",
    "\n",
    "points3d_eval, residul = evaluate_points(projection_M, point2D_2, point3D)\n",
    "print(\"residual：\",residul)"
   ]
  },
  {
   "cell_type": "code",
   "execution_count": 45,
   "metadata": {},
   "outputs": [],
   "source": [
    "#Calculate the camera centers  and triangulate"
   ]
  },
  {
   "cell_type": "code",
   "execution_count": 92,
   "metadata": {},
   "outputs": [],
   "source": [
    "\n",
    "from mpl_toolkits.mplot3d import Axes3D\n",
    "import matplotlib.pyplot as plt\n",
    "import numpy as np\n",
    "def triangulate(P1_path, P2_path, matches_path):\n",
    "    P1 = np.loadtxt(P1_path)\n",
    "    P2 = np.loadtxt(P2_path)\n",
    "    print(\"P1 shape:\",P1.shape)\n",
    "    print(\"P2 shape:\",P2.shape)\n",
    "    matches = np.loadtxt(matches_path)\n",
    "    num_of_matches = matches.shape[0]\n",
    "    # camera center, null space of projection matrix\n",
    "    # _,_,V1 = np.linalg.svd(P1)\n",
    "    # C1 = V1[len(V1)-2]\n",
    "    # \n",
    "    # _,_,V2 = np.linalg.svd(P2)\n",
    "    # C2 = V2[len(V2)-2]\n",
    "    C1 = compute_camera_center(P1)\n",
    "    C2 = compute_camera_center(P2)\n",
    " \n",
    "    coor_3d = np.zeros((num_of_matches, 3))\n",
    "    for i in range(num_of_matches):\n",
    "        x1= np.array([\n",
    "            [0, -1, matches[i][1]],\n",
    "            [1, 0 , -matches[i][0]],\n",
    "            [-matches[i][1],matches[i][0],0]\n",
    "        ])\n",
    "        x2 = np.array([\n",
    "            [0,-1,matches[i][3]],\n",
    "            [1, 0, -matches[i][2]],\n",
    "            [-matches[i][3], matches[i][2], 0]\n",
    "        ])\n",
    "        D = np.vstack((np.matmul(x1,P1),np.matmul(x2,P2)))\n",
    "        _,_,V = np.linalg.svd(D)\n",
    "        X = V[len(V)-1]\n",
    "        \n",
    "        coor_3d[i,0:3] = [X[0]/X[3], X[1]/X[3], X[2]/X[3]]\n",
    "  \n",
    "    fig = plt.figure()\n",
    "    ax = fig.add_subplot(111, projection='3d')\n",
    "    ax.scatter(coor_3d[:,0],coor_3d[:,1],coor_3d[:,2],marker='o',c='b')\n",
    "    ax.set_xlabel('X')\n",
    "    ax.set_ylabel('Y')\n",
    "    ax.set_zlabel('Z')\n",
    "   \n",
    "    ax.scatter(C1[0],C1[1],C1[2],marker='o',c='r')\n",
    "    \n",
    "    ax.text(C1[0],C1[1]-4,C1[2], \"C1\", color='red')\n",
    "    ax.scatter(C2[0],C2[1],C2[2],marker='o',c='r')\n",
    "    \n",
    "    ax.text(C2[0],C2[1]-4,C2[2], \"C2\", color='red')\n",
    "    plt.show()\n",
    "    # print(coor_3d)\n",
    "    \n",
    "    residual_1 = 0\n",
    "    residual_2 = 0\n",
    "    \n",
    "    for i in range(num_of_matches):\n",
    "        coor_tmp = np.append(coor_3d[i,:],1)\n",
    "        X1 = np.matmul(P1,np.transpose(coor_tmp))\n",
    "        residual_1 +=   np.sqrt(np.linalg.norm((np.array([X1[0]/X1[2],X1[1]/X1[2]]) -\n",
    "                                                              np.array([matches[i, 0],matches[i, 1]]))))\n",
    "        X2 = np.matmul(P2,np.transpose(coor_tmp))\n",
    "        residual_2 +=   np.sqrt(np.linalg.norm((np.array([X1[0]/X1[2],X1[1]/X1[2]]) -\n",
    "                                                              np.array([matches[i, 2],matches[i, 3]]))))        \n",
    "    print(\"resiual1:\",residual_1)\n",
    "    print(\"residual2:\",residual_2)"
   ]
  },
  {
   "cell_type": "code",
   "execution_count": 94,
   "metadata": {
    "collapsed": false
   },
   "outputs": [
    {
     "name": "stdout",
     "output_type": "stream",
     "text": [
      "P1 shape: (3, 4)\nP2 shape: (3, 4)\nresiual1: 14.95139224366161\nresidual2: 232.39254306624053\n"
     ]
    },
    {
     "name": "stderr",
     "output_type": "stream",
     "text": [
      "C:\\Users\\bluerain\\PycharmProjects\\cvmp2\\new_venv\\lib\\site-packages\\ipykernel_launcher.py:27: FutureWarning: `rcond` parameter will change to the default of machine precision times ``max(M, N)`` where M and N are the input matrix dimensions.\nTo use the future default and silence this warning we advise to pass `rcond=None`, to keep using the old, explicitly pass `rcond=-1`.\n"
     ]
    }
   ],
   "source": [
    "\n",
    "cam_data1 = \"data\\\\part2\\\\library1_camera.txt\"\n",
    "cam_data2 = \"data\\\\part2\\\\library2_camera.txt\"\n",
    "cam_match = \"data\\\\part2\\\\library_matches.txt\"\n",
    "# triangulate(cam_data1, cam_data2, cam_match)\n",
    "lab_p1 = \"data\\\\part2\\\\lab_p1.txt\"\n",
    "lab_p2 = \"data\\\\part2\\\\lab_p2.txt\"\n",
    "lab_match =  \"data\\\\part2\\\\lab_matches.txt\"\n",
    "triangulate(lab_p1, lab_p2, lab_match)\n"
   ]
  },
  {
   "cell_type": "code",
   "execution_count": 168,
   "metadata": {},
   "outputs": [],
   "source": []
  },
  {
   "cell_type": "code",
   "execution_count": null,
   "metadata": {},
   "outputs": [],
   "source": []
  }
 ],
 "metadata": {
  "kernelspec": {
   "display_name": "Python 2",
   "language": "python",
   "name": "python2"
  },
  "language_info": {
   "codemirror_mode": {
    "name": "ipython",
    "version": 2
   },
   "file_extension": ".py",
   "mimetype": "text/x-python",
   "name": "python",
   "nbconvert_exporter": "python",
   "pygments_lexer": "ipython2",
   "version": "2.7.6"
  }
 },
 "nbformat": 4,
 "nbformat_minor": 0
}
