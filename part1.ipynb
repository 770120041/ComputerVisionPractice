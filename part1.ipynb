{
 "cells": [
  {
   "cell_type": "code",
   "execution_count": 27,
   "metadata": {
    "collapsed": true
   },
   "outputs": [],
   "source": [
    "import cv2\n",
    "import numpy as np\n",
    "from scipy.signal import convolve2d\n",
    "from scipy.ndimage.filters import correlate \n",
    "import matplotlib.pyplot as plt\n",
    "import matplotlib.image as pltimg \n",
    "import math"
   ]
  },
  {
   "cell_type": "code",
   "execution_count": 28,
   "metadata": {},
   "outputs": [],
   "source": [
    "def load_image(path, mode=cv2.IMREAD_GRAYSCALE):\n",
    "    '''\n",
    "    :param path: image path\n",
    "    :param mode: load mode, cv2.IMREAD_GRAYSCALE, cv2.IMREAD_COLOR\n",
    "    :return: loaded img\n",
    "    '''\n",
    "    img = cv2.imread(path,mode)\n",
    "    return img\n"
   ]
  },
  {
   "cell_type": "code",
   "execution_count": 29,
   "metadata": {},
   "outputs": [],
   "source": [
    "\n",
    "def normalize(img):\n",
    "    ''' Function to normalize an input array to 0-1 '''\n",
    "    img_min = img.min()\n",
    "    img_max = img.max()\n",
    "    return (img - img_min) / (img_max - img_min)\n",
    "\n",
    "def generate_gaussian_kernel(rows, cols, sigma, highPass=True):\n",
    "    '''\n",
    "    :param rows: rows of gaussian kernel\n",
    "    :param cols: cols of gaussian kernel\n",
    "    :param sigma: sigma\n",
    "    :param highPass: if this kernel is in highpass mode\n",
    "    :return: \n",
    "    '''\n",
    "    center_row = int(rows/2) + 1 if rows % 2 == 1 else int(rows/2)\n",
    "    center_col = int(cols/2) + 1 if cols % 2 == 1 else int(cols/2)\n",
    "    def gaussian_at_pos(i,j):  \n",
    "        coefficient = math.exp(-1.0 * ((i - center_row)**2 + (j - center_col)**2) / (2 * sigma**2))\n",
    "        return 1 - coefficient if highPass else coefficient\n",
    "    \n",
    "    return np.array([[gaussian_at_pos(i, j) for j in range(cols)] for i in range(rows)])\n",
    "\n"
   ]
  },
  {
   "cell_type": "code",
   "execution_count": 30,
   "metadata": {},
   "outputs": [],
   "source": [
    ""
   ]
  },
  {
   "cell_type": "code",
   "execution_count": 30,
   "metadata": {},
   "outputs": [],
   "source": [
    "def generated_hybrid_image(image1, image2, kernel_size1, sigma1, kernel_size2, sigma2):\n",
    "    '''\n",
    "    :param image1: high_frequency_image\n",
    "    :param image2: low_frequency\n",
    "    :param sigma1: \n",
    "    :param sigma2: \n",
    "    :return: \n",
    "    '''\n",
    "    high_pass_filter = generate_gaussian_kernel(kernel_size1, kernel_size1, sigma1)\n",
    "    high_pass = image1 - correlate(image1, high_pass_filter)\n",
    "    \n",
    "    low_pass_filter = generate_gaussian_kernel(kernel_size2, kernel_size2, sigma2)\n",
    "    low_pass = correlate(image2, low_pass_filter)\n",
    "    \n",
    "    hybrid_img = (low_pass + high_pass)\n",
    "    return hybrid_img"
   ]
  },
  {
   "cell_type": "code",
   "execution_count": 31,
   "metadata": {},
   "outputs": [],
   "source": [
    "def generate_and_show_image(img_path1, img_path2, kernel_size1, sigma1, kernelsize_2,\n",
    "                            sigma2, saved_name):\n",
    "    high_frequency = load_image(PATH_C_1)\n",
    "    low_frequency = load_image(PATH_C_2)\n",
    "    high_frequency = high_frequency.astype(np.single)/255 \n",
    "    low_frequency = low_frequency.astype(np.single)/255\n",
    "    # print(high_frequency.shape)\n",
    "    # print(low_frequency.shape)\n",
    "    \n",
    "    hybrid_img_C = generated_hybrid_image(high_frequency, low_frequency, kernel_size1, sigma1, kernel_size2, sigma2)\n",
    "    \n",
    "    ''' Visualize and save outputs '''\n",
    "    plt.figure(1)\n",
    "    plt.imshow(normalize(low_frequency), cmap='gray')\n",
    "    plt.figure(2)\n",
    "    plt.imshow(normalize(high_frequency+0.5), cmap='gray')\n",
    "    plt.figure(3)\n",
    "    plt.imshow(normalize(hybrid_img_C), cmap='gray')\n",
    "    plt.show()\n",
    "    # print(hybrid_img_C.dtype)\n",
    "    cv2.imwrite('hybrid_c.png', 255 * normalize(hybrid_img_C)) \n",
    "   \n"
   ]
  },
  {
   "cell_type": "code",
   "execution_count": 32,
   "metadata": {
    "collapsed": false
   },
   "outputs": [],
   "source": [
    "if __name__ == '__main__':\n",
    "    \n",
    "    # load image\n",
    "    PATH_C_1 = \"data\\\\part1\\\\c1.jpg\"\n",
    "    PATH_C_2 = \"data\\\\part1\\\\c2.jpg\"\n",
    "    sigma1 = 10\n",
    "    kernel_size1 = 5\n",
    "    sigma2 = 10\n",
    "    kernel_size2 = 5\n",
    "    \n",
    "    generate_and_show_image(PATH_C_1, PATH_C_2, kernel_size1,sigma1,\n",
    "                            kernel_size2,sigma2,\"hybrid_c.png\")\n",
    "    "
   ]
  },
  {
   "cell_type": "code",
   "execution_count": 10,
   "metadata": {},
   "outputs": [],
   "source": []
  },
  {
   "cell_type": "code",
   "execution_count": 10,
   "metadata": {},
   "outputs": [],
   "source": []
  },
  {
   "cell_type": "code",
   "execution_count": null,
   "metadata": {},
   "outputs": [],
   "source": []
  }
 ],
 "metadata": {
  "kernelspec": {
   "display_name": "Python 2",
   "language": "python",
   "name": "python2"
  },
  "language_info": {
   "codemirror_mode": {
    "name": "ipython",
    "version": 2
   },
   "file_extension": ".py",
   "mimetype": "text/x-python",
   "name": "python",
   "nbconvert_exporter": "python",
   "pygments_lexer": "ipython2",
   "version": "2.7.6"
  }
 },
 "nbformat": 4,
 "nbformat_minor": 0
}
