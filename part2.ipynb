{
 "cells": [
  {
   "cell_type": "code",
   "execution_count": 136,
   "metadata": {
    "collapsed": true
   },
   "outputs": [],
   "source": [
    "#Fundamental matrix estimation. "
   ]
  },
  {
   "cell_type": "code",
   "execution_count": 137,
   "metadata": {},
   "outputs": [],
   "source": [
    "\n",
    "from PIL import Image\n",
    "import numpy as np\n",
    "import matplotlib.pyplot as plt\n"
   ]
  },
  {
   "cell_type": "code",
   "execution_count": 33,
   "metadata": {},
   "outputs": [],
   "source": [
    "def normalize(img):\n",
    "    ''' Function to normalize an input array to 0-1 '''\n",
    "    img_min = img.min()\n",
    "    img_max = img.max()\n",
    "    return (img - img_min) / (img_max - img_min)"
   ]
  },
  {
   "cell_type": "code",
   "execution_count": 34,
   "metadata": {},
   "outputs": [],
   "source": [
    ""
   ]
  },
  {
   "cell_type": "code",
   "execution_count": 34,
   "metadata": {},
   "outputs": [],
   "source": [
    "def coor_to_homo(coord):\n",
    "    height = len(coord)\n",
    "    new_col = np.ones((height,1))\n",
    "    homo = np.hstack((coord,new_col))\n",
    "    return homo\n"
   ]
  },
  {
   "cell_type": "code",
   "execution_count": 267,
   "metadata": {},
   "outputs": [],
   "source": [
    "def my_normalize(matches):\n",
    "    mean_num = np.mean(matches,axis=0)\n",
    "    m_off = np.eye(3,dtype=float)\n",
    "    m_off[0][2],m_off[1][2] = -mean_num[0],-mean_num[1]\n",
    "    m_scale= np.eye(3,dtype=float)\n",
    "    m_scale[0, 0] = 1.0 / max(abs(matches[:, 0]))\n",
    "    m_scale[1, 1] = 1.0 / max(abs(matches[:, 1]))\n",
    "    coor_trans = np.matmul(m_scale,m_off)\n",
    "    noralized_match = np.transpose(np.matmul(coor_trans,\n",
    "                                             np.transpose(matches)))\n",
    "    \n",
    "    return coor_trans,noralized_match\n",
    "\n",
    "def fit_fundamental(matches,method):\n",
    "    match1 = coor_to_homo(matches[:, 0:2])\n",
    "    match2 = coor_to_homo(matches[:, 2:4])\n",
    "    print(match1.shape)\n",
    "    # print(match1)\n",
    "    if method == \"normalized\":\n",
    "        coor_trans1,match1 = my_normalize(match1)\n",
    "        coor_trans2,match2 = my_normalize(match2)\n",
    "        \n",
    "    else:\n",
    "        pass\n",
    "    num_of_matches  = len(matches)\n",
    "    u = match1[:, 0]\n",
    "    v = match1[:, 1]\n",
    "    u_p = match2[:, 0]\n",
    "    v_p = match2[:, 1]\n",
    "    \n",
    "    A = np.multiply(u_p,u)\n",
    "    line_list = [\n",
    "                np.multiply(u_p,v),\n",
    "                u_p,\n",
    "                np.multiply(v_p,u),\n",
    "                np.multiply(v_p,v),\n",
    "                v_p,\n",
    "                u,\n",
    "                v,\n",
    "                np.ones(num_of_matches)]\n",
    "    \n",
    "    for i in range(len(line_list)):\n",
    "        A = np.vstack((A,line_list[i]))\n",
    "        \n",
    "    A = np.reshape(A,(-1,9))\n",
    "    print(\"A shape:\",A.shape)\n",
    "    _,_,V = np.linalg.svd(A)\n",
    "    print(\"V shape:\",V.shape)\n",
    "    F = V[len(V)-1]\n",
    "    \n",
    "    F = np.reshape(F,(3,3))\n",
    "    U,S,V = np.linalg.svd(F)\n",
    "    print(U.shape,S.shape,V.shape)\n",
    "    S[-1] = 0\n",
    "    F = np.matmul(U * S[..., None, :],np.transpose(V) )\n",
    "    print(\"F shape\",F.shape)\n",
    "    if method == \"normalized\":\n",
    "        F = np.matmul(np.transpose(coor_trans2),F)\n",
    "        F = np.matmul(F,coor_trans1)\n",
    "        \n",
    "    print(\"F:\",F)\n",
    "    residul = []\n",
    "    for i in range(num_of_matches):\n",
    "        tmp_m = np.array([matches[i][0],matches[i][1],1])\n",
    "        tmp_m = np.transpose(tmp_m)\n",
    "        X = np.matmul(F, tmp_m)\n",
    "        # print(\"X shape:\",X.shape)\n",
    "        residul += [np.abs(np.matmul(\n",
    "            np.array([matches[i][2],matches[i][3],1]),X\n",
    "                                     ))]\n",
    "    print(\"residul sum:\",np.sum(residul))\n",
    "    return F"
   ]
  },
  {
   "cell_type": "code",
   "execution_count": 264,
   "metadata": {},
   "outputs": [],
   "source": []
  },
  {
   "cell_type": "code",
   "execution_count": 264,
   "metadata": {},
   "outputs": [],
   "source": []
  },
  {
   "cell_type": "code",
   "execution_count": 264,
   "metadata": {},
   "outputs": [],
   "source": []
  },
  {
   "cell_type": "code",
   "execution_count": 264,
   "metadata": {},
   "outputs": [],
   "source": [
    "lb1path = \"data\\\\part2\\\\library1.jpg\"\n",
    "lb2path = \"data\\\\part2\\\\library2.jpg\"\n",
    "lb_matches = \"data\\\\part2\\\\library_matches.txt\"\n"
   ]
  },
  {
   "cell_type": "code",
   "execution_count": 265,
   "metadata": {},
   "outputs": [],
   "source": [
    "\n",
    "##\n",
    "## load images and match files for the first example\n",
    "##\n",
    "\n",
    "I1 = Image.open(lb1path)\n",
    "I2 = Image.open(lb2path)\n",
    "matches = np.loadtxt(lb_matches)\n",
    "\n",
    "# this is a N x 4 file where the first two numbers of each row\n",
    "# are coordinates of corners in the first image and the last two\n",
    "# are coordinates of corresponding corners in the second image: \n",
    "# matches(i,1:2) is a point in the first image\n",
    "# matches(i,3:4) is a corresponding point in the second image\n",
    "\n",
    "N = len(matches)\n",
    "\n",
    "##\n",
    "## display two images side-by-side with matches\n",
    "## this code is to help you visualize the matches, you don't need\n",
    "## to use it to produce the results for the assignment\n",
    "##\n",
    "\n",
    "I3 = np.zeros((I1.size[1],I1.size[0]*2,3) )\n",
    "I3[:,:I1.size[0],:] = I1\n",
    "I3[:,I1.size[0]:,:] = I2\n",
    "fig, ax = plt.subplots()\n",
    "ax.set_aspect('equal')\n",
    "ax.imshow(np.array(normalize(I3)).astype(float))\n",
    "ax.plot(matches[:,0],matches[:,1],  '+r')\n",
    "ax.plot( matches[:,2]+I1.size[0],matches[:,3], '+r')\n",
    "ax.plot([matches[:,0], matches[:,2]+I1.size[0]],[matches[:,1], matches[:,3]], 'r')\n",
    "plt.show()\n"
   ]
  },
  {
   "cell_type": "code",
   "execution_count": 269,
   "metadata": {},
   "outputs": [
    {
     "name": "stdout",
     "output_type": "stream",
     "text": [
      "(309, 3)\nA shape: (309, 9)\nV shape: (9, 9)\n(3, 3) (3,) (3, 3)\nF shape (3, 3)\nF: [[ 0.29993401 -0.09611818 -0.06599279]\n [ 0.16460074 -0.05893679  0.52712223]\n [-0.72054415  0.23373247 -0.09852012]]\nresidul sum: 9700490.226475574\nM shape: (3, 309)\n"
     ]
    }
   ],
   "source": [
    "\n",
    "##\n",
    "## display second image with epipolar lines reprojected \n",
    "## from the first image\n",
    "##\n",
    "\n",
    "# first, fit fundamental matrix to the matches\n",
    "F = fit_fundamental(matches,\"unnormalized\") # this is a function that you should write\n",
    "M = np.c_[matches[:,0:2], np.ones((N,1))].transpose()\n",
    "print(\"M shape:\",M.shape)\n",
    "L1 = np.matmul(F, M).transpose() # transform points from \n",
    "# the first image to get epipolar lines in the second image\n",
    "\n",
    "# find points on epipolar lines L closest to matches(:,3:4)\n",
    "l = np.sqrt(L1[:,0]**2 + L1[:,1]**2)\n",
    "L = np.divide(L1,np.kron(np.ones((3,1)),l).transpose())# rescale the line\n",
    "pt_line_dist = np.multiply(L, np.c_[matches[:,2:4], np.ones((N,1))]).sum(axis = 1)\n",
    "closest_pt = matches[:,2:4] - np.multiply(L[:,0:2],np.kron(np.ones((2,1)), pt_line_dist).transpose())\n",
    "\n",
    "# find endpoints of segment on epipolar line (for display purposes)\n",
    "pt1 = closest_pt - np.c_[L[:,1], -L[:,0]]*10# offset from the closest point is 10 pixels\n",
    "pt2 = closest_pt + np.c_[L[:,1], -L[:,0]]*10\n",
    "\n",
    "# display points and segments of corresponding epipolar lines\n",
    "fig, ax = plt.subplots()\n",
    "ax.set_aspect('equal')\n",
    "ax.imshow(normalize(np.array(I2).astype(float)))\n",
    "ax.plot(matches[:,2],matches[:,3],  '+r')\n",
    "ax.plot([matches[:,2], closest_pt[:,0]],[matches[:,3], closest_pt[:,1]], 'r')\n",
    "ax.plot([pt1[:,0], pt2[:,0]],[pt1[:,1], pt2[:,1]], 'g')\n",
    "plt.show()\n",
    "\n"
   ]
  },
  {
   "cell_type": "code",
   "execution_count": 270,
   "metadata": {},
   "outputs": [],
   "source": [
    "#Camera calibration"
   ]
  },
  {
   "cell_type": "code",
   "execution_count": 271,
   "metadata": {},
   "outputs": [],
   "source": [
    "def evaluate_points(M, points_2d, points_3d):\n",
    "    \"\"\"\n",
    "    Visualize the actual 2D points and the projected 2D points calculated from\n",
    "    the projection matrix\n",
    "    You do not need to modify anything in this function, although you can if you\n",
    "    want to\n",
    "    :param M: projection matrix 3 x 4\n",
    "    :param points_2d: 2D points N x 2\n",
    "    :param points_3d: 3D points N x 3\n",
    "    :return:\n",
    "    \"\"\"\n",
    "    N = len(points_3d)\n",
    "    points_3d = np.hstack((points_3d, np.ones((N, 1))))\n",
    "    points_3d_proj = np.dot(M, points_3d.T).T\n",
    "    u = points_3d_proj[:, 0] / points_3d_proj[:, 2]\n",
    "    v = points_3d_proj[:, 1] / points_3d_proj[:, 2]\n",
    "    residual = np.sum(np.hypot(u-points_2d[:, 0], v-points_2d[:, 1]))\n",
    "    points_3d_proj = np.hstack((u[:, np.newaxis], v[:, np.newaxis]))\n",
    "    return points_3d_proj, residual"
   ]
  },
  {
   "cell_type": "code",
   "execution_count": 258,
   "metadata": {},
   "outputs": [],
   "source": [
    "def calculate_projection_matrix( Point_2D, Points_3D ):\n",
    "    num_of_points = Points_3D.shape[0]\n",
    "    print(num_of_points)\n",
    "    A = np.array([])\n",
    "    B = np.array([])\n",
    "    M = np.zeros((11,1))\n",
    "    for i in range(num_of_points):\n",
    "        x = Points_3D[i][0]\n",
    "        y = Points_3D[i][1]\n",
    "        z = Points_3D[i][2]\n",
    "        u = Point_2D[i][0]\n",
    "        v = Point_2D[i][1]\n",
    "        line_a = np.array([x,y,z,1,0,0,0,0,-u*x,-u*y,-u*z])\n",
    "        A = np.vstack((A,line_a)) if len(A)>0 else line_a\n",
    "        line_b = np.array([0, 0, 0, 0, x, y, z, 1 ,-v*x, -v*y, -v*z])\n",
    "        A = np.vstack((A,line_b))\n",
    "        B = np.append(B,u)\n",
    "        B = np.append(B,v)\n",
    "    M = np.array(np.linalg.lstsq(A,B)[0])\n",
    "    M = np.append(M,1)\n",
    "    M = np.reshape(M,(3,-1))\n",
    "    \n",
    "    return M\n",
    "    \n",
    "def compute_camera_center(M):\n",
    "    left = -(((M[:, 0:3])))\n",
    "    Center = np.linalg.lstsq(left, M[:, 3])[0]\n",
    "    return Center\n"
   ]
  },
  {
   "cell_type": "code",
   "execution_count": 259,
   "metadata": {},
   "outputs": [
    {
     "name": "stdout",
     "output_type": "stream",
     "text": [
      "20\nM: [[-2.04662532e+00  1.18743052e+00  3.88938200e-01  2.43732985e+02]\n [-4.56886722e-01 -3.02017128e-01  2.14721848e+00  1.65932475e+02]\n [-2.24678720e-03 -1.09380146e-03  5.58547111e-04  1.00000000e+00]]\nCenter: [303.09666406 307.18423708  30.4222733 ]\nresidual： 15.621732317328656\n"
     ]
    }
   ],
   "source": [
    "lab_matchtxt = \"data\\\\part2\\\\lab_matches.txt\"\n",
    "lab_3d_path = \"data\\\\part2\\\\lab_3d.txt\"\n",
    "\n",
    "point2D = np.loadtxt(lab_matchtxt)\n",
    "point3D = np.loadtxt(lab_3d_path)\n",
    "point2D_1 = np.array([[match[0],match[1]] for match in point2D])\n",
    "point2D_2 = np.array([[match[2],match[3]] for match in point2D])\n",
    "# print(point2D_1)\n",
    "# print(point3D)\n",
    "projection_M = calculate_projection_matrix(point2D_2, point3D)\n",
    "print(\"M:\",projection_M)\n",
    "Center = compute_camera_center(projection_M)\n",
    "print(\"Center:\",Center)\n",
    " # 记得都要测\n",
    "  \n",
    "points3d_eval, residul = evaluate_points(projection_M, point2D_2, point3D)\n",
    "print(\"residual：\",residul)"
   ]
  },
  {
   "cell_type": "code",
   "execution_count": null,
   "metadata": {},
   "outputs": [],
   "source": [
    "#Calculate the camera centers  and triangulate"
   ]
  },
  {
   "cell_type": "code",
   "execution_count": 260,
   "metadata": {},
   "outputs": [],
   "source": [
    "C1_path = \"data\\\\part2\\\\c1.txt\"\n",
    "C2_path = \"data\\\\part2\\\\c2.txt\"\n",
    "\n",
    "def triangulate(P1_path, P2_path, matches_path):\n",
    "    P1 = np.loadtxt(P1_path)\n",
    "    P2 = np.loadtxt(P2_path)\n",
    "    matches = np.loadtxt(matches_path)\n",
    "    num_of_matches = matches.shape[0]\n",
    "    # camera center, null space of projection matrix\n",
    "    C1 = compute_camera_center(P1)\n",
    "    C2 = compute_camera_center(P2)\n",
    "    print(\"C1:\",C1)\n",
    "    print(\"c2:\",C2)\n",
    "    coor_3d = np.zeros((num_of_matches, 3))\n",
    "    for i in range(num_of_matches):\n",
    "        x1= np.array([\n",
    "            [0, -1, matches[i][1]],\n",
    "            [1, 0 , -matches[i][0]],\n",
    "            [-matches[i][1],matches[i][0],0]\n",
    "        ])\n",
    "        x2 = np.array([\n",
    "            [0,-1,matches[i][3]],\n",
    "            [1, 0, -matches[i][2]],\n",
    "            [-matches[i][3], matches[i][2], 0]\n",
    "        ])\n",
    "        D = np.vstack((np.matmul(x1,P1),np.matmul(x2,P2)))\n",
    "        _,_,V = np.linalg.svd(D)\n",
    "        X = V[len(V)-1]\n",
    "        \n",
    "        coor_3d[i,0:3] = [X[0]/X[3], X[1]/X[3], X[2]/X[3]]\n",
    "    print(coor_3d)"
   ]
  },
  {
   "cell_type": "code",
   "execution_count": 261,
   "metadata": {},
   "outputs": [
    {
     "name": "stdout",
     "output_type": "stream",
     "text": [
      "C1: [  7.28863053 -21.52118112  17.73503585]\nc2: [  6.89405488 -15.39232716  23.41498687]\n[[-6.20652502e-01 -3.13649787e-01  1.56836960e+01]\n [-1.11109351e+00 -6.46825702e-02  1.27894468e+01]\n [-3.79848506e+00 -4.23590580e-01 -8.38218482e-01]\n [-3.78217142e+00 -1.62998502e-01 -4.96994438e-01]\n [ 1.47480536e-01 -5.37074803e-01  1.22387428e+01]\n [ 8.95007187e-01 -3.73303320e-01  1.55912414e+01]\n [ 1.17955936e-01 -4.75858374e-01  1.16567217e+01]\n [-1.96393746e+00 -4.42536772e-01  5.70520139e-01]\n [ 7.92402536e-02 -3.67258340e-01  9.85945435e+00]\n [ 1.51479853e+00 -2.37059504e-01  1.57182141e+01]\n [ 1.14156227e-01 -4.70010867e-01  8.16280633e+00]\n [ 1.83006365e+00 -8.49965137e-02  1.52525722e+01]\n [ 1.18210190e-01 -4.78209175e-01  5.02674644e+00]\n [ 1.77359971e+00 -6.89522594e-02  1.29729096e+01]\n [ 1.54983981e+00 -2.15802841e-01  3.92788069e+00]\n [ 2.64716997e+00 -2.13984798e-02  1.06722945e+01]\n [ 1.73724172e+00 -3.30400782e-01  3.13594468e+00]\n [ 1.79289613e+00 -2.06654629e-01  3.21802175e+00]\n [ 3.27192622e+00 -4.16092963e-01  9.86294433e+00]\n [ 4.82298452e+00 -2.95894945e-01  1.37706552e+01]\n [ 6.39276274e+00 -3.31827968e-01  1.09633444e+01]\n [ 6.39520147e+00 -3.58823604e-01  1.36193785e+01]\n [ 6.43104169e+00 -5.92747849e-01  1.21310249e+01]\n [ 6.72233174e+00 -3.23930449e-01  1.62478694e+01]\n [ 7.43645583e+00 -3.28359696e-01  1.39425575e+01]\n [-1.82797795e+00 -5.44992671e-01 -1.22588016e+00]\n [ 1.02641157e+00 -1.51530544e-01  1.27257725e+01]\n [ 2.00792189e+00 -1.88047324e-01  1.51696807e+01]\n [ 1.77608399e+00 -5.16285464e-01 -1.98697721e+00]\n [ 4.12620532e+00 -2.58412949e-01  1.55977847e+01]\n [ 4.55230859e+00 -3.64767501e-01 -2.44994031e-01]\n [-1.07255088e+00 -1.10639334e-01  1.53730886e+01]\n [-1.09189190e-01 -4.54225689e-01  1.68965141e+01]\n [ 3.36175628e-01 -4.07545041e-01  1.29500352e+01]\n [-1.01094022e+00  1.01377114e-01  3.41438820e+00]\n [ 1.54121570e+00 -1.50061025e-01  1.47837750e+01]\n [ 9.70175204e-01 -2.52730962e-01  1.04998512e+01]\n [ 1.82112661e+00 -2.81025383e-01  1.45855332e+01]\n [ 1.80764852e+00 -3.18835263e-01  1.05545455e+01]\n [ 1.83808824e+00 -3.46732602e-01  1.00381580e+01]\n [ 3.00517131e+00 -2.40097621e-01  1.67031683e+01]\n [ 1.42983819e+00 -2.69364581e-01  5.23723433e-01]\n [ 1.74920392e+00 -3.52312086e-01  2.55153125e+00]\n [ 3.03887798e+00 -3.29532969e-01  1.13350990e+01]\n [ 4.07932461e+00 -3.12782121e-01  1.54205762e+01]\n [ 4.35985779e+00 -3.49819946e-01  1.04828955e+01]\n [ 4.99949311e+00 -3.33549164e-01  1.31246088e+01]\n [ 6.39790428e+00 -4.14471646e-01  9.61055790e+00]\n [ 6.50647987e+00 -3.57367985e-01  1.36239909e+01]\n [ 6.58729430e+00 -3.85306123e-01  1.41837220e+01]\n [ 6.73278660e+00 -3.85617918e-01  1.39286163e+01]\n [ 6.75267089e+00 -3.59642696e-01  1.32942513e+01]\n [ 6.91375544e+00 -3.50426535e-01  1.64675581e+01]\n [ 7.32913734e+00 -3.47818803e-01  1.34664492e+01]\n [ 7.48012964e+00 -3.99064956e-01  1.44156985e+01]\n [ 7.66819794e+00 -3.55993095e-01  1.55782744e+01]\n [-5.96050238e+00 -4.75042683e-01  2.23292940e+00]\n [-5.83047740e+00 -5.18396529e-01 -1.79349256e+00]\n [-1.08794555e+00  2.89528200e-01  1.49394268e+01]\n [-1.13873538e+00  3.91589721e-01  1.30929110e+01]\n [ 1.12361624e+00 -1.57313444e-01  1.50782943e+01]\n [ 1.15474112e+00 -3.78969355e-02  1.50093900e+01]\n [ 4.27562509e-01 -4.22670881e-01  1.06515548e+01]\n [ 4.76644931e-01 -4.63233278e-01  8.34966337e+00]\n [ 1.13136158e+00 -2.04120674e-01  1.07367945e+01]\n [ 1.92569250e+00 -3.95318517e-01  9.86603824e+00]\n [ 1.27262085e+00 -2.01954057e-01  3.61940387e+00]\n [ 2.31266267e+00 -1.17398544e-01  1.02425391e+01]\n [ 1.94053374e+00 -3.68742214e-01  2.94993697e+00]\n [ 1.29845332e+00 -4.35136343e-01 -4.59361653e+00]\n [ 3.65096226e+00 -4.75608942e-01  2.16003610e-01]\n [ 5.03738548e+00 -3.21156481e-01  1.58455685e+01]\n [ 4.95321628e+00 -3.55268021e-01  1.37899073e+01]\n [ 4.99339173e+00 -3.33857636e-01  1.40319912e+01]\n [ 5.00538530e+00 -3.81540271e-01  1.30211652e+01]\n [ 5.00552436e+00 -3.57654390e-01  1.19009368e+01]\n [ 6.32008194e+00 -3.64118534e-01  1.61501011e+01]\n [ 6.41626203e+00 -4.16424053e-01  1.06083003e+01]\n [ 6.56394112e+00 -3.32899960e-01  1.46598765e+01]\n [ 6.63648719e+00 -3.84210826e-01  1.11209392e+01]\n [ 6.69754630e+00 -3.13148618e-01  1.46751421e+01]\n [ 6.74897186e+00 -3.16532253e-01  1.63022316e+01]\n [-1.38937638e+00  3.14860710e-01  1.46393865e+01]\n [-7.19000512e-01 -1.15987045e-01  1.42325889e+01]\n [-4.07118248e+00 -3.37628402e-01 -7.09770533e-01]\n [-6.99275627e-01 -1.57571862e-01  1.19663883e+01]\n [-8.02903650e-01 -7.62666231e-02  5.21267642e+00]\n [ 3.80948199e-01 -4.25036748e-01  9.50452599e+00]\n [-2.40450473e+00 -7.18609051e-02 -5.44482300e+00]\n [ 3.67014495e+00 -4.82187170e-01  2.23921747e-01]\n [ 5.02290264e+00 -3.96587502e-01  9.93146198e+00]\n [ 6.42282746e+00 -4.07983179e-01  1.16576938e+01]\n [-6.08501884e+00 -5.88566987e-01 -2.00762771e+00]\n [-1.86433840e+00 -4.06956399e-01  4.69800482e-01]\n [ 1.29371874e+00 -3.36260582e-01  9.13452299e+00]\n [ 2.99780476e+00 -9.88236658e-01 -2.23607942e+00]\n [ 3.68736136e+00 -4.83412239e-01  2.20474394e-01]\n [ 6.75103696e+00 -3.78484548e-01  1.46600400e+01]\n [ 7.44927180e+00 -3.95252563e-01  1.44218882e+01]\n [ 5.34647968e-01 -4.71062136e-01  8.41322511e+00]\n [ 1.95732541e+00 -1.64153547e-01  1.58247574e+01]\n [ 1.63522485e+00 -3.53465820e-01  1.38490472e+01]\n [ 1.89154363e-01 -5.70599361e-01 -2.08093406e+00]\n [ 2.80873487e+00 -3.51634775e-01 -2.52544606e+00]\n [ 6.45039403e+00 -3.88500397e-01  1.37485583e+01]\n [ 6.61908296e+00 -3.54012294e-01  1.43074191e+01]\n [ 6.92226126e+00 -3.26476855e-01  1.44496776e+01]\n [ 7.61029270e+00 -3.59602270e-01  1.35322878e+01]\n [ 8.90167593e-01 -2.87970723e-01  1.58813988e+01]\n [ 7.23251724e+00 -3.92561875e-01  1.14435734e+01]\n [ 5.04266395e+00 -2.96868232e-01  1.57888511e+01]\n [ 2.82246560e+00 -2.59256336e-01  1.36902571e+01]\n [-1.16691570e+00  6.42088581e-01  1.49744269e+01]\n [-7.28822293e+00 -2.41825378e-01  7.66144024e-01]\n [-5.86855793e+00 -4.85178257e-01 -5.80810960e-01]\n [-5.85779828e+00 -4.95401805e-01 -8.22907462e-01]\n [-3.24561939e+00  8.41806518e-02 -3.38064723e-01]\n [-3.45708072e+00  1.35306848e-02 -3.07321625e-01]\n [ 4.99270338e+00 -3.35135550e-01  1.39918067e+01]\n [-5.57291996e+00 -4.00551741e-01  2.11034696e-01]\n [ 1.92280759e+00 -3.58277325e-01  2.89281313e+00]\n [ 4.61226344e-02 -4.94167816e-01  8.31009278e+00]\n [ 1.91668457e+00 -4.91236897e-01  1.41422373e+01]\n [-5.83752225e+00 -5.36894945e-01 -1.85611315e+00]\n [ 3.10357582e+00 -3.71641808e-01 -2.86852827e+00]\n [ 6.31790863e+00 -3.42951100e-01  1.60709472e+01]\n [ 6.57292795e+00 -3.45402601e-01  1.20252550e+01]\n [ 1.81710389e+00 -2.92567080e-01  1.45351074e+01]\n [ 1.61870397e+00 -1.67024278e-01  1.02046653e+01]\n [ 1.66781687e+00 -2.40609814e-01  1.05072051e+01]\n [-5.91793581e-01 -1.43129340e-01  2.69443595e-01]\n [-2.07135166e+00 -5.33677219e-02  2.53656526e+00]\n [-2.14386654e+00 -3.77023879e-01 -3.80068889e-01]\n [-2.08856423e+00 -4.65104642e-01 -8.92790036e-02]\n [ 1.84536308e+00 -3.84953149e-01  9.99719474e+00]\n [ 1.28765750e+00 -2.46639372e-01  1.29445018e+01]\n [ 5.02530833e+00 -2.37982700e-01  1.50712540e+01]\n [ 5.05165017e+00 -2.82832909e-01  1.10272962e+01]\n [ 5.05663267e+00 -2.75659478e-01  1.01453997e+01]\n [ 6.61302745e+00 -3.40390932e-01  1.45944777e+01]\n [ 1.83356309e+00 -3.23759105e-01  3.09878185e+00]\n [ 1.92413278e+00 -5.00053441e-01  9.52949133e+00]\n [ 6.81741635e+00 -3.58384097e-01  1.39877184e+01]\n [ 6.62593383e+00 -3.25219519e-01  1.43303380e+01]\n [ 5.05114828e+00 -2.55956352e-01  8.88270640e+00]\n [ 3.00814293e-01 -3.75382516e-01  1.30606074e+01]\n [ 1.81201422e+00 -2.82828331e-01 -1.81004027e+00]\n [ 4.26037677e+00 -3.09377955e-01  1.50684037e+01]\n [ 4.15983844e+00 -3.35722387e-01  1.51573499e+01]\n [ 4.68767602e+00 -3.38210049e-01  1.49110913e+01]\n [ 6.47651793e-01 -3.58951591e-01  1.17921164e+01]\n [ 4.43806320e+00 -3.02850966e-01  1.49636453e+01]\n [ 1.20079481e+00 -3.90125284e-01  9.15828534e+00]\n [ 1.18086107e+00 -4.54167677e-01  9.15887477e+00]\n [ 6.26983074e+00 -4.61941332e-01  1.47511095e+01]\n [ 4.33123674e+00 -3.06443905e-01  1.50175800e+01]\n [ 6.56842565e+00 -3.39656710e-01  1.41187344e+01]\n [-1.64334523e+00 -3.84314565e-01  5.02110128e-01]\n [ 3.00837707e+00 -3.55502201e-01  1.18637283e+01]\n [ 4.77457217e-01 -3.50411362e-01  3.34657922e+00]\n [-1.25092491e+00 -3.94319589e-01  8.75028890e-01]\n [ 9.87340159e-01 -4.30477088e-01 -2.49985837e+00]\n [-8.61287976e-01 -4.06717931e-01  1.17768959e+00]\n [ 5.15271119e+00 -3.32179103e-01  1.49055567e+01]\n [ 5.19544616e+00 -3.63041906e-01  1.18856084e+01]\n [ 5.25782918e+00 -3.91342523e-01  1.30190650e+01]\n [-7.33185663e+00 -3.48432554e-01  9.66802456e-01]\n [-7.59623835e-01 -4.99526979e-02  1.42807898e+01]\n [ 1.19008176e+00 -3.80066004e-01  1.10585769e+01]\n [ 6.18906178e+00 -3.07617082e-01  1.46437295e+01]\n [ 1.31614240e+00 -1.85017040e-01  1.27880374e+01]\n [ 1.34918573e+00 -2.55011541e-01  3.61427246e+00]\n [ 4.25520737e+00 -3.62333379e-01  7.40496938e+00]\n [ 2.41283740e+00 -5.96286704e-02  7.84993960e+00]\n [ 1.25333512e+00 -3.10367909e-01 -3.34867686e+00]\n [-2.13781340e-01 -8.35049166e-02 -1.46890976e-01]\n [ 5.11252078e+00 -3.74447957e-01  1.18350994e+01]\n [ 7.40654805e+00 -3.64494762e-01  1.14010616e+01]\n [ 1.10973709e+00 -1.21916251e-01  1.50197812e+01]\n [-4.44599661e+00 -1.22660097e-01  2.33303102e-01]\n [ 4.96037366e+00 -3.61980072e-01  1.09527908e+01]\n [ 6.51969641e+00 -4.20168137e-01  1.22885181e+01]\n [ 3.95083114e-01 -3.80012596e-01  9.47250149e+00]\n [ 4.93107357e+00 -3.36562264e-01  1.57509757e+01]\n [-4.67522206e+00 -3.52996461e-01 -4.53732145e-01]\n [-3.98839240e+00 -5.36257230e-02  9.93339234e-02]\n [ 6.62380995e+00 -2.92129947e-01  1.40250895e+01]\n [-5.81419002e+00 -4.91062163e-01  2.33606528e+00]\n [ 6.96503993e-01 -3.38181917e-01  1.40672475e+01]\n [ 3.06379617e+00 -2.33883715e-01  1.11656355e+01]\n [-5.81248667e+00 -2.92403248e-01  2.50201118e+00]\n [ 6.44360966e+00 -4.05699043e-01  1.19340154e+01]\n [ 6.72298036e+00 -3.27771013e-01  1.43338052e+01]\n [ 6.92001357e+00 -3.72070676e-01  1.39808820e+01]\n [ 3.07372632e+00 -3.00680542e-01  9.03360727e+00]\n [ 4.52288683e+00 -2.34603724e-01  1.56130863e+01]\n [ 1.31119490e+00 -2.98107569e-01  1.01793528e+01]\n [ 6.80190109e+00 -3.75666274e-01  1.38848600e+01]\n [ 3.10246618e+00 -4.06002214e-01  9.76162583e+00]\n [ 4.10485151e+00 -3.03899107e-01  1.66261854e+01]\n [ 4.94837987e+00 -3.57847468e-01  8.84748428e+00]\n [ 6.66492840e+00 -3.44916150e-01  1.37266141e+01]\n [-5.18850199e+00 -3.64421462e-01  1.31518176e-01]\n [-3.97230802e+00 -2.78046753e-01 -2.92729541e-01]\n [-5.07040272e+00 -2.89365726e-01 -2.06899311e-01]\n [ 3.01414402e+00 -8.41748326e-03  1.01650462e+01]\n [ 7.02326204e+00 -3.53651302e-01  1.16372096e+01]\n [-8.47019371e-02 -4.26788639e-01  1.18874827e+01]\n [-1.54388934e+00 -6.93190623e-02  1.29481681e+01]\n [-1.61822069e+00 -1.49938440e-01  1.29700103e+01]\n [-1.07810802e+00  9.82649940e-02  1.51623421e+01]\n [ 4.01160754e+00 -3.03869384e-01  1.54922064e+01]\n [-1.06228138e+00  1.25631980e-01  3.23403838e+00]\n [-1.09970653e+00  7.43287187e-02  3.28345286e+00]\n [ 7.76863011e-02 -3.24959993e-01  1.61160882e+01]\n [-9.01733215e-01 -2.31284940e-01  1.67849414e+01]\n [-7.13821091e+00 -2.64645012e-01  8.24051194e-01]\n [ 5.71221869e-02 -4.44040059e-01  8.44531936e+00]\n [ 6.50676774e+00 -3.67501584e-01  1.14837208e+01]\n [ 7.06568176e+00 -3.80908683e-01  1.14497619e+01]\n [ 2.00759986e+00 -2.04574951e-02  1.30618544e+01]\n [-2.07822599e+00 -4.98795400e-01 -9.24419618e-01]\n [ 8.78139713e-02 -3.98673515e-01  1.07555132e+01]\n [ 3.30042039e-01 -4.11091527e-01  8.33494684e+00]\n [ 6.20017147e+00 -5.54653531e-01  2.32020825e+00]\n [ 6.67479946e+00 -3.53157758e-01  1.19388199e+01]\n [-1.11964292e+00  3.78861746e-01  1.47698698e+01]\n [ 1.07948938e+00 -1.31687738e-01  1.50018363e+01]\n [ 1.25482116e+00 -3.04001880e-01  1.31112854e+01]\n [ 7.22243004e+00 -3.54497155e-01  1.38376482e+01]\n [ 6.19440845e+00 -7.37528843e-02  1.51786530e+01]\n [-1.02911135e+00  1.60548413e-01  3.06950236e+00]\n [ 6.39639040e+00 -3.83485425e-01  1.23755199e+01]\n [ 7.21114171e+00 -3.47828502e-01  1.44251806e+01]\n [ 6.06501802e-01 -2.75112466e-01  1.51793120e+01]\n [ 3.20124592e+00 -5.18179199e-01 -1.10587473e+00]\n [ 1.25280451e+00 -1.35110812e-01  1.52899615e+01]\n [ 6.40168453e+00 -3.26847386e-01  1.43013114e+01]\n [ 4.69173853e+00 -3.01304712e-01  1.59511142e+01]\n [ 1.83577320e-02 -3.71727459e-01  1.51830722e+01]\n [ 1.91579124e+00 -3.51267743e-01  1.36877469e+01]\n [-5.86513756e+00 -5.53129814e-01  1.58502681e+00]\n [ 8.30619567e-02 -3.49049104e-01  1.58534439e+01]\n [ 2.58865609e-01 -3.70171654e-01  6.04707570e+00]\n [ 3.19105681e+00 -5.49383769e-01  9.63808216e+00]\n [ 3.14041660e+00 -5.73819295e-01 -3.64706054e+00]\n [ 3.25691904e+00 -5.53966820e-01 -1.19080450e+00]\n [ 8.95931986e-01 -2.67263524e-01  1.58566052e+01]\n [ 7.80091031e-01 -3.93912505e-01 -2.65147507e+00]\n [ 3.83562105e+00 -4.64901477e-01 -6.94408838e-01]\n [-3.91183826e+00 -4.25315834e-01 -6.11702348e-01]\n [ 4.27212547e+00 -3.52159797e-01  1.22254009e+01]\n [ 1.86453570e+00 -3.97806876e-01 -4.26797929e+00]\n [ 6.67604976e+00 -3.77178015e-01  1.18806668e+01]\n [ 6.52003842e+00 -3.83526012e-01  9.90566644e+00]\n [ 5.45692841e+00 -3.15420622e-01  8.90702071e+00]\n [ 4.87183224e+00 -3.17630695e-01  1.64311505e+01]\n [ 3.58319864e-01 -3.83617266e-01  1.01047808e+01]\n [ 1.98544197e+00 -3.41072740e-01  2.51917264e+00]\n [ 1.91982266e+00 -2.57826863e-01 -3.72921475e+00]\n [ 7.03661596e+00 -3.37170569e-01  1.44923733e+01]\n [-5.02023874e+00 -3.78903875e-01 -1.81320812e-01]\n [-1.95582085e+00 -4.00778112e-01 -1.11943592e+00]\n [ 5.04597164e+00 -3.49442034e-01  1.39493469e+01]\n [ 6.87248548e+00 -3.49210786e-01  1.46512314e+01]\n [ 1.86124311e+00 -1.75800555e-01  1.01324913e+01]\n [ 1.17129999e+00 -1.45890571e-01  1.27377529e+01]\n [ 1.27165630e+00 -2.12277630e-01  1.05329443e+01]\n [ 1.02039661e+00 -1.96812679e-01  3.56314159e+00]\n [ 3.58453519e-02 -5.16160633e-01  2.53911269e+00]\n [ 6.47384165e+00 -3.32570243e-01  1.29675452e+01]\n [ 6.39800474e+00 -3.56772047e-01  1.53174128e+01]\n [-3.87222188e-01 -9.45476708e-02  4.59966754e-01]\n [ 1.44662183e+00 -2.10537567e-01  1.26721919e+01]\n [-4.17720741e+00 -1.34521121e-01  2.04321879e-01]\n [ 2.31650380e-01 -2.88900151e-01  2.49178550e+00]\n [ 6.73541207e+00 -3.41334248e-01  8.55017507e+00]\n [ 4.68579016e-01 -3.49282207e-01  4.08032115e+00]\n [ 2.08579931e-01 -1.90473713e-01  1.51366005e+01]\n [ 2.44004100e-01 -3.63659610e-01  1.28938683e+01]\n [ 2.57440223e-01 -3.36088050e-01  3.72995975e+00]\n [ 1.33785315e+00 -2.90195518e-01  5.99017132e+00]\n [ 1.82535315e-01 -3.86341294e-01  8.06286265e+00]\n [ 3.74351535e-01 -4.05815481e-01  6.48657560e+00]\n [ 6.78480693e+00 -3.77550824e-01  1.18506013e+01]\n [ 4.04998740e-01 -4.04199000e-01  1.01992727e+01]\n [ 3.00026930e-01 -4.47335145e-01  1.22157281e+01]\n [-1.08961638e+00  1.10773720e-01  3.71053626e+00]\n [-4.98759411e-02 -5.14537778e-01  4.43366189e+00]\n [-1.94838201e+00 -3.79128471e-01  1.22703038e+00]\n [ 3.21449929e+00 -3.45591071e-01  2.75834875e+00]\n [-1.48861101e+00 -3.82143294e-01 -2.72292140e-01]\n [-1.51366219e+00 -4.01332337e-01 -2.22242965e-01]\n [-5.10150044e+00  2.28969392e+00  4.80564530e+00]\n [-5.08611971e+00  2.29357136e+00  7.06114968e+00]\n [-5.06624573e+00  2.23702584e+00  9.54347540e+00]\n [-8.76828841e+00  2.14721710e-01 -6.75012717e-01]\n [-7.66972380e+00  1.53766489e+00  2.05309694e+00]\n [-7.70398020e+00  3.19036895e+00  2.04741153e+00]\n [-9.09447938e+00  4.06762855e+00  1.51090333e+00]\n [-8.71664371e+00  1.07756710e-01  1.36162143e+00]\n [-6.31254503e+00  4.03165496e+00  2.67668066e+00]\n [-3.17374648e+00  1.32153475e+00  3.23022868e+00]\n [-3.57562350e+00  1.46196951e+00  7.75361776e+00]\n [-2.94424572e+00  1.01193625e+00  1.11480881e+01]\n [-2.60373742e+00  9.91978784e-01  3.84465468e+00]\n [-2.53006181e+00 -1.64984874e-01  6.11131626e+00]\n [-2.35168652e+00 -2.04715174e-01  1.29687652e+01]\n [-2.20491680e+00 -5.02663965e-01  1.52529416e+01]]\n"
     ]
    },
    {
     "name": "stderr",
     "output_type": "stream",
     "text": [
      "C:\\Users\\bluerain\\PycharmProjects\\cvmp2\\new_venv\\lib\\site-packages\\ipykernel_launcher.py:27: FutureWarning: `rcond` parameter will change to the default of machine precision times ``max(M, N)`` where M and N are the input matrix dimensions.\nTo use the future default and silence this warning we advise to pass `rcond=None`, to keep using the old, explicitly pass `rcond=-1`.\n"
     ]
    }
   ],
   "source": [
    "\n",
    "cam_data1 = \"data\\\\part2\\\\library1_camera.txt\"\n",
    "cam_data2 = \"data\\\\part2\\\\library2_camera.txt\"\n",
    "cam_match = \"data\\\\part2\\\\library_matches.txt\"\n",
    "triangulate(cam_data1, cam_data2, cam_match)\n"
   ]
  },
  {
   "cell_type": "code",
   "execution_count": 168,
   "metadata": {},
   "outputs": [],
   "source": []
  },
  {
   "cell_type": "code",
   "execution_count": null,
   "metadata": {},
   "outputs": [],
   "source": []
  }
 ],
 "metadata": {
  "kernelspec": {
   "display_name": "Python 2",
   "language": "python",
   "name": "python2"
  },
  "language_info": {
   "codemirror_mode": {
    "name": "ipython",
    "version": 2
   },
   "file_extension": ".py",
   "mimetype": "text/x-python",
   "name": "python",
   "nbconvert_exporter": "python",
   "pygments_lexer": "ipython2",
   "version": "2.7.6"
  }
 },
 "nbformat": 4,
 "nbformat_minor": 0
}
