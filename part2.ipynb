{
 "cells": [
  {
   "cell_type": "code",
   "execution_count": 6,
   "metadata": {
    "collapsed": true
   },
   "outputs": [],
   "source": [
    "import cv2\n",
    "import numpy as np\n",
    "from scipy.signal import convolve2d\n",
    "from scipy.ndimage.filters import correlate \n",
    "import matplotlib.pyplot as plt\n",
    "import matplotlib.image as pltimg \n",
    "import math\n",
    "import skimage\n",
    "from scipy.ndimage.filters import gaussian_laplace"
   ]
  },
  {
   "cell_type": "code",
   "execution_count": 7,
   "metadata": {},
   "outputs": [],
   "source": [
    "def load_image(path):\n",
    "    '''\n",
    "    :param path: path to load image\n",
    "    :return: grayscaled and float image\n",
    "    '''\n",
    "    img = cv2.imread(path, cv2.IMREAD_GRAYSCALE)\n",
    "    # transmit the image to float\n",
    "    img = skimage.img_as_float(img)\n",
    "    print(img.dtype)\n",
    "    return img"
   ]
  },
  {
   "cell_type": "code",
   "execution_count": 8,
   "metadata": {},
   "outputs": [],
   "source": [
    "def normalize(img):\n",
    "    ''' Function to normalize an input array to 0-1 '''\n",
    "    img_min = img.min()\n",
    "    img_max = img.max()\n",
    "    return (img - img_min) / (img_max - img_min)\n",
    "\n",
    "def generate_laplacian_filter(size, sigma):\n",
    "    return gaussian_laplace(np.zeros((size,size)),sigma=sigma)"
   ]
  },
  {
   "cell_type": "code",
   "execution_count": 9,
   "metadata": {},
   "outputs": [],
   "source": []
  },
  {
   "cell_type": "code",
   "execution_count": 9,
   "metadata": {},
   "outputs": [],
   "source": [
    "def show_all_circles(image, cx, cy, rad, color='r'):\n",
    "    \"\"\"\n",
    "    image: numpy array, representing the grayscsale image\n",
    "    cx, cy: numpy arrays or lists, centers of the detected blobs\n",
    "    rad: numpy array or list, radius of the detected blobs\n",
    "    \"\"\"\n",
    "    import matplotlib.pyplot as plt\n",
    "    from matplotlib.patches import Circle\n",
    "\n",
    "    fig, ax = plt.subplots()\n",
    "    ax.set_aspect('equal')\n",
    "    ax.imshow(image, cmap='gray')\n",
    "    for x, y, r in zip(cx, cy, rad):\n",
    "        circ = Circle((x, y), r, color=color, fill=False)\n",
    "        ax.add_patch(circ)\n",
    "\n",
    "    plt.title('%i circles' % len(cx))\n",
    "    plt.show()"
   ]
  },
  {
   "cell_type": "code",
   "execution_count": 10,
   "metadata": {},
   "outputs": [],
   "source": []
  },
  {
   "cell_type": "code",
   "execution_count": 10,
   "metadata": {},
   "outputs": [],
   "source": []
  },
  {
   "cell_type": "code",
   "execution_count": 10,
   "metadata": {},
   "outputs": [],
   "source": [
    "# define parameters\n",
    "'''\n",
    "k           increasing factor K\n",
    "levels      number of iterations\n",
    "ini_sigma   scale for LOG\n",
    "'''\n",
    "threshold = 0.25              \n",
    "k = 1.25                     \n",
    "levels = 12                    \n",
    "initial_sigma = 2            \n",
    "sigma = 2\n",
    "\n",
    "BUFFER_FLY = \"data\\\\part2\\\\butterfly.jpg\" \n",
    "EINSTEIN = \"data\\\\part2\\\\einstein.jpg\"\n",
    "FISHES = \"data\\\\part2\\\\fishes.jpg\"\n",
    "SUNFLOWERS =  \"data\\\\part2\\\\sunflowers.jpg\""
   ]
  },
  {
   "cell_type": "code",
   "execution_count": 16,
   "metadata": {},
   "outputs": [],
   "source": [
    "# upscaling\n",
    "\n",
    "def upscaling_method(img, sigma, k, levels):\n",
    "    height, width = img.shape\n",
    "    print(height, width)\n",
    "    img_scale_space = np.zeros(height, width, levels)\n",
    "    \n",
    "    for i in range(levels):\n",
    "        # element wise scaling\n",
    "        img_scale_space = np.power(gaussian_laplace(img, sigma=sigma) * sigma**2, 2)\n",
    "        sigma = sigma * k\n",
    "    \n",
    "    suppressed_space = zeros(height, width, levels)\n",
    "    \n",
    "    # nonmaximum supression in each 2d slice\n",
    "    for i in range(levels)\n",
    "        suppressed_space = \n",
    "\n",
    "    "
   ]
  },
  {
   "cell_type": "code",
   "execution_count": 15,
   "metadata": {},
   "outputs": [
    {
     "name": "stdout",
     "output_type": "stream",
     "text": [
      "[[-0.000144 -0.000144 -0.000144]\n [-0.000144 -0.000144 -0.000144]\n [-0.000144 -0.000144 -0.000144]]\n"
     ]
    }
   ],
   "source": [
    "# downsampling\n",
    "a = gaussian_laplace(np.ones((3,3)),sigma=1)\n",
    "print(a)"
   ]
  },
  {
   "cell_type": "code",
   "execution_count": null,
   "metadata": {},
   "outputs": [],
   "source": [
    ""
   ]
  },
  {
   "cell_type": "code",
   "execution_count": null,
   "metadata": {},
   "outputs": [],
   "source": []
  },
  {
   "cell_type": "code",
   "execution_count": null,
   "metadata": {},
   "outputs": [],
   "source": []
  }
 ],
 "metadata": {
  "kernelspec": {
   "display_name": "Python 2",
   "language": "python",
   "name": "python2"
  },
  "language_info": {
   "codemirror_mode": {
    "name": "ipython",
    "version": 2
   },
   "file_extension": ".py",
   "mimetype": "text/x-python",
   "name": "python",
   "nbconvert_exporter": "python",
   "pygments_lexer": "ipython2",
   "version": "2.7.6"
  }
 },
 "nbformat": 4,
 "nbformat_minor": 0
}
