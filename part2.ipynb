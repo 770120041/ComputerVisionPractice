{
 "cells": [
  {
   "cell_type": "code",
   "execution_count": 17,
   "metadata": {
    "collapsed": true
   },
   "outputs": [],
   "source": [
    "import cv2\n",
    "import numpy as np\n",
    "from scipy.signal import convolve2d\n",
    "from scipy.ndimage.filters import correlate \n",
    "import matplotlib.pyplot as plt\n",
    "import matplotlib.image as pltimg \n",
    "import math\n",
    "import skimage\n",
    "from scipy.ndimage.filters import gaussian_laplace"
   ]
  },
  {
   "cell_type": "code",
   "execution_count": 18,
   "metadata": {},
   "outputs": [],
   "source": [
    "def load_image(path):\n",
    "    '''\n",
    "    :param path: path to load image\n",
    "    :return: grayscaled and float image\n",
    "    '''\n",
    "    img = cv2.imread(path, cv2.IMREAD_GRAYSCALE)\n",
    "    # transmit the image to float\n",
    "    img = skimage.img_as_float(img)\n",
    "    print(img.dtype)\n",
    "    return img"
   ]
  },
  {
   "cell_type": "code",
   "execution_count": 21,
   "metadata": {},
   "outputs": [],
   "source": [
    "def normalize(img):\n",
    "    ''' Function to normalize an input array to 0-1 '''\n",
    "    img_min = img.min()\n",
    "    img_max = img.max()\n",
    "    return (img - img_min) / (img_max - img_min)\n",
    "\n",
    "def generate_laplacian_filter(size, sigma):\n",
    "    return gaussian_laplace(np.zeros((size,size)),sigma=sigma)"
   ]
  },
  {
   "cell_type": "code",
   "execution_count": 20,
   "metadata": {},
   "outputs": [
    {
     "name": "stdout",
     "output_type": "stream",
     "text": [
      "float64\n"
     ]
    },
    {
     "data": {
      "text/plain": [
       "array([[0.29411765, 0.29803922, 0.27843137, ..., 0.61568627, 0.60392157,\n        0.61568627],\n       [0.28627451, 0.27058824, 0.27058824, ..., 0.6       , 0.61176471,\n        0.62352941],\n       [0.31372549, 0.29411765, 0.25098039, ..., 0.58823529, 0.61568627,\n        0.62745098],\n       ...,\n       [0.36862745, 0.36862745, 0.37647059, ..., 0.80392157, 0.78823529,\n        0.73333333],\n       [0.36078431, 0.36470588, 0.36862745, ..., 0.8       , 0.79215686,\n        0.74509804],\n       [0.38431373, 0.38823529, 0.38431373, ..., 0.80784314, 0.80392157,\n        0.76470588]])"
      ]
     },
     "execution_count": 20,
     "metadata": {},
     "output_type": "execute_result"
    }
   ],
   "source": [
    "BUFFER_FLY = \"data\\\\part2\\\\butterfly.jpg\" \n",
    "EINSTEIN = \"data\\\\part2\\\\einstein.jpg\"\n",
    "FISHES = \"data\\\\part2\\\\fishes.jpg\"\n",
    "SUNFLOWERS =  \"data\\\\part2\\\\sunflowers.jpg\"\n",
    "load_image(BUFFER_FLY)\n"
   ]
  },
  {
   "cell_type": "code",
   "execution_count": null,
   "metadata": {},
   "outputs": [],
   "source": [
    "# initial parameters\n",
    "sigma = 2\n",
    "threshold = 0.9\n"
   ]
  }
 ],
 "metadata": {
  "kernelspec": {
   "display_name": "Python 2",
   "language": "python",
   "name": "python2"
  },
  "language_info": {
   "codemirror_mode": {
    "name": "ipython",
    "version": 2
   },
   "file_extension": ".py",
   "mimetype": "text/x-python",
   "name": "python",
   "nbconvert_exporter": "python",
   "pygments_lexer": "ipython2",
   "version": "2.7.6"
  }
 },
 "nbformat": 4,
 "nbformat_minor": 0
}
