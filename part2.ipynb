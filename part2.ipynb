{
 "cells": [
  {
   "cell_type": "code",
   "execution_count": 2,
   "metadata": {
    "collapsed": true
   },
   "outputs": [],
   "source": [
    "import cv2\n",
    "import numpy as np\n",
    "from scipy.signal import convolve2d\n",
    "from scipy.ndimage.filters import correlate \n",
    "import matplotlib.pyplot as plt\n",
    "import matplotlib.image as pltimg \n",
    "import math\n",
    "import skimage\n",
    "from scipy.ndimage.filters import gaussian_laplace\n",
    "from scipy.ndimage.filters import maximum_filter"
   ]
  },
  {
   "cell_type": "code",
   "execution_count": 3,
   "metadata": {},
   "outputs": [],
   "source": [
    "def load_image(path):\n",
    "    '''\n",
    "    :param path: path to load image\n",
    "    :return: grayscaled and float image\n",
    "    '''\n",
    "    img = cv2.imread(path, cv2.IMREAD_GRAYSCALE)\n",
    "    # transmit the image to float\n",
    "    img = skimage.img_as_float(img)\n",
    "    print(img.dtype)\n",
    "    return img"
   ]
  },
  {
   "cell_type": "code",
   "execution_count": 4,
   "metadata": {},
   "outputs": [],
   "source": [
    "def normalize(img):\n",
    "    ''' Function to normalize an input array to 0-1 '''\n",
    "    img_min = img.min()\n",
    "    img_max = img.max()\n",
    "    return (img - img_min) / (img_max - img_min)\n",
    "\n",
    "def generate_laplacian_filter(size, sigma):\n",
    "    return gaussian_laplace(np.zeros((size,size)),sigma=sigma)"
   ]
  },
  {
   "cell_type": "code",
   "execution_count": 5,
   "metadata": {},
   "outputs": [],
   "source": []
  },
  {
   "cell_type": "code",
   "execution_count": 5,
   "metadata": {},
   "outputs": [],
   "source": [
    "def show_all_circles(image, cx, cy, rad, color='r'):\n",
    "    \"\"\"\n",
    "    image: numpy array, representing the grayscsale image\n",
    "    cx, cy: numpy arrays or lists, centers of the detected blobs\n",
    "    rad: numpy array or list, radius of the detected blobs\n",
    "    \"\"\"\n",
    "    import matplotlib.pyplot as plt\n",
    "    from matplotlib.patches import Circle\n",
    "\n",
    "    fig, ax = plt.subplots()\n",
    "    ax.set_aspect('equal')\n",
    "    ax.imshow(image, cmap='gray')\n",
    "    for x, y, r in zip(cx, cy, rad):\n",
    "        circ = Circle((x, y), r, color=color, fill=False)\n",
    "        ax.add_patch(circ)\n",
    "\n",
    "    plt.title('%i circles' % len(cx))\n",
    "    plt.show()"
   ]
  },
  {
   "cell_type": "code",
   "execution_count": 6,
   "metadata": {},
   "outputs": [],
   "source": []
  },
  {
   "cell_type": "code",
   "execution_count": 6,
   "metadata": {},
   "outputs": [],
   "source": []
  },
  {
   "cell_type": "code",
   "execution_count": 6,
   "metadata": {},
   "outputs": [],
   "source": [
    "# define parameters\n",
    "'''\n",
    "k           increasing factor K\n",
    "levels      number of iterations\n",
    "ini_sigma   scale for LOG\n",
    "'''\n",
    "threshold = 0.25              \n",
    "k = 1.25                     \n",
    "levels = 12                   \n",
    "sigma = 2\n",
    "\n",
    "BUTTERFLY = \"data\\\\part2\\\\butterfly.jpg\" \n",
    "EINSTEIN = \"data\\\\part2\\\\einstein.jpg\"\n",
    "FISHES = \"data\\\\part2\\\\fishes.jpg\"\n",
    "SUNFLOWERS =  \"data\\\\part2\\\\sunflowers.jpg\""
   ]
  },
  {
   "cell_type": "code",
   "execution_count": 59,
   "metadata": {},
   "outputs": [],
   "source": [
    "# upscaling\n",
    "\n",
    "\n",
    "def upscaling_method(img, sigma, k, levels, threshold):\n",
    "  \n",
    "    \n",
    "    initial_sigma = sigma\n",
    "    height, width = img.shape\n",
    "    img_scale_space = np.zeros((height, width, levels), dtype=np.float64)\n",
    "    \n",
    "    for i in range(levels):\n",
    "        # element wise scaling\n",
    "        img_scale_space[:, :, i] = np.power(gaussian_laplace(img, sigma=sigma) * sigma**2, 2)\n",
    "        sigma = sigma * k\n",
    "    \n",
    "    \n",
    "    suppressed_space = np.zeros(img_scale_space.shape, dtype=np.float64)\n",
    "    \n",
    "    # nonmaximum supression in each 2d slice\n",
    "    for i in range(levels):\n",
    "        suppressed_space[:, :, i] = maximum_filter(suppressed_space[:, :, i], size=3)\n",
    "    \n",
    "    \n",
    "    maxima_space = np.zeros((height, width), dtype=np.float64)\n",
    "    # along with level max value\n",
    "    maxima_space = np.argmax(suppressed_space, axis=2)\n",
    "    survive_space = np.zeros(img_scale_space.shape)\n",
    "    \n",
    "    print(\"maxima space:\")\n",
    "    print(maxima_space)\n",
    "    # locating survive pos\n",
    "    for i in range(levels):\n",
    "        survive_space[:, :, i] = (maxima_space == img_scale_space)\n",
    "        survive_space[:, :, i] = survive_space[:, :, i] * img\n",
    "    \n",
    "    cx = []\n",
    "    cy = []\n",
    "    radius = []\n",
    "    for i in range(levels):\n",
    "        location = np.argwhere(survive_space[:, :, i] >= threshold)\n",
    "        rad = np.sqrt(2) * initial_sigma * np.power(k,i)\n",
    "        cx += [x[0] for x in location]\n",
    "        cy += [x[1] for x in location]\n",
    "        radius += rad * np.ones((len(location),1))\n",
    "    \n",
    "    show_all_circles(img,cx,cy,radius)\n",
    "    "
   ]
  },
  {
   "cell_type": "code",
   "execution_count": 60,
   "metadata": {},
   "outputs": [],
   "source": [
    "# downsampling\n"
   ]
  },
  {
   "cell_type": "code",
   "execution_count": 61,
   "metadata": {},
   "outputs": [
    {
     "name": "stdout",
     "output_type": "stream",
     "text": [
      "float64\n"
     ]
    },
    {
     "name": "stdout",
     "output_type": "stream",
     "text": [
      "[[[6.11404630e-04 9.13829416e-04 1.02442151e-03 ... 4.18814176e-05\n   4.99533358e-04 6.32839405e-03]\n  [3.93883428e-04 5.78375614e-04 6.82894084e-04 ... 3.97897226e-05\n   5.09108168e-04 6.35185348e-03]\n  [1.31810465e-04 1.85957009e-04 2.55355303e-04 ... 3.57650309e-05\n   5.28483029e-04 6.39717618e-03]\n  ...\n  [7.43311392e-05 2.25514363e-04 5.55462860e-04 ... 3.05732601e-04\n   9.06283558e-04 1.63209232e-03]\n  [1.72663844e-07 3.54195933e-05 2.78791064e-04 ... 3.26208473e-04\n   9.32166422e-04 1.66086454e-03]\n  [3.66565581e-05 8.52129420e-09 1.52739932e-04 ... 3.36803522e-04\n   9.45302577e-04 1.67535800e-03]]\n\n [[6.28444882e-04 8.81459237e-04 9.94236384e-04 ... 3.92058807e-05\n   5.09078097e-04 6.35019923e-03]\n  [3.59358107e-04 5.37574172e-04 6.56036083e-04 ... 3.71884180e-05\n   5.18722586e-04 6.37366031e-03]\n  [8.03715156e-05 1.51922411e-04 2.36333410e-04 ... 3.33113595e-05\n   5.38235298e-04 6.41898561e-03]\n  ...\n  [1.23046681e-04 2.59661096e-04 5.31007619e-04 ... 3.20010590e-04\n   9.17684205e-04 1.64062568e-03]\n  [9.73316892e-07 4.38818564e-05 2.56875371e-04 ... 3.41009768e-04\n   9.43708393e-04 1.66945053e-03]\n  [3.09095235e-05 2.40654127e-07 1.35040721e-04 ... 3.51869503e-04\n   9.56914855e-04 1.68397004e-03]]\n\n [[6.47909202e-04 8.32295576e-04 9.53376529e-04 ... 3.41255631e-05\n   5.28366434e-04 6.39376960e-03]\n  [3.19880058e-04 4.82650609e-04 6.20488627e-04 ... 3.22553038e-05\n   5.38148609e-04 6.41723367e-03]\n  [3.58271364e-05 1.12479651e-04 2.11989825e-04 ... 2.86709972e-05\n   5.57933706e-04 6.46256361e-03]\n  ...\n  [1.99493410e-04 2.85641942e-04 4.56913518e-04 ... 3.49228504e-04\n   9.40530190e-04 1.65766660e-03]\n  [6.35589759e-06 4.72346962e-05 1.99724068e-04 ... 3.71265225e-04\n   9.66832092e-04 1.68659506e-03]\n  [2.73658674e-05 1.71133290e-07 9.27887816e-05 ... 3.82649502e-04\n   9.80176662e-04 1.70116584e-03]]\n\n ...\n\n [[1.01199994e-04 1.18427175e-04 1.40153156e-04 ... 9.82289909e-05\n   2.89616906e-04 1.68226696e-03]\n  [1.01569490e-04 1.06494449e-04 1.19845572e-04 ... 9.52506049e-05\n   2.85738275e-04 1.68000208e-03]\n  [8.90878673e-05 8.06897445e-05 8.62499644e-05 ... 8.94710869e-05\n   2.78201796e-04 1.67552437e-03]\n  ...\n  [9.29475507e-04 1.32786881e-03 1.97817074e-03 ... 3.01978758e-03\n   9.60107639e-04 1.72993477e-04]\n  [5.96268183e-06 1.77178590e-04 9.49994069e-04 ... 3.15338770e-03\n   1.00115180e-03 1.77950398e-04]\n  [3.50432839e-04 8.75685659e-06 4.48533539e-04 ... 3.22151986e-03\n   1.02209332e-03 1.80480254e-04]]\n\n [[8.71179788e-05 1.46595865e-04 2.09384625e-04 ... 9.03131032e-05\n   2.79253277e-04 1.64992873e-03]\n  [8.46248790e-05 1.30124871e-04 1.81255775e-04 ... 8.75726141e-05\n   2.75474787e-04 1.64768571e-03]\n  [6.89478944e-05 9.67090676e-05 1.34141791e-04 ... 8.22549386e-05\n   2.68134129e-04 1.64325014e-03]\n  ...\n  [9.86086948e-04 1.33880473e-03 1.88310476e-03 ... 3.09751654e-03\n   9.79711250e-04 1.75671759e-04]\n  [7.52920703e-05 3.24104032e-04 1.10188835e-03 ... 3.23437599e-03\n   1.02148804e-03 1.80708403e-04]\n  [8.25740134e-05 1.92154782e-05 6.49613444e-04 ... 3.30417201e-03\n   1.04280247e-03 1.83278846e-04]]\n\n [[4.70720864e-05 1.46685566e-04 2.47301746e-04 ... 8.64685120e-05\n   2.74142699e-04 1.63387625e-03]\n  [4.58881209e-05 1.28435142e-04 2.14740662e-04 ... 8.38441521e-05\n   2.70414010e-04 1.63164410e-03]\n  [3.43256841e-05 9.23400685e-05 1.59919438e-04 ... 7.87518987e-05\n   2.63170726e-04 1.62722948e-03]\n  ...\n  [1.03741648e-03 1.34958226e-03 1.82645985e-03 ... 3.13701540e-03\n   9.89651084e-04 1.77025882e-04]\n  [1.62766160e-04 4.30415195e-04 1.18458698e-03 ... 3.27552895e-03\n   1.03179851e-03 1.82102798e-04]\n  [8.80930915e-06 7.46433391e-05 7.70938390e-04 ... 3.34616940e-03\n   1.05330160e-03 1.84693742e-04]]]\nmaxima space:\n[[0 0 0 ... 0 0 0]\n [0 0 0 ... 0 0 0]\n [0 0 0 ... 0 0 0]\n ...\n [0 0 0 ... 0 0 0]\n [0 0 0 ... 0 0 0]\n [0 0 0 ... 0 0 0]]\n"
     ]
    },
    {
     "name": "stderr",
     "output_type": "stream",
     "text": [
      "C:\\Users\\liuzhe\\mp0\\lib\\site-packages\\ipykernel_launcher.py:33: DeprecationWarning: elementwise == comparison failed; this will raise an error in the future.\n"
     ]
    }
   ],
   "source": [
    "img = load_image(BUTTERFLY)\n",
    "upscaling_method(img, sigma, k, levels, threshold)"
   ]
  },
  {
   "cell_type": "code",
   "execution_count": null,
   "metadata": {},
   "outputs": [],
   "source": []
  },
  {
   "cell_type": "code",
   "execution_count": null,
   "metadata": {},
   "outputs": [],
   "source": []
  }
 ],
 "metadata": {
  "kernelspec": {
   "display_name": "Python 2",
   "language": "python",
   "name": "python2"
  },
  "language_info": {
   "codemirror_mode": {
    "name": "ipython",
    "version": 2
   },
   "file_extension": ".py",
   "mimetype": "text/x-python",
   "name": "python",
   "nbconvert_exporter": "python",
   "pygments_lexer": "ipython2",
   "version": "2.7.6"
  }
 },
 "nbformat": 4,
 "nbformat_minor": 0
}
