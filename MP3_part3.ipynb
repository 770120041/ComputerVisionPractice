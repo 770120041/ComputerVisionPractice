{
 "cells": [
  {
   "cell_type": "markdown",
   "metadata": {},
   "source": [
    "# Single-View Geometry (Python)\n",
    "\n",
    "## Usage\n",
    "This code snippet provides an overall code structure and some interactive plot interfaces for the *Single-View Geometry* section of Assignment 3. In [main function](#Main-function), we outline the required functionalities step by step. Some of the functions which involves interactive plots are already provided, but [the rest](#Your-implementation) are left for you to implement.\n",
    "\n",
    "## Package installation\n",
    "- You will need [GUI backend](https://matplotlib.org/faq/usage_faq.html#what-is-a-backend) to enable interactive plots in `matplotlib`.\n",
    "- In this code, we use `tkinter` package. Installation instruction can be found [here](https://anaconda.org/anaconda/tk)."
   ]
  },
  {
   "cell_type": "markdown",
   "metadata": {},
   "source": [
    "# Common imports"
   ]
  },
  {
   "cell_type": "code",
   "execution_count": 1,
   "metadata": {
    "collapsed": true
   },
   "outputs": [],
   "source": [
    "# % matplotlib tk\n",
    "import matplotlib.pyplot as plt\n",
    "import numpy as np\n",
    "\n",
    "from PIL import Image"
   ]
  },
  {
   "cell_type": "markdown",
   "metadata": {},
   "source": [
    "# Provided functions"
   ]
  },
  {
   "cell_type": "code",
   "execution_count": 2,
   "metadata": {
    "collapsed": true
   },
   "outputs": [],
   "source": [
    "def get_input_lines(im, min_lines=3):\n",
    "    \"\"\"\n",
    "    Allows user to input line segments; computes centers and directions.\n",
    "    Inputs:\n",
    "        im: np.ndarray of shape (height, width, 3)\n",
    "        min_lines: minimum number of lines required\n",
    "    Returns:\n",
    "        n: number of lines from input\n",
    "        lines: np.ndarray of shape (3, n)\n",
    "            where each column denotes the parameters of the line equation\n",
    "        centers: np.ndarray of shape (3, n)\n",
    "            where each column denotes the homogeneous coordinates of the centers\n",
    "    \"\"\"\n",
    "    n = 0\n",
    "    lines = np.zeros((3, 0))\n",
    "    centers = np.zeros((3, 0))\n",
    "\n",
    "    plt.figure()\n",
    "    plt.imshow(im)\n",
    "    print('Set at least %d lines to compute vanishing point' % min_lines)\n",
    "    while True:\n",
    "        print('Click the two endpoints, use the right key to undo, and use the middle key to stop input')\n",
    "        clicked = plt.ginput(2, timeout=0, show_clicks=True)\n",
    "        if not clicked or len(clicked) < 2:\n",
    "            if n < min_lines:\n",
    "                print('Need at least %d lines, you have %d now' % (min_lines, n))\n",
    "                continue\n",
    "            else:\n",
    "                # Stop getting lines if number of lines is enough\n",
    "                break\n",
    "\n",
    "        # Unpack user inputs and save as homogeneous coordinates\n",
    "        pt1 = np.array([clicked[0][0], clicked[0][1], 1])\n",
    "        pt2 = np.array([clicked[1][0], clicked[1][1], 1])\n",
    "        # Get line equation using cross product\n",
    "        # Line equation: line[0] * x + line[1] * y + line[2] = 0\n",
    "        line = np.cross(pt1, pt2)\n",
    "        lines = np.append(lines, line.reshape((3, 1)), axis=1)\n",
    "        # Get center coordinate of the line segment\n",
    "        center = (pt1 + pt2) / 2\n",
    "        centers = np.append(centers, center.reshape((3, 1)), axis=1)\n",
    "\n",
    "        # Plot line segment\n",
    "        plt.plot([pt1[0], pt2[0]], [pt1[1], pt2[1]], color='b')\n",
    "\n",
    "        n += 1\n",
    "\n",
    "    return n, lines, centers"
   ]
  },
  {
   "cell_type": "code",
   "execution_count": 3,
   "metadata": {
    "collapsed": true
   },
   "outputs": [],
   "source": [
    "def plot_lines_and_vp(im, lines, vp):\n",
    "    \"\"\"\n",
    "    Plots user-input lines and the calculated vanishing point.\n",
    "    Inputs:\n",
    "        im: np.ndarray of shape (height, width, 3)\n",
    "        lines: np.ndarray of shape (3, n)\n",
    "            where each column denotes the parameters of the line equation\n",
    "        vp: np.ndarray of shape (3, )\n",
    "    \"\"\"\n",
    "    bx1 = min(1, vp[0] / vp[2]) - 10\n",
    "    bx2 = max(im.shape[1], vp[0] / vp[2]) + 10\n",
    "    by1 = min(1, vp[1] / vp[2]) - 10\n",
    "    by2 = max(im.shape[0], vp[1] / vp[2]) + 10\n",
    "\n",
    "    plt.figure()\n",
    "    plt.imshow(im)\n",
    "    for i in range(lines.shape[1]):\n",
    "        if lines[0, i] < lines[1, i]:\n",
    "            pt1 = np.cross(np.array([1, 0, -bx1]), lines[:, i])\n",
    "            pt2 = np.cross(np.array([1, 0, -bx2]), lines[:, i])\n",
    "        else:\n",
    "            pt1 = np.cross(np.array([0, 1, -by1]), lines[:, i])\n",
    "            pt2 = np.cross(np.array([0, 1, -by2]), lines[:, i])\n",
    "        pt1 = pt1 / pt1[2]\n",
    "        pt2 = pt2 / pt2[2]\n",
    "        plt.plot([pt1[0], pt2[0]], [pt1[1], pt2[1]], 'g')\n",
    "\n",
    "    plt.plot(vp[0] / vp[2], vp[1] / vp[2], 'ro')\n",
    "    plt.show()"
   ]
  },
  {
   "cell_type": "code",
   "execution_count": 4,
   "metadata": {
    "collapsed": true
   },
   "outputs": [],
   "source": [
    "def get_top_and_bottom_coordinates(im, obj):\n",
    "    \"\"\"\n",
    "    For a specific object, prompts user to record the top coordinate and the bottom coordinate in the image.\n",
    "    Inputs:\n",
    "        im: np.ndarray of shape (height, width, 3)\n",
    "        obj: string, object name\n",
    "    Returns:\n",
    "        coord: np.ndarray of shape (3, 2)\n",
    "            where coord[:, 0] is the homogeneous coordinate of the top of the object and coord[:, 1] is the homogeneous\n",
    "            coordinate of the bottom\n",
    "    \"\"\"\n",
    "    plt.figure()\n",
    "    plt.imshow(im)\n",
    "\n",
    "    print('Click on the top coordinate of %s' % obj)\n",
    "    clicked = plt.ginput(1, timeout=0, show_clicks=True)\n",
    "    x1, y1 = clicked[0]\n",
    "    # Uncomment this line to enable a vertical line to help align the two coordinates\n",
    "    # plt.plot([x1, x1], [0, im.shape[0]], 'b')\n",
    "    print('Click on the bottom coordinate of %s' % obj)\n",
    "    clicked = plt.ginput(1, timeout=0, show_clicks=True)\n",
    "    x2, y2 = clicked[0]\n",
    "\n",
    "    plt.plot([x1, x2], [y1, y2], 'b')\n",
    "\n",
    "    return np.array([[x1, x2], [y1, y2], [1, 1]])"
   ]
  },
  {
   "cell_type": "markdown",
   "metadata": {},
   "source": [
    "# Your implementation"
   ]
  },
  {
   "cell_type": "code",
   "execution_count": 5,
   "metadata": {
    "collapsed": true
   },
   "outputs": [],
   "source": [
    "\n",
    "\"\"\"\n",
    "Solves for the vanishing point using the user-input lines.\n",
    "\"\"\"\n",
    "def get_vanishing_point(im,lines):\n",
    "    h,w = im.shape[0],im.shape[1]\n",
    "    vp = [0] * 3\n",
    "    left_tmp = np.transpose( lines[:2,:] )\n",
    "    right_tmp = np.transpose(-lines[2, :])\n",
    "    vp[0],vp[1] = np.linalg.lstsq(left_tmp,right_tmp)[0]\n",
    "    vp[2] = 1\n",
    "    return vp\n",
    "    # bx1 = min(1, vp[0]/vp[2])-10\n",
    "    # bx2 = max(w, vp[0]/vp[2])+10\n",
    "    # \n",
    "    # by1 = min(1, vp[1]/vp[2])-10\n",
    "    # by2 = max(h, vp[1]/vp[2])+10\n",
    "    # \n",
    "    # for i in range(lines.shape[1]):\n",
    "    #     if lines[0,i] < lines[1,i]:\n",
    "    #         point1 = (np.cross(np.transpose(np.array([1,0,-bx1])), lines[:, i]))\n",
    "    #         point2 = (np.cross(np.transpose(np.array([1,0,-bx2])), lines[:, i]))\n",
    "    #     else:\n",
    "    #         point1 = (np.cross(np.transpose(np.array([1,0,-by1])), lines[:, i]))\n",
    "    #         point2 = (np.cross(np.transpose(np.array([1,0,-by2])), lines[:, i]))\n",
    "    #     point1 = point1/point1[2]\n",
    "    #     point2 = point2/point2[2]\n",
    "    #     \n",
    "    #     \n",
    "    # coordiante = [vp[0]/vp[2],vp[1]/vp[2]]\n",
    "    "
   ]
  },
  {
   "cell_type": "code",
   "execution_count": 6,
   "metadata": {
    "collapsed": true
   },
   "outputs": [],
   "source": [
    "def get_horizon_line(vpts):\n",
    "    \"\"\"\n",
    "    Calculates the ground horizon line.\n",
    "    \"\"\"\n",
    "    horizon = np.real(np.cross(\n",
    "        np.transpose(vpts[0,:]),\n",
    "        np.transpose(vpts[1,:])\n",
    "    ))\n",
    "    print(\"origin H:\",horizon)\n",
    "    scale_factor = np.sqrt(horizon[0]**2+horizon[1]**2)\n",
    "    return np.true_divide(horizon,scale_factor)"
   ]
  },
  {
   "cell_type": "code",
   "execution_count": 7,
   "metadata": {
    "collapsed": true
   },
   "outputs": [],
   "source": [
    "import matplotlib.lines as mlines\n",
    "def plot_horizon_line(im, hline):\n",
    "    print(\"horizontal line:\",hline)\n",
    "    print(im.shape)\n",
    "    plt.figure()\n",
    "    plt.imshow(im)\n",
    "    # x = np.linspace(-5,5,100)\n",
    "    # y = -hline[0]/hline[1]* x - hline[2]/hline[1]\n",
    "    x1 = 0\n",
    "    y1 = - hline[2]/hline[1]\n",
    "    x2 = im.shape[1]\n",
    "    y2 =  -hline[0]/hline[1]* x2 - hline[2]/hline[1]\n",
    "    print([x1,y1 ], [x2, y2])\n",
    "    \n",
    "    plt.plot([x1, x2],[y1,y2],  'r')\n",
    "    plt.show()\n",
    "    \"\"\"\n",
    "    Plots the horizon line.\n",
    "    \"\"\""
   ]
  },
  {
   "cell_type": "code",
   "execution_count": 8,
   "metadata": {
    "collapsed": true
   },
   "outputs": [],
   "source": [
    "import sympy\n",
    "def get_camera_parameters(vpts):\n",
    "    \n",
    "    # its vp_z, vp_x, vp_y\n",
    "    vp_1 = np.transpose( vpts[0,:] )\n",
    "    vp_2 = np.transpose( vpts[1,:] )\n",
    "    vp_3 = np.transpose( vpts[2,:] )\n",
    "    \n",
    "    vp_z,vp_x,vp_y = vp_1,vp_2,vp_3\n",
    "    \n",
    "    print(\"vp_X:\",vp_1)\n",
    "    print(\"vp_Y:\",vp_2)\n",
    "    print(\"vp_z:\",vp_3)\n",
    "    u = sympy.Symbol('u')\n",
    "    v = sympy.Symbol('v')\n",
    "    f = sympy.Symbol('f')\n",
    "    sol = sympy.solve([\n",
    "        -u*(vp_2[0]+vp_3[0]-vp_3[0]-vp_1[0]) \n",
    "        + vp_2[0]*vp_3[0]-vp_3[0]*vp_1[0]\n",
    "        - v*(vp_2[1]+vp_3[1]-vp_3[1]-vp_1[1])\n",
    "        + vp_2[1]*vp_3[1]-vp_3[1]*vp_1[1]\n",
    "        ,\n",
    "         -u*(vp_1[0]+vp_2[0]-vp_3[0]-vp_1[0]) \n",
    "        + vp_1[0]*vp_2[0]-vp_3[0]*vp_1[0]\n",
    "        - v*(vp_1[1]+vp_2[1]-vp_3[1]-vp_1[1])\n",
    "        + vp_1[1]*vp_2[1]-vp_3[1]*vp_1[1]\n",
    "    ],[u,v]\n",
    "        \n",
    "         )\n",
    "    # sol = ( sympy.solve([-u*(vp_x[0]+vp_y[0]-vp_y[0]-vp_z[0]) +\\\n",
    "    #              vp_x[0]*vp_y[0]-vp_y[0]*vp_z[0] + \\\n",
    "    #              -v*(vp_x[1]+vp_y[1]-vp_y[1]-vp_z[1]) +\\\n",
    "    #              vp_x[1]*vp_y[1]-vp_y[1]*vp_z[1] \n",
    "    #             ,\n",
    "    #               -u*(vp_z[0]+vp_x[0]-vp_y[0]-vp_z[0]) +\\\n",
    "    #              vp_z[0]*vp_x[0]- vp_y[0]*vp_z[0] + \\\n",
    "    #              -v*(vp_z[1]+vp_x[1]-vp_y[1]+vp_z[1]) +\\\n",
    "    #              vp_z[1]*vp_x[1]-vp_y[1]*vp_z[1] \n",
    "    #              ],[u,v]))\n",
    "   \n",
    "    u_sol,v_sol = sol[u],sol[v]\n",
    "    u = sympy.Float(u_sol)\n",
    "    v = sympy.Float(v_sol)\n",
    "    print(\"u:\",u,\" v:\",v)\n",
    "    f_sol = sympy.solve((u-vp_x[0])*(u-vp_y[0]) \n",
    "                        + (v-vp_x[1]) * (v - vp_y[1]) + f*f ,f )\n",
    "    print(\"fsol:\",f_sol)\n",
    "    f = sympy.Float((f_sol[0]))\n",
    "    return float(f),float(u),float(v)\n",
    "    "
   ]
  },
  {
   "cell_type": "code",
   "execution_count": 9,
   "metadata": {
    "collapsed": true
   },
   "outputs": [],
   "source": [
    "def get_rotation_matrix(Calibration,vpts):\n",
    "    \"\"\"\n",
    "    Computes the rotation matrix using the camera parameters.\n",
    "    \"\"\"\n",
    "    vp_1 = np.transpose( vpts[0,:] )\n",
    "    vp_2 = np.transpose( vpts[1,:] )\n",
    "    vp_3 = np.transpose( vpts[2,:] )\n",
    "    r_z = np.linalg.lstsq(Calibration, vp_1)[0]\n",
    "    r_x = np.linalg.lstsq(Calibration, vp_2)[0]\n",
    "    r_y = np.linalg.lstsq(Calibration, vp_3)[0]\n",
    "    \n",
    "    r_x = r_x/np.linalg.norm(r_x)\n",
    "    r_y = r_y/np.linalg.norm(r_y)\n",
    "    r_z = r_z/np.linalg.norm(r_z)\n",
    "    \n",
    "    return np.vstack((np.vstack((r_x,r_y)),r_z))"
   ]
  },
  {
   "cell_type": "code",
   "execution_count": 13,
   "metadata": {
    "collapsed": true
   },
   "outputs": [],
   "source": [
    "def estimate_height(im,target_coor,height_ref,ref_coor,horizon_line,vpts):\n",
    "    \"\"\"\n",
    "    Estimates height for a specific object using the recorded coordinates. \n",
    "    You might need to plot additional images here for\n",
    "    your report.\n",
    "    \"\"\"\n",
    "    # its vp_z, vp_x, vp_y\n",
    "    vp_1 = np.transpose( vpts[0,:] )\n",
    "    vp_2 = np.transpose( vpts[1,:] )\n",
    "    vp_3 = np.transpose( vpts[2,:] )\n",
    "    # top and bottom point for referece\n",
    "    rx1,rx2 = ref_coor[0]\n",
    "    ry1,ry2 = ref_coor[1]\n",
    "    #refrence top and bottom vector\n",
    "    \n",
    "    refer_bottom = np.array([rx1,ry1,1])\n",
    "    refer_top = np.array([rx2,ry2,1])\n",
    "    \n",
    "    # top and bottom point for target\n",
    "    tx1,tx2 = target_coor[0]\n",
    "    ty1,ty2 = target_coor[1]\n",
    "    tar_img_height = ty2 - ty1\n",
    "    \n",
    "    target_bottom = np.array([tx1,ty1,1])\n",
    "    target_top = np.array([tx2,ty2,1])\n",
    "    line_bottom = np.real(np.cross(np.transpose(refer_bottom),np.transpose(target_bottom)))\n",
    "    V = np.real(np.cross(line_bottom, horizon_line))\n",
    "    V = V/V[2]\n",
    "    # print(\"V:\",V)\n",
    "    \n",
    "    line_top = np.real(np.cross(np.transpose(V),np.transpose(refer_top)))\n",
    "    \n",
    "    line_ver = np.real(np.cross(np.transpose(target_top),np.transpose(target_bottom)))\n",
    "    T = np.real(np.cross(np.transpose(line_top),np.transpose(line_ver)))\n",
    "    T = T/T[2]\n",
    "    \n",
    "    plt.figure()\n",
    "    plt.imshow(im)\n",
    "    plt.plot([V[0],refer_bottom[0]],[V[1],refer_bottom[1]],  'r')\n",
    "    plt.plot([V[0],refer_top[0]],[V[1],refer_top[1]],  'r')\n",
    "    \n",
    "    plt.plot([V[0],T[0]],[V[1],T[1]],  'r')\n",
    "    \n",
    "    plt.plot([target_bottom[0],T[0]],[target_bottom[1],T[1]],  'b')\n",
    "    plt.plot([target_bottom[0],V[0]],[target_bottom[1],V[1]],  'r')\n",
    "\n",
    "    plt.show()\n",
    "    \n",
    "    up = np.linalg.norm(T-target_bottom) * np.linalg.norm(np.transpose(vp_3)-target_top)\n",
    "    down = np.linalg.norm(target_top-target_bottom) * np.linalg.norm(np.transpose(vp_3)-T)\n",
    "    return (height_ref * down) / up\n",
    "    "
   ]
  },
  {
   "cell_type": "markdown",
   "metadata": {},
   "source": [
    "# Main function"
   ]
  },
  {
   "cell_type": "code",
   "execution_count": 15,
   "metadata": {
    "collapsed": false
   },
   "outputs": [
    {
     "name": "stdout",
     "output_type": "stream",
     "text": [
      "origin H: [    -15    1573 -341225]\nhorizontal line: [-9.53548509e-03  9.99954536e-01 -2.16916393e+02]\n(685, 1024, 3)\n[0, 216.9262555626192] [1024, 226.69103623649076]\nvp_X: [-202  215    1]\nvp_Y: [1371  230    1]\nvp_z: [ 503 4867    1]\nu: 546.025845963766  v: 355.022953266454\nfsol: [-774.335783965027, 774.335783965027]\nf: -774.3357839650271\nu: 546.0258459637655\nv: 355.0229532664543\nrota M: [[-0.72471933  0.10982956  0.68023478]\n [ 0.0093981  -0.98554764  0.16913756]\n [ 0.68898009  0.12897018  0.71321324]]\nEstimating height of CSL building\n"
     ]
    },
    {
     "name": "stderr",
     "output_type": "stream",
     "text": [
      "C:\\Users\\bluerain\\PycharmProjects\\cvmp2\\new_venv\\lib\\site-packages\\ipykernel_launcher.py:8: FutureWarning: `rcond` parameter will change to the default of machine precision times ``max(M, N)`` where M and N are the input matrix dimensions.\nTo use the future default and silence this warning we advise to pass `rcond=None`, to keep using the old, explicitly pass `rcond=-1`.\n  \nC:\\Users\\bluerain\\PycharmProjects\\cvmp2\\new_venv\\lib\\site-packages\\ipykernel_launcher.py:9: FutureWarning: `rcond` parameter will change to the default of machine precision times ``max(M, N)`` where M and N are the input matrix dimensions.\nTo use the future default and silence this warning we advise to pass `rcond=None`, to keep using the old, explicitly pass `rcond=-1`.\n  if __name__ == '__main__':\nC:\\Users\\bluerain\\PycharmProjects\\cvmp2\\new_venv\\lib\\site-packages\\ipykernel_launcher.py:10: FutureWarning: `rcond` parameter will change to the default of machine precision times ``max(M, N)`` where M and N are the input matrix dimensions.\nTo use the future default and silence this warning we advise to pass `rcond=None`, to keep using the old, explicitly pass `rcond=-1`.\n  # Remove the CWD from sys.path while we load stuff.\n"
     ]
    },
    {
     "name": "stdout",
     "output_type": "stream",
     "text": [
      "Its height is: 2077.134465077745\nEstimating height of the spike statue\nIts height is: 15053.442658868582\nEstimating height of the lamp posts\n"
     ]
    },
    {
     "name": "stdout",
     "output_type": "stream",
     "text": [
      "Its height is: 805.5802358815484\n"
     ]
    }
   ],
   "source": [
    "CSL = \"data\\\\part3\\\\CSL.jpg\"\n",
    "im = np.asarray(Image.open(CSL))\n",
    "\n",
    "# Part 1\n",
    "# Get vanishing points for each of the directions\n",
    "\n",
    "# num_vpts = 3\n",
    "# vpts = np.zeros((3, num_vpts))\n",
    "# for i in range(num_vpts):\n",
    "#     print('Getting vanishing point %d' % i)\n",
    "#     # Get at least three lines from user input\n",
    "#     n, lines, centers = get_input_lines(im)\n",
    "#     # <YOUR IMPLEMENTATION> Solve for vanishing point\n",
    "#     vpts[:, i] = get_vanishing_point(im,lines)\n",
    "#     # Plot the lines and the vanishing point\n",
    "#     plot_lines_and_vp(im, lines, vpts[:, i])\n",
    "\n",
    "# print(vpts)\n",
    "vpts = np.array([\n",
    "    [-202, 215 ,1],\n",
    "    [1371 ,230 ,1],\n",
    "    [503 ,4867, 1]\n",
    "])\n",
    "# plot horizon line\n",
    "horizon_line = get_horizon_line(vpts)\n",
    "plot_horizon_line(im, horizon_line)\n",
    "\n",
    "# Part 2\n",
    "# <YOUR IMPLEMENTATION> Solve for the camera parameters (f, u, v)\n",
    "\n",
    "f, u, v = get_camera_parameters(vpts)\n",
    "print(\"f:\",f)\n",
    "print(\"u:\",u)\n",
    "print(\"v:\",v)\n",
    "# \n",
    "# # Part 3\n",
    "# <YOUR IMPLEMENTATION> Solve for the rotation matrix\n",
    "Calibration_Matrix = np.array( [\n",
    "    [f, 0, u],\n",
    "    [0, f, v],\n",
    "     [0, 0, 1]\n",
    "    ]\n",
    ")\n",
    "R = get_rotation_matrix(Calibration_Matrix,vpts)\n",
    "print(\"rota M:\",R)\n",
    "# \n",
    "# # Part 4\n",
    "# # Record image coordinates for each object and store in map\n",
    "\n",
    "\n",
    "objects = ('person', 'CSL building', 'the spike statue', 'the lamp posts')\n",
    "\n",
    "# coords = dict()\n",
    "# for obj in objects:\n",
    "#     coords[obj] = get_top_and_bottom_coordinates(im, obj)\n",
    "#     \n",
    "# print(\"coords:\",coords)\n",
    "\n",
    "coords = {'person': np.array([[627.11290323, 627.11290323],\n",
    "       [467.10967742, 506.33548387],\n",
    "       [  1.        ,   1.        ]]), 'CSL building': np.array([[505.30645161, 503.24193548],\n",
    "       [ 97.56129032, 306.07741935],\n",
    "       [  1.        ,   1.        ]]), 'the spike statue': np.array([[598.20967742, 602.33870968],\n",
    "       [204.91612903, 469.17419355],\n",
    "       [  1.        ,   1.        ]]), 'the lamp posts': np.array([[296.79032258, 298.85483871],\n",
    "       [394.8516129 , 516.65806452],\n",
    "       [  1.        ,   1.        ]])}\n",
    "height_ref = 182.88\n",
    "# \n",
    "# # <YOUR IMPLEMENTATION> Estimate heights\n",
    "\n",
    "# 5 f 6 inch = 167.64cm\n",
    "# 6 f = 182.88cm\n",
    "\n",
    "for obj in objects[1:]:\n",
    "    print('Estimating height of %s' % obj)\n",
    "    height = estimate_height(im,coords[obj],height_ref,coords[objects[0]],horizon_line,vpts)\n",
    "    print(\"Its height is:\",height)"
   ]
  },
  {
   "cell_type": "code",
   "execution_count": 92,
   "metadata": {},
   "outputs": [],
   "source": []
  },
  {
   "cell_type": "code",
   "execution_count": 84,
   "metadata": {},
   "outputs": [],
   "source": []
  },
  {
   "cell_type": "code",
   "execution_count": null,
   "metadata": {},
   "outputs": [],
   "source": []
  }
 ],
 "metadata": {
  "kernelspec": {
   "display_name": "Python 3",
   "language": "python",
   "name": "python3"
  },
  "language_info": {
   "codemirror_mode": {
    "name": "ipython",
    "version": 3
   },
   "file_extension": ".py",
   "mimetype": "text/x-python",
   "name": "python",
   "nbconvert_exporter": "python",
   "pygments_lexer": "ipython3",
   "version": "3.6.2"
  }
 },
 "nbformat": 4,
 "nbformat_minor": 2
}
