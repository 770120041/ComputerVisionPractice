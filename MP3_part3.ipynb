{
 "cells": [
  {
   "cell_type": "markdown",
   "metadata": {},
   "source": [
    "# Single-View Geometry (Python)\n",
    "\n",
    "## Usage\n",
    "This code snippet provides an overall code structure and some interactive plot interfaces for the *Single-View Geometry* section of Assignment 3. In [main function](#Main-function), we outline the required functionalities step by step. Some of the functions which involves interactive plots are already provided, but [the rest](#Your-implementation) are left for you to implement.\n",
    "\n",
    "## Package installation\n",
    "- You will need [GUI backend](https://matplotlib.org/faq/usage_faq.html#what-is-a-backend) to enable interactive plots in `matplotlib`.\n",
    "- In this code, we use `tkinter` package. Installation instruction can be found [here](https://anaconda.org/anaconda/tk)."
   ]
  },
  {
   "cell_type": "markdown",
   "metadata": {},
   "source": [
    "# Common imports"
   ]
  },
  {
   "cell_type": "code",
   "execution_count": 1,
   "metadata": {
    "collapsed": true
   },
   "outputs": [],
   "source": [
    "# % matplotlib tk\n",
    "import matplotlib.pyplot as plt\n",
    "import numpy as np\n",
    "\n",
    "from PIL import Image"
   ]
  },
  {
   "cell_type": "markdown",
   "metadata": {},
   "source": [
    "# Provided functions"
   ]
  },
  {
   "cell_type": "code",
   "execution_count": 2,
   "metadata": {
    "collapsed": true
   },
   "outputs": [],
   "source": [
    "def get_input_lines(im, min_lines=3):\n",
    "    \"\"\"\n",
    "    Allows user to input line segments; computes centers and directions.\n",
    "    Inputs:\n",
    "        im: np.ndarray of shape (height, width, 3)\n",
    "        min_lines: minimum number of lines required\n",
    "    Returns:\n",
    "        n: number of lines from input\n",
    "        lines: np.ndarray of shape (3, n)\n",
    "            where each column denotes the parameters of the line equation\n",
    "        centers: np.ndarray of shape (3, n)\n",
    "            where each column denotes the homogeneous coordinates of the centers\n",
    "    \"\"\"\n",
    "    n = 0\n",
    "    lines = np.zeros((3, 0))\n",
    "    centers = np.zeros((3, 0))\n",
    "\n",
    "    plt.figure()\n",
    "    plt.imshow(im)\n",
    "    print('Set at least %d lines to compute vanishing point' % min_lines)\n",
    "    while True:\n",
    "        print('Click the two endpoints, use the right key to undo, and use the middle key to stop input')\n",
    "        clicked = plt.ginput(2, timeout=0, show_clicks=True)\n",
    "        if not clicked or len(clicked) < 2:\n",
    "            if n < min_lines:\n",
    "                print('Need at least %d lines, you have %d now' % (min_lines, n))\n",
    "                continue\n",
    "            else:\n",
    "                # Stop getting lines if number of lines is enough\n",
    "                break\n",
    "\n",
    "        # Unpack user inputs and save as homogeneous coordinates\n",
    "        pt1 = np.array([clicked[0][0], clicked[0][1], 1])\n",
    "        pt2 = np.array([clicked[1][0], clicked[1][1], 1])\n",
    "        # Get line equation using cross product\n",
    "        # Line equation: line[0] * x + line[1] * y + line[2] = 0\n",
    "        line = np.cross(pt1, pt2)\n",
    "        lines = np.append(lines, line.reshape((3, 1)), axis=1)\n",
    "        # Get center coordinate of the line segment\n",
    "        center = (pt1 + pt2) / 2\n",
    "        centers = np.append(centers, center.reshape((3, 1)), axis=1)\n",
    "\n",
    "        # Plot line segment\n",
    "        plt.plot([pt1[0], pt2[0]], [pt1[1], pt2[1]], color='b')\n",
    "\n",
    "        n += 1\n",
    "\n",
    "    return n, lines, centers"
   ]
  },
  {
   "cell_type": "code",
   "execution_count": 3,
   "metadata": {
    "collapsed": true
   },
   "outputs": [],
   "source": [
    "def plot_lines_and_vp(im, lines, vp):\n",
    "    \"\"\"\n",
    "    Plots user-input lines and the calculated vanishing point.\n",
    "    Inputs:\n",
    "        im: np.ndarray of shape (height, width, 3)\n",
    "        lines: np.ndarray of shape (3, n)\n",
    "            where each column denotes the parameters of the line equation\n",
    "        vp: np.ndarray of shape (3, )\n",
    "    \"\"\"\n",
    "    bx1 = min(1, vp[0] / vp[2]) - 10\n",
    "    bx2 = max(im.shape[1], vp[0] / vp[2]) + 10\n",
    "    by1 = min(1, vp[1] / vp[2]) - 10\n",
    "    by2 = max(im.shape[0], vp[1] / vp[2]) + 10\n",
    "\n",
    "    plt.figure()\n",
    "    plt.imshow(im)\n",
    "    for i in range(lines.shape[1]):\n",
    "        if lines[0, i] < lines[1, i]:\n",
    "            pt1 = np.cross(np.array([1, 0, -bx1]), lines[:, i])\n",
    "            pt2 = np.cross(np.array([1, 0, -bx2]), lines[:, i])\n",
    "        else:\n",
    "            pt1 = np.cross(np.array([0, 1, -by1]), lines[:, i])\n",
    "            pt2 = np.cross(np.array([0, 1, -by2]), lines[:, i])\n",
    "        pt1 = pt1 / pt1[2]\n",
    "        pt2 = pt2 / pt2[2]\n",
    "        plt.plot([pt1[0], pt2[0]], [pt1[1], pt2[1]], 'g')\n",
    "\n",
    "    plt.plot(vp[0] / vp[2], vp[1] / vp[2], 'ro')\n",
    "    plt.show()"
   ]
  },
  {
   "cell_type": "code",
   "execution_count": 4,
   "metadata": {
    "collapsed": true
   },
   "outputs": [],
   "source": [
    "def get_top_and_bottom_coordinates(im, obj):\n",
    "    \"\"\"\n",
    "    For a specific object, prompts user to record the top coordinate and the bottom coordinate in the image.\n",
    "    Inputs:\n",
    "        im: np.ndarray of shape (height, width, 3)\n",
    "        obj: string, object name\n",
    "    Returns:\n",
    "        coord: np.ndarray of shape (3, 2)\n",
    "            where coord[:, 0] is the homogeneous coordinate of the top of the object and coord[:, 1] is the homogeneous\n",
    "            coordinate of the bottom\n",
    "    \"\"\"\n",
    "    plt.figure()\n",
    "    plt.imshow(im)\n",
    "\n",
    "    print('Click on the top coordinate of %s' % obj)\n",
    "    clicked = plt.ginput(1, timeout=0, show_clicks=True)\n",
    "    x1, y1 = clicked[0]\n",
    "    # Uncomment this line to enable a vertical line to help align the two coordinates\n",
    "    # plt.plot([x1, x1], [0, im.shape[0]], 'b')\n",
    "    print('Click on the bottom coordinate of %s' % obj)\n",
    "    clicked = plt.ginput(1, timeout=0, show_clicks=True)\n",
    "    x2, y2 = clicked[0]\n",
    "\n",
    "    plt.plot([x1, x2], [y1, y2], 'b')\n",
    "\n",
    "    return np.array([[x1, x2], [y1, y2], [1, 1]])"
   ]
  },
  {
   "cell_type": "markdown",
   "metadata": {},
   "source": [
    "# Your implementation"
   ]
  },
  {
   "cell_type": "code",
   "execution_count": 5,
   "metadata": {
    "collapsed": true
   },
   "outputs": [],
   "source": [
    "\n",
    "\"\"\"\n",
    "Solves for the vanishing point using the user-input lines.\n",
    "\"\"\"\n",
    "def get_vanishing_point(im,lines):\n",
    "    h,w = im.shape[0],im.shape[1]\n",
    "    vp = [0] * 3\n",
    "    left_tmp = np.transpose( lines[:2,:] )\n",
    "    right_tmp = np.transpose(-lines[2, :])\n",
    "    vp[0],vp[1] = np.linalg.lstsq(left_tmp,right_tmp)[0]\n",
    "    vp[2] = 1\n",
    "    return vp\n",
    "    # bx1 = min(1, vp[0]/vp[2])-10\n",
    "    # bx2 = max(w, vp[0]/vp[2])+10\n",
    "    # \n",
    "    # by1 = min(1, vp[1]/vp[2])-10\n",
    "    # by2 = max(h, vp[1]/vp[2])+10\n",
    "    # \n",
    "    # for i in range(lines.shape[1]):\n",
    "    #     if lines[0,i] < lines[1,i]:\n",
    "    #         point1 = (np.cross(np.transpose(np.array([1,0,-bx1])), lines[:, i]))\n",
    "    #         point2 = (np.cross(np.transpose(np.array([1,0,-bx2])), lines[:, i]))\n",
    "    #     else:\n",
    "    #         point1 = (np.cross(np.transpose(np.array([1,0,-by1])), lines[:, i]))\n",
    "    #         point2 = (np.cross(np.transpose(np.array([1,0,-by2])), lines[:, i]))\n",
    "    #     point1 = point1/point1[2]\n",
    "    #     point2 = point2/point2[2]\n",
    "    #     \n",
    "    #     \n",
    "    # coordiante = [vp[0]/vp[2],vp[1]/vp[2]]\n",
    "    "
   ]
  },
  {
   "cell_type": "code",
   "execution_count": 38,
   "metadata": {
    "collapsed": true
   },
   "outputs": [],
   "source": [
    "def get_horizon_line(vpts):\n",
    "    \"\"\"\n",
    "    Calculates the ground horizon line.\n",
    "    \"\"\"\n",
    "    horizon = np.real(np.cross(\n",
    "        np.transpose(vpts[0,:]),\n",
    "        np.transpose(vpts[1,:])\n",
    "    ))\n",
    "    print(\"origin H:\",horizon)\n",
    "    scale_factor = np.sqrt(horizon[0]**2+horizon[1]**2)\n",
    "    return np.true_divide(horizon,scale_factor)"
   ]
  },
  {
   "cell_type": "code",
   "execution_count": 74,
   "metadata": {
    "collapsed": true
   },
   "outputs": [],
   "source": [
    "import matplotlib.lines as mlines\n",
    "def plot_horizon_line(im, hline):\n",
    "    print(\"horizontal line:\",hline)\n",
    "    print(im.shape)\n",
    "    plt.figure()\n",
    "    plt.imshow(im)\n",
    "    # x = np.linspace(-5,5,100)\n",
    "    # y = -hline[0]/hline[1]* x - hline[2]/hline[1]\n",
    "    x1 = 0\n",
    "    y1 = - hline[2]/hline[1]\n",
    "    x2 = im.shape[1]\n",
    "    y2 =  -hline[0]/hline[1]* x2 - hline[2]/hline[1]\n",
    "    print([x1,y1 ], [x2, y2])\n",
    "    \n",
    "    plt.plot([x1, x2],[y1,y2],  'r')\n",
    "    plt.show()\n",
    "    \"\"\"\n",
    "    Plots the horizon line.\n",
    "    \"\"\""
   ]
  },
  {
   "cell_type": "code",
   "execution_count": 145,
   "metadata": {
    "collapsed": true
   },
   "outputs": [],
   "source": [
    "import sympy\n",
    "def get_camera_parameters(vpts):\n",
    "    # vp_z =  np.transpose(np.array([-205, 213, 1]))\n",
    "    # vp_x =  np.transpose(np.array([1295 ,222 ,1]))\n",
    "    # vp_y =  np.transpose(np.array([428, 4683 ,1]))\n",
    "    vp_x = vpts[0,:] \n",
    "    vp_y =  vpts[1,:] \n",
    "    vp_z =  vpts[2,:] \n",
    "    print(\"vp_X:\",vp_x)\n",
    "    print(\"vp_Y:\",vp_y)\n",
    "    print(\"vp_z:\",vp_z)\n",
    "    u = sympy.Symbol('u')\n",
    "    v = sympy.Symbol('v')\n",
    "    f = sympy.Symbol('f')\n",
    "    sol = ( sympy.solve([-u*(vp_x[0]+vp_y[0]-vp_y[0]-vp_z[0]) +\\\n",
    "                 vp_x[0]*vp_y[0]-vp_y[0]*vp_z[0] + \\\n",
    "                 -v*(vp_x[1]+vp_y[1]-vp_y[1]-vp_z[1]) +\\\n",
    "                 vp_x[1]*vp_y[1]-vp_y[1]*vp_z[1] \n",
    "                ,\n",
    "                  -u*(vp_z[0]+vp_x[0]-vp_y[0]-vp_z[0]) +\\\n",
    "                 vp_z[0]*vp_x[0]- vp_y[0]*vp_z[0] + \\\n",
    "                 -v*(vp_z[1]+vp_x[1]-vp_y[1]+vp_z[1]) +\\\n",
    "                 vp_z[1]*vp_x[1]-vp_y[1]*vp_z[1] \n",
    "                 ],[u,v]))\n",
    "    print(sol)\n",
    "    u_sol,v_sol = sol[u],sol[v]\n",
    "    print(\"U_sol:\",u_sol,type(u_sol))\n",
    "    print(\"V_sol:\",v_sol)\n",
    "    u = sympy.Float(u_sol)\n",
    "    v = sympy.Float(v_sol)\n",
    "    f_sol = sympy.solve((u_sol-vp_x[0])*(u_sol-vp_y[0]) + (v_sol-vp_x[1]) * (v_sol - vp_y[1]) + f*f ,f )\n",
    "    print(\"f_sol:\",f_sol)\n",
    "    f = sympy.Float(f_sol)\n",
    "    f = f[0]\n",
    "    return u,v,f\n",
    "    "
   ]
  },
  {
   "cell_type": "code",
   "execution_count": 146,
   "metadata": {
    "collapsed": true
   },
   "outputs": [],
   "source": [
    "def get_rotation_matrix():\n",
    "    \"\"\"\n",
    "    Computes the rotation matrix using the camera parameters.\n",
    "    \"\"\"\n",
    "    # <YOUR IMPLEMENTATION>\n",
    "    return R"
   ]
  },
  {
   "cell_type": "code",
   "execution_count": 147,
   "metadata": {
    "collapsed": true
   },
   "outputs": [],
   "source": [
    "def estimate_height():\n",
    "    \"\"\"\n",
    "    Estimates height for a specific object using the recorded coordinates. You might need to plot additional images here for\n",
    "    your report.\n",
    "    \"\"\"\n",
    "    # <YOUR IMPLEMENTATION>\n",
    "    pass"
   ]
  },
  {
   "cell_type": "markdown",
   "metadata": {},
   "source": [
    "# Main function"
   ]
  },
  {
   "cell_type": "code",
   "execution_count": 149,
   "metadata": {},
   "outputs": [
    {
     "name": "stdout",
     "output_type": "stream",
     "text": [
      "[[0. 0. 0.]\n [0. 0. 0.]\n [0. 0. 0.]]\norigin H: [    -15    1573 -341225]\nhorizontal line: [-9.53548509e-03  9.99954536e-01 -2.16916393e+02]\n(685, 1024, 3)\n[0, 216.9262555626192] [1024, 226.69103623649076]\nvp_X: [-202  215    1]\nvp_Y: [1371  230    1]\nvp_z: [ 503 4867    1]\n{u: 23813259333/14169491, v: 2594160175/14169491}\nU_sol: 23813259333/14169491 <class 'sympy.core.numbers.Rational'>\nV_sol: 2594160175/14169491\nf_sol: [-3*sqrt(13035897751477386670)*I/14169491, 3*sqrt(13035897751477386670)*I/14169491]\n"
     ]
    },
    {
     "ename": "TypeError",
     "evalue": "cannot create mpf from [-3*sqrt(13035897751477386670)*I/14169491, 3*sqrt(13035897751477386670)*I/14169491]",
     "traceback": [
      "\u001b[0;31m---------------------------------------------------------------------------\u001b[0m",
      "\u001b[0;31mAttributeError\u001b[0m                            Traceback (most recent call last)",
      "\u001b[0;32mC:\\Users\\bluerain\\PycharmProjects\\cvmp2\\new_venv\\lib\\site-packages\\sympy\\core\\numbers.py\u001b[0m in \u001b[0;36m__new__\u001b[0;34m(***failed resolving arguments***)\u001b[0m\n\u001b[1;32m   1072\u001b[0m             \u001b[0;32mtry\u001b[0m\u001b[0;34m:\u001b[0m\u001b[0;34m\u001b[0m\u001b[0;34m\u001b[0m\u001b[0m\n\u001b[0;32m-> 1073\u001b[0;31m                 \u001b[0m_mpf_\u001b[0m \u001b[0;34m=\u001b[0m \u001b[0mnum\u001b[0m\u001b[0;34m.\u001b[0m\u001b[0m_as_mpf_val\u001b[0m\u001b[0;34m(\u001b[0m\u001b[0mprecision\u001b[0m\u001b[0;34m)\u001b[0m\u001b[0;34m\u001b[0m\u001b[0;34m\u001b[0m\u001b[0m\n\u001b[0m\u001b[1;32m   1074\u001b[0m             \u001b[0;32mexcept\u001b[0m \u001b[0;34m(\u001b[0m\u001b[0mNotImplementedError\u001b[0m\u001b[0;34m,\u001b[0m \u001b[0mAttributeError\u001b[0m\u001b[0;34m)\u001b[0m\u001b[0;34m:\u001b[0m\u001b[0;34m\u001b[0m\u001b[0;34m\u001b[0m\u001b[0m\n",
      "\u001b[0;31mAttributeError\u001b[0m: 'list' object has no attribute '_as_mpf_val'",
      "\nDuring handling of the above exception, another exception occurred:\n",
      "\u001b[0;31mTypeError\u001b[0m                                 Traceback (most recent call last)",
      "\u001b[0;32m<ipython-input-149-3637adbb6745>\u001b[0m in \u001b[0;36m<module>\u001b[0;34m()\u001b[0m\n\u001b[1;32m     29\u001b[0m \u001b[0;31m# <YOUR IMPLEMENTATION> Solve for the camera parameters (f, u, v)\u001b[0m\u001b[0;34m\u001b[0m\u001b[0;34m\u001b[0m\u001b[0;34m\u001b[0m\u001b[0m\n\u001b[1;32m     30\u001b[0m \u001b[0;34m\u001b[0m\u001b[0m\n\u001b[0;32m---> 31\u001b[0;31m \u001b[0mf\u001b[0m\u001b[0;34m,\u001b[0m \u001b[0mu\u001b[0m\u001b[0;34m,\u001b[0m \u001b[0mv\u001b[0m \u001b[0;34m=\u001b[0m \u001b[0mget_camera_parameters\u001b[0m\u001b[0;34m(\u001b[0m\u001b[0mvpts\u001b[0m\u001b[0;34m)\u001b[0m\u001b[0;34m\u001b[0m\u001b[0;34m\u001b[0m\u001b[0m\n\u001b[0m\u001b[1;32m     32\u001b[0m \u001b[0mprint\u001b[0m\u001b[0;34m(\u001b[0m\u001b[0;34m\"f:\"\u001b[0m\u001b[0;34m,\u001b[0m\u001b[0mf\u001b[0m\u001b[0;34m)\u001b[0m\u001b[0;34m\u001b[0m\u001b[0;34m\u001b[0m\u001b[0m\n\u001b[1;32m     33\u001b[0m \u001b[0mprint\u001b[0m\u001b[0;34m(\u001b[0m\u001b[0;34m\"u:\"\u001b[0m\u001b[0;34m,\u001b[0m\u001b[0mu\u001b[0m\u001b[0;34m)\u001b[0m\u001b[0;34m\u001b[0m\u001b[0;34m\u001b[0m\u001b[0m\n",
      "\u001b[0;32m<ipython-input-145-5fb47458db38>\u001b[0m in \u001b[0;36mget_camera_parameters\u001b[0;34m(vpts)\u001b[0m\n\u001b[1;32m     28\u001b[0m     \u001b[0mf_sol\u001b[0m \u001b[0;34m=\u001b[0m \u001b[0msympy\u001b[0m\u001b[0;34m.\u001b[0m\u001b[0msolve\u001b[0m\u001b[0;34m(\u001b[0m\u001b[0;34m(\u001b[0m\u001b[0mu_sol\u001b[0m\u001b[0;34m-\u001b[0m\u001b[0mvp_x\u001b[0m\u001b[0;34m[\u001b[0m\u001b[0;36m0\u001b[0m\u001b[0;34m]\u001b[0m\u001b[0;34m)\u001b[0m\u001b[0;34m*\u001b[0m\u001b[0;34m(\u001b[0m\u001b[0mu_sol\u001b[0m\u001b[0;34m-\u001b[0m\u001b[0mvp_y\u001b[0m\u001b[0;34m[\u001b[0m\u001b[0;36m0\u001b[0m\u001b[0;34m]\u001b[0m\u001b[0;34m)\u001b[0m \u001b[0;34m+\u001b[0m \u001b[0;34m(\u001b[0m\u001b[0mv_sol\u001b[0m\u001b[0;34m-\u001b[0m\u001b[0mvp_x\u001b[0m\u001b[0;34m[\u001b[0m\u001b[0;36m1\u001b[0m\u001b[0;34m]\u001b[0m\u001b[0;34m)\u001b[0m \u001b[0;34m*\u001b[0m \u001b[0;34m(\u001b[0m\u001b[0mv_sol\u001b[0m \u001b[0;34m-\u001b[0m \u001b[0mvp_y\u001b[0m\u001b[0;34m[\u001b[0m\u001b[0;36m1\u001b[0m\u001b[0;34m]\u001b[0m\u001b[0;34m)\u001b[0m \u001b[0;34m+\u001b[0m \u001b[0mf\u001b[0m\u001b[0;34m*\u001b[0m\u001b[0mf\u001b[0m \u001b[0;34m,\u001b[0m\u001b[0mf\u001b[0m \u001b[0;34m)\u001b[0m\u001b[0;34m\u001b[0m\u001b[0;34m\u001b[0m\u001b[0m\n\u001b[1;32m     29\u001b[0m     \u001b[0mprint\u001b[0m\u001b[0;34m(\u001b[0m\u001b[0;34m\"f_sol:\"\u001b[0m\u001b[0;34m,\u001b[0m\u001b[0mf_sol\u001b[0m\u001b[0;34m)\u001b[0m\u001b[0;34m\u001b[0m\u001b[0;34m\u001b[0m\u001b[0m\n\u001b[0;32m---> 30\u001b[0;31m     \u001b[0mf\u001b[0m \u001b[0;34m=\u001b[0m \u001b[0msympy\u001b[0m\u001b[0;34m.\u001b[0m\u001b[0mFloat\u001b[0m\u001b[0;34m(\u001b[0m\u001b[0mf_sol\u001b[0m\u001b[0;34m)\u001b[0m\u001b[0;34m\u001b[0m\u001b[0;34m\u001b[0m\u001b[0m\n\u001b[0m\u001b[1;32m     31\u001b[0m     \u001b[0mf\u001b[0m \u001b[0;34m=\u001b[0m \u001b[0mf\u001b[0m\u001b[0;34m[\u001b[0m\u001b[0;36m0\u001b[0m\u001b[0;34m]\u001b[0m\u001b[0;34m\u001b[0m\u001b[0;34m\u001b[0m\u001b[0m\n\u001b[1;32m     32\u001b[0m     \u001b[0;32mreturn\u001b[0m \u001b[0mu\u001b[0m\u001b[0;34m,\u001b[0m\u001b[0mv\u001b[0m\u001b[0;34m,\u001b[0m\u001b[0mf\u001b[0m\u001b[0;34m\u001b[0m\u001b[0;34m\u001b[0m\u001b[0m\n",
      "\u001b[0;32mC:\\Users\\bluerain\\PycharmProjects\\cvmp2\\new_venv\\lib\\site-packages\\sympy\\core\\numbers.py\u001b[0m in \u001b[0;36m__new__\u001b[0;34m(***failed resolving arguments***)\u001b[0m\n\u001b[1;32m   1073\u001b[0m                 \u001b[0m_mpf_\u001b[0m \u001b[0;34m=\u001b[0m \u001b[0mnum\u001b[0m\u001b[0;34m.\u001b[0m\u001b[0m_as_mpf_val\u001b[0m\u001b[0;34m(\u001b[0m\u001b[0mprecision\u001b[0m\u001b[0;34m)\u001b[0m\u001b[0;34m\u001b[0m\u001b[0;34m\u001b[0m\u001b[0m\n\u001b[1;32m   1074\u001b[0m             \u001b[0;32mexcept\u001b[0m \u001b[0;34m(\u001b[0m\u001b[0mNotImplementedError\u001b[0m\u001b[0;34m,\u001b[0m \u001b[0mAttributeError\u001b[0m\u001b[0;34m)\u001b[0m\u001b[0;34m:\u001b[0m\u001b[0;34m\u001b[0m\u001b[0;34m\u001b[0m\u001b[0m\n\u001b[0;32m-> 1075\u001b[0;31m                 \u001b[0m_mpf_\u001b[0m \u001b[0;34m=\u001b[0m \u001b[0mmpmath\u001b[0m\u001b[0;34m.\u001b[0m\u001b[0mmpf\u001b[0m\u001b[0;34m(\u001b[0m\u001b[0mnum\u001b[0m\u001b[0;34m,\u001b[0m \u001b[0mprec\u001b[0m\u001b[0;34m=\u001b[0m\u001b[0mprecision\u001b[0m\u001b[0;34m)\u001b[0m\u001b[0;34m.\u001b[0m\u001b[0m_mpf_\u001b[0m\u001b[0;34m\u001b[0m\u001b[0;34m\u001b[0m\u001b[0m\n\u001b[0m\u001b[1;32m   1076\u001b[0m \u001b[0;34m\u001b[0m\u001b[0m\n\u001b[1;32m   1077\u001b[0m         \u001b[0;31m# special cases\u001b[0m\u001b[0;34m\u001b[0m\u001b[0;34m\u001b[0m\u001b[0;34m\u001b[0m\u001b[0m\n",
      "\u001b[0;32mC:\\Users\\bluerain\\PycharmProjects\\cvmp2\\new_venv\\lib\\site-packages\\mpmath\\ctx_mp_python.py\u001b[0m in \u001b[0;36m__new__\u001b[0;34m(cls, val, **kwargs)\u001b[0m\n\u001b[1;32m     75\u001b[0m         \u001b[0;32melse\u001b[0m\u001b[0;34m:\u001b[0m\u001b[0;34m\u001b[0m\u001b[0;34m\u001b[0m\u001b[0m\n\u001b[1;32m     76\u001b[0m             \u001b[0mv\u001b[0m \u001b[0;34m=\u001b[0m \u001b[0mnew\u001b[0m\u001b[0;34m(\u001b[0m\u001b[0mcls\u001b[0m\u001b[0;34m)\u001b[0m\u001b[0;34m\u001b[0m\u001b[0;34m\u001b[0m\u001b[0m\n\u001b[0;32m---> 77\u001b[0;31m             \u001b[0mv\u001b[0m\u001b[0;34m.\u001b[0m\u001b[0m_mpf_\u001b[0m \u001b[0;34m=\u001b[0m \u001b[0mmpf_pos\u001b[0m\u001b[0;34m(\u001b[0m\u001b[0mcls\u001b[0m\u001b[0;34m.\u001b[0m\u001b[0mmpf_convert_arg\u001b[0m\u001b[0;34m(\u001b[0m\u001b[0mval\u001b[0m\u001b[0;34m,\u001b[0m \u001b[0mprec\u001b[0m\u001b[0;34m,\u001b[0m \u001b[0mrounding\u001b[0m\u001b[0;34m)\u001b[0m\u001b[0;34m,\u001b[0m \u001b[0mprec\u001b[0m\u001b[0;34m,\u001b[0m \u001b[0mrounding\u001b[0m\u001b[0;34m)\u001b[0m\u001b[0;34m\u001b[0m\u001b[0;34m\u001b[0m\u001b[0m\n\u001b[0m\u001b[1;32m     78\u001b[0m             \u001b[0;32mreturn\u001b[0m \u001b[0mv\u001b[0m\u001b[0;34m\u001b[0m\u001b[0;34m\u001b[0m\u001b[0m\n\u001b[1;32m     79\u001b[0m \u001b[0;34m\u001b[0m\u001b[0m\n",
      "\u001b[0;32mC:\\Users\\bluerain\\PycharmProjects\\cvmp2\\new_venv\\lib\\site-packages\\mpmath\\ctx_mp_python.py\u001b[0m in \u001b[0;36mmpf_convert_arg\u001b[0;34m(cls, x, prec, rounding)\u001b[0m\n\u001b[1;32m     94\u001b[0m                 \u001b[0;32mreturn\u001b[0m \u001b[0ma\u001b[0m\u001b[0;34m\u001b[0m\u001b[0;34m\u001b[0m\u001b[0m\n\u001b[1;32m     95\u001b[0m             \u001b[0;32mraise\u001b[0m \u001b[0mValueError\u001b[0m\u001b[0;34m(\u001b[0m\u001b[0;34m\"can only create mpf from zero-width interval\"\u001b[0m\u001b[0;34m)\u001b[0m\u001b[0;34m\u001b[0m\u001b[0;34m\u001b[0m\u001b[0m\n\u001b[0;32m---> 96\u001b[0;31m         \u001b[0;32mraise\u001b[0m \u001b[0mTypeError\u001b[0m\u001b[0;34m(\u001b[0m\u001b[0;34m\"cannot create mpf from \"\u001b[0m \u001b[0;34m+\u001b[0m \u001b[0mrepr\u001b[0m\u001b[0;34m(\u001b[0m\u001b[0mx\u001b[0m\u001b[0;34m)\u001b[0m\u001b[0;34m)\u001b[0m\u001b[0;34m\u001b[0m\u001b[0;34m\u001b[0m\u001b[0m\n\u001b[0m\u001b[1;32m     97\u001b[0m \u001b[0;34m\u001b[0m\u001b[0m\n\u001b[1;32m     98\u001b[0m     \u001b[0;34m@\u001b[0m\u001b[0mclassmethod\u001b[0m\u001b[0;34m\u001b[0m\u001b[0;34m\u001b[0m\u001b[0m\n",
      "\u001b[0;31mTypeError\u001b[0m: cannot create mpf from [-3*sqrt(13035897751477386670)*I/14169491, 3*sqrt(13035897751477386670)*I/14169491]"
     ],
     "output_type": "error"
    }
   ],
   "source": [
    "CSL = \"data\\\\part3\\\\CSL.jpg\"\n",
    "im = np.asarray(Image.open(CSL))\n",
    "\n",
    "# Part 1\n",
    "# Get vanishing points for each of the directions\n",
    "\n",
    "num_vpts = 3\n",
    "vpts = np.zeros((3, num_vpts))\n",
    "# for i in range(num_vpts):\n",
    "#     print('Getting vanishing point %d' % i)\n",
    "#     # Get at least three lines from user input\n",
    "#     n, lines, centers = get_input_lines(im)\n",
    "#     # <YOUR IMPLEMENTATION> Solve for vanishing point\n",
    "#     vpts[:, i] = get_vanishing_point(im,lines)\n",
    "#     # Plot the lines and the vanishing point\n",
    "#     plot_lines_and_vp(im, lines, vpts[:, i])\n",
    "\n",
    "print(vpts)\n",
    "vpts = np.array([\n",
    "    [-202, 215 ,1],\n",
    "    [1371 ,230 ,1],\n",
    "    [503 ,4867, 1]\n",
    "])\n",
    "# plot horizon line\n",
    "horizon_line = get_horizon_line(vpts)\n",
    "plot_horizon_line(im, horizon_line)\n",
    "\n",
    "# Part 2\n",
    "# <YOUR IMPLEMENTATION> Solve for the camera parameters (f, u, v)\n",
    "\n",
    "f, u, v = get_camera_parameters(vpts)\n",
    "print(\"f:\",f)\n",
    "print(\"u:\",u)\n",
    "print(\"v:\",v)\n",
    "# \n",
    "# # Part 3\n",
    "# # <YOUR IMPLEMENTATION> Solve for the rotation matrix\n",
    "# R = get_rotation_matrix()\n",
    "# \n",
    "# # Part 4\n",
    "# # Record image coordinates for each object and store in map\n",
    "# objects = ('person', 'CSL building', 'the spike statue', 'the lamp posts')\n",
    "# coords = dict()\n",
    "# for obj in objects:\n",
    "#     coords[obj] = get_top_and_bottom_coordinates(im, obj)\n",
    "# \n",
    "# # <YOUR IMPLEMENTATION> Estimate heights\n",
    "# for obj in objects[1:]:\n",
    "#     print('Estimating height of %s' % obj)\n",
    "#     height = estimate_height()\n"
   ]
  },
  {
   "cell_type": "code",
   "execution_count": 25,
   "metadata": {},
   "outputs": [],
   "source": []
  },
  {
   "cell_type": "code",
   "execution_count": null,
   "metadata": {},
   "outputs": [],
   "source": []
  }
 ],
 "metadata": {
  "kernelspec": {
   "display_name": "Python 3",
   "language": "python",
   "name": "python3"
  },
  "language_info": {
   "codemirror_mode": {
    "name": "ipython",
    "version": 3
   },
   "file_extension": ".py",
   "mimetype": "text/x-python",
   "name": "python",
   "nbconvert_exporter": "python",
   "pygments_lexer": "ipython3",
   "version": "3.6.2"
  }
 },
 "nbformat": 4,
 "nbformat_minor": 2
}
